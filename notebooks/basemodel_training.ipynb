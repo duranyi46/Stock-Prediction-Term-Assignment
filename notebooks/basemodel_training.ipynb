{
 "cells": [
  {
   "cell_type": "markdown",
   "metadata": {},
   "source": [
    "## Read Data from Postgres"
   ]
  },
  {
   "cell_type": "code",
   "metadata": {
    "ExecuteTime": {
     "end_time": "2025-01-10T09:43:04.028244Z",
     "start_time": "2025-01-10T09:43:03.718434Z"
    }
   },
   "source": [
    "import pandas as pd\n",
    "import numpy as np\n",
    "import warnings\n",
    "import joblib\n",
    "warnings.filterwarnings('ignore')\n",
    "import matplotlib.pyplot as plt\n",
    "import seaborn as sns\n",
    "\n",
    "from catboost import CatBoostRegressor\n",
    "import optuna\n",
    "import lightgbm as lgb\n",
    "import xgboost as xgb\n",
    "from sklearn.metrics import mean_squared_error\n",
    "from sklearn.metrics import mean_absolute_error\n",
    "import numpy as np\n",
    "\n",
    "from dotenv import load_dotenv\n",
    "load_dotenv()\n",
    "\n",
    "import os\n",
    "import joblib\n",
    "import sys\n",
    "sys.path.append('../scripts')\n",
    "\n",
    "from process import process_data, split_dataframe_by_period, read_data\n",
    "\n",
    "models_directory = \"../models\"\n",
    "\n",
    "os.makedirs(models_directory, exist_ok=True)\n",
    "print(f\"Models will be saved in: {os.path.abspath(models_directory)}\")"
   ],
   "outputs": [
    {
     "name": "stdout",
     "output_type": "stream",
     "text": [
      "Models will be saved in: /Users/cagrigoksel/PycharmProjects/Stock-Prediction-Term-Assignment/models\n"
     ]
    }
   ],
   "execution_count": 1
  },
  {
   "cell_type": "code",
   "metadata": {
    "ExecuteTime": {
     "end_time": "2025-01-10T09:43:04.527117Z",
     "start_time": "2025-01-10T09:43:04.120079Z"
    }
   },
   "source": [
    "df = read_data(\"historical_stock_data\")\n",
    "train_df, test_df, validation_df, prediction_df = process_data(df, split_periods=True)\n",
    "df = read_data(\"historical_stock_data\")"
   ],
   "outputs": [],
   "execution_count": 2
  },
  {
   "cell_type": "code",
   "metadata": {
    "ExecuteTime": {
     "end_time": "2025-01-10T09:43:04.594893Z",
     "start_time": "2025-01-10T09:43:04.589813Z"
    }
   },
   "source": [
    "train_df.shape"
   ],
   "outputs": [
    {
     "data": {
      "text/plain": [
       "(3719, 77)"
      ]
     },
     "execution_count": 3,
     "metadata": {},
     "output_type": "execute_result"
    }
   ],
   "execution_count": 3
  },
  {
   "cell_type": "code",
   "metadata": {
    "ExecuteTime": {
     "end_time": "2025-01-10T09:43:04.674738Z",
     "start_time": "2025-01-10T09:43:04.670820Z"
    }
   },
   "source": [
    "print(train_df.shape)\n",
    "print(test_df.shape)\n",
    "print(validation_df.shape)\n",
    "print(prediction_df.shape)"
   ],
   "outputs": [
    {
     "name": "stdout",
     "output_type": "stream",
     "text": [
      "(3719, 77)\n",
      "(1413, 77)\n",
      "(468, 77)\n",
      "(468, 77)\n"
     ]
    }
   ],
   "execution_count": 4
  },
  {
   "cell_type": "code",
   "metadata": {
    "ExecuteTime": {
     "end_time": "2025-01-10T09:43:04.831016Z",
     "start_time": "2025-01-10T09:43:04.825403Z"
    }
   },
   "source": [
    "unique_stocks = train_df['stock_name'].unique().tolist()\n",
    "train_df.columns"
   ],
   "outputs": [
    {
     "data": {
      "text/plain": [
       "Index(['date', 'stock_name', 'open', 'high', 'low', 'close', 'adj_close',\n",
       "       'volume', 'weekly_price_diff', 'range', 'gap', 'volatility',\n",
       "       'volume_ma', 'volume_ratio', 'rsi_2w', 'normalized_rsi_2w',\n",
       "       'momentum_4w', 'momentum_8w', 'ema12', 'ema26', 'macd', 'signal_line',\n",
       "       'MACD_Distance', 'macd_short', 'macd_long', 'macd_diff', 'low14',\n",
       "       'high14', '%K', '%D', 'Stochastic_K_D_Distance', 'obv', 'vwap',\n",
       "       'VWAP_Distance', 'hl', 'hc', 'lc', 'tr', 'atr', 'ATR_Percentage',\n",
       "       'Pivot', 'Pivot_Distance', 'Support_Distance', 'Resistance_Distance',\n",
       "       'weekly_return', 'next_weekly_return', 'adj_close_lag_1w',\n",
       "       'volume_lag_1w', 'weekly_return_lag_1w', 'adj_close_lag_2w',\n",
       "       'volume_lag_2w', 'weekly_return_lag_2w', 'adj_close_lag_3w',\n",
       "       'volume_lag_3w', 'weekly_return_lag_3w', 'adj_close_lag_4w',\n",
       "       'volume_lag_4w', 'weekly_return_lag_4w', 'price_to_range_ratio',\n",
       "       'volume_change', 'adj_close_change', 'momentum_2w',\n",
       "       'weekly_return_lag_5w', 'weekly_return_lag_6w', 'weekly_return_lag_7w',\n",
       "       'weekly_return_lag_8w', 'rolling_mean_4w', 'rolling_std_4w',\n",
       "       'bollinger_upper', 'bollinger_lower', 'bollinger_bandwidth',\n",
       "       'rolling_skew_4w', 'rolling_kurt_4w', 'sharpe_ratio', 'day_of_week',\n",
       "       'week_of_year', 'month'],\n",
       "      dtype='object')"
      ]
     },
     "execution_count": 5,
     "metadata": {},
     "output_type": "execute_result"
    }
   ],
   "execution_count": 5
  },
  {
   "cell_type": "code",
   "metadata": {
    "ExecuteTime": {
     "end_time": "2025-01-10T09:43:04.920579Z",
     "start_time": "2025-01-10T09:43:04.915378Z"
    }
   },
   "source": [
    "df.dtypes"
   ],
   "outputs": [
    {
     "data": {
      "text/plain": [
       "date          datetime64[ns]\n",
       "open                 float64\n",
       "high                 float64\n",
       "low                  float64\n",
       "close                float64\n",
       "adj_close            float64\n",
       "volume                 int64\n",
       "stock_name            object\n",
       "dtype: object"
      ]
     },
     "execution_count": 6,
     "metadata": {},
     "output_type": "execute_result"
    }
   ],
   "execution_count": 6
  },
  {
   "cell_type": "code",
   "metadata": {
    "ExecuteTime": {
     "end_time": "2025-01-10T09:43:04.985155Z",
     "start_time": "2025-01-10T09:43:04.978833Z"
    }
   },
   "source": [
    "features = ['adj_close',\n",
    "       'volume', 'weekly_price_diff', 'range', 'gap', 'volatility',\n",
    "       'volume_ma', 'volume_ratio', 'rsi_2w', 'normalized_rsi_2w',\n",
    "       'momentum_4w', 'momentum_8w', 'ema12', 'ema26', 'macd', 'signal_line',\n",
    "       'MACD_Distance', 'macd_short', 'macd_long', 'macd_diff', 'low14',\n",
    "       'high14', '%K', '%D', 'Stochastic_K_D_Distance', 'obv', 'vwap',\n",
    "       'VWAP_Distance', 'hl', 'hc', 'lc', 'tr', 'atr', 'ATR_Percentage',\n",
    "       'Pivot', 'Pivot_Distance', 'Support_Distance', 'Resistance_Distance',\n",
    "       'weekly_return', 'adj_close_lag_1w',\n",
    "       'volume_lag_1w', 'weekly_return_lag_1w', 'adj_close_lag_2w',\n",
    "       'volume_lag_2w', 'weekly_return_lag_2w', 'adj_close_lag_3w',\n",
    "       'volume_lag_3w', 'weekly_return_lag_3w', 'adj_close_lag_4w',\n",
    "       'volume_lag_4w', 'weekly_return_lag_4w', 'price_to_range_ratio',\n",
    "       'volume_change', 'adj_close_change', 'momentum_2w',\n",
    "       'weekly_return_lag_5w', 'weekly_return_lag_6w', 'weekly_return_lag_7w',\n",
    "       'weekly_return_lag_8w', 'rolling_mean_4w', 'rolling_std_4w',\n",
    "       'bollinger_upper', 'bollinger_lower', 'bollinger_bandwidth',\n",
    "       'rolling_skew_4w', 'rolling_kurt_4w', 'sharpe_ratio', 'day_of_week',\n",
    "       'week_of_year', 'month']"
   ],
   "outputs": [],
   "execution_count": 7
  },
  {
   "cell_type": "code",
   "metadata": {
    "ExecuteTime": {
     "end_time": "2025-01-10T09:43:05.066517Z",
     "start_time": "2025-01-10T09:43:05.057635Z"
    }
   },
   "source": [
    "def backtest_top3_with_sharpe(\n",
    "    predictions_df, data, unique_stocks, initial_balance=100000, action_fee=0.001,\n",
    "    risk_free_rate=0.0, take_profit=0.04):\n",
    "    \n",
    "    total_cash = initial_balance\n",
    "    holdings = {stock: 0 for stock in unique_stocks}\n",
    "    purchase_prices = {stock: 0 for stock in unique_stocks}\n",
    "    actions = []  # List to store actions\n",
    "    trade_returns = []  # List to store trade returns\n",
    "\n",
    "    predictions_df = predictions_df.sort_values(by='date')\n",
    "\n",
    "    for date in predictions_df['date'].unique():\n",
    "        daily_predictions = predictions_df[predictions_df['date'] == date]\n",
    "        top_3_stocks = daily_predictions.nlargest(5, 'predicted_return')['stock_name'].tolist()\n",
    "\n",
    "        for stock in unique_stocks:\n",
    "            stock_data = data[data['stock_name'] == stock].reset_index(drop=True)\n",
    "            current_day_data = stock_data[stock_data['date'] == date]\n",
    "\n",
    "            if len(current_day_data) == 0 or stock not in top_3_stocks:\n",
    "                continue\n",
    "\n",
    "            current_price = current_day_data.iloc[0]['adj_close']\n",
    "            next_day_data = stock_data[stock_data['date'] > date].iloc[:1]\n",
    "            if next_day_data.empty:\n",
    "                continue\n",
    "\n",
    "            next_open_price = next_day_data.iloc[0]['open']\n",
    "\n",
    "            # Buy logic\n",
    "            if stock in top_3_stocks and holdings[stock] == 0:\n",
    "                investment_amount = total_cash / 3\n",
    "                shares_to_buy = max(1, investment_amount // next_open_price)\n",
    "\n",
    "                if shares_to_buy > 0:\n",
    "                    total_cash -= shares_to_buy * next_open_price * (1 + action_fee)\n",
    "                    holdings[stock] += shares_to_buy\n",
    "                    purchase_prices[stock] = next_open_price\n",
    "                    actions.append({\n",
    "                        'signal_date': date,\n",
    "                        'trade_date': next_day_data.iloc[0]['date'],\n",
    "                        'stock': stock,\n",
    "                        'action': 'buy',\n",
    "                        'price': next_open_price,\n",
    "                        'shares': shares_to_buy,\n",
    "                        'total_cash': total_cash,\n",
    "                        'portfolio_value': total_cash + sum(\n",
    "                            holdings[s] * stock_data[stock_data['date'] <= date].iloc[-1]['close']\n",
    "                            for s in unique_stocks\n",
    "                        ),\n",
    "                        'profit_percentage': 0  # No profit percentage on buy\n",
    "                    })\n",
    "\n",
    "            # Sell logic with take profit and stop loss\n",
    "            if holdings[stock] > 0:\n",
    "                # Calculate return\n",
    "                trade_return = (next_open_price - purchase_prices[stock]) / purchase_prices[stock]\n",
    "\n",
    "                # Check thresholds\n",
    "                if trade_return >= take_profit:\n",
    "                    total_cash += holdings[stock] * next_open_price * (1 - action_fee)\n",
    "                    trade_returns.append(trade_return)\n",
    "                    actions.append({\n",
    "                        'signal_date': date,\n",
    "                        'trade_date': next_day_data.iloc[0]['date'],\n",
    "                        'stock': stock,\n",
    "                        'action': 'sell',\n",
    "                        'price': next_open_price,\n",
    "                        'shares': holdings[stock],\n",
    "                        'total_cash': total_cash,\n",
    "                        'portfolio_value': total_cash + sum(\n",
    "                            holdings[s] * stock_data[stock_data['date'] <= date].iloc[-1]['close']\n",
    "                            for s in unique_stocks\n",
    "                        ),\n",
    "                        'profit_percentage': trade_return * 100\n",
    "                    })\n",
    "                    holdings[stock] = 0  # Reset holdings\n",
    "\n",
    "    # Convert actions to a DataFrame\n",
    "    actions_df = pd.DataFrame(actions)\n",
    "\n",
    "    # Calculate final portfolio value\n",
    "    final_portfolio_value = total_cash + sum(\n",
    "        holdings[stock] * data[data['stock_name'] == stock].iloc[-1]['close']\n",
    "        for stock in unique_stocks\n",
    "    )\n",
    "    net_profit = final_portfolio_value - initial_balance\n",
    "    roi = (net_profit / initial_balance) * 100\n",
    "\n",
    "    # Calculate Sharpe Ratio\n",
    "    if trade_returns:\n",
    "        average_return = np.mean(trade_returns)\n",
    "        std_dev_return = np.std(trade_returns)\n",
    "        sharpe_ratio = (average_return - risk_free_rate) / (std_dev_return + 1e-8)\n",
    "    else:\n",
    "        sharpe_ratio = 0\n",
    "\n",
    "    return final_portfolio_value, net_profit, roi, sharpe_ratio, actions_df\n"
   ],
   "outputs": [],
   "execution_count": 8
  },
  {
   "cell_type": "code",
   "metadata": {
    "ExecuteTime": {
     "end_time": "2025-01-10T09:43:05.158694Z",
     "start_time": "2025-01-10T09:43:05.150670Z"
    }
   },
   "source": [
    "def generic_objective(trial, model_type, optimize_metric):\n",
    "    \"\"\"\n",
    "    Generic objective function to optimize ROI or Sharpe Ratio for different model types.\n",
    "    \n",
    "    Args:\n",
    "        trial: Optuna trial object.\n",
    "        model_type: One of 'lightgbm', 'xgboost', 'catboost'.\n",
    "        optimize_metric: 'roi' or 'sharpe_ratio'.\n",
    "    \n",
    "    Returns:\n",
    "        Negative of the selected metric (to maximize).\n",
    "    \"\"\"\n",
    "    # Fix the trailing comma issue\n",
    "    X_train = train_df[features]  # Ensure this is a DataFrame\n",
    "    X_test = test_df[features]  # Ensure this is a DataFrame\n",
    "    y_train = train_df['next_weekly_return']\n",
    "    y_test = test_df['next_weekly_return']\n",
    "\n",
    "    selected_features = []\n",
    "    for feature in features:\n",
    "        if trial.suggest_categorical(feature, (True, False)):\n",
    "            selected_features.append(feature)\n",
    "\n",
    "    if model_type == \"lightgbm\":\n",
    "        params = {\n",
    "            'n_estimators': trial.suggest_int('n_estimators', 100, 1000),\n",
    "            'learning_rate': trial.suggest_loguniform('learning_rate', 0.01, 0.3),\n",
    "            'max_depth': trial.suggest_int('max_depth', 3, 15),\n",
    "            'reg_alpha': trial.suggest_loguniform('reg_alpha', 1e-3, 10),  \n",
    "            'reg_lambda': trial.suggest_loguniform('reg_lambda', 1e-3, 10),  \n",
    "            'bagging_fraction': trial.suggest_uniform('bagging_fraction', 0.1, 1.0),\n",
    "            'feature_fraction': trial.suggest_uniform('feature_fraction', 0.1, 1.0),\n",
    "            'objective': 'regression',\n",
    "            'metric': 'rmse',\n",
    "            'verbosity': -1,\n",
    "            'random_state': 42\n",
    "        }\n",
    "\n",
    "        train_data = lgb.Dataset(X_train[selected_features], label=y_train)\n",
    "        valid_data = lgb.Dataset(X_test[selected_features], label=y_test, reference=train_data)\n",
    "        callbacks = [lgb.early_stopping(stopping_rounds=100, verbose=False)]\n",
    "        model = lgb.train(params, train_data, valid_sets=[valid_data], num_boost_round=1000, callbacks=callbacks)\n",
    "\n",
    "        predictions = model.predict(X_test[selected_features])\n",
    "\n",
    "    elif model_type == \"xgboost\":\n",
    "        params = {\n",
    "            'n_estimators': trial.suggest_int('n_estimators', 100, 1000),\n",
    "            'learning_rate': trial.suggest_loguniform('learning_rate', 0.01, 0.3),\n",
    "            'max_depth': trial.suggest_int('max_depth', 3, 15),\n",
    "            'reg_alpha': trial.suggest_loguniform('reg_alpha', 1e-3, 10),  \n",
    "            'reg_lambda': trial.suggest_loguniform('reg_lambda', 1e-3, 10),  \n",
    "            'subsample': trial.suggest_uniform('subsample', 0.1, 1.0),\n",
    "            'colsample_bytree': trial.suggest_uniform('colsample_bytree', 0.1, 1.0),\n",
    "            'objective': 'reg:squarederror',\n",
    "            'eval_metric': 'rmse',\n",
    "            'random_state': 42\n",
    "        }\n",
    "\n",
    "        X_train_selected = X_train[selected_features]\n",
    "        X_test_selected = X_test[selected_features]\n",
    "\n",
    "        train_data = xgb.DMatrix(X_train_selected, label=y_train)\n",
    "        test_data = xgb.DMatrix(X_test_selected, label=y_test)\n",
    "\n",
    "        model = xgb.train(\n",
    "            params,\n",
    "            train_data,\n",
    "            num_boost_round=1000,\n",
    "            evals=[(test_data, 'validation')],\n",
    "            early_stopping_rounds=100,\n",
    "            verbose_eval=False\n",
    "        )\n",
    "\n",
    "        predictions = model.predict(test_data)\n",
    "\n",
    "    elif model_type == \"catboost\":\n",
    "        params = {\n",
    "            'iterations': trial.suggest_int('iterations', 100, 1000),\n",
    "            'learning_rate': trial.suggest_loguniform('learning_rate', 0.01, 0.3),\n",
    "            'depth': trial.suggest_int('depth', 3, 15),\n",
    "            'l2_leaf_reg': trial.suggest_loguniform('l2_leaf_reg', 1e-3, 10),\n",
    "            'bagging_temperature': trial.suggest_uniform('bagging_temperature', 0, 1),\n",
    "            'random_strength': trial.suggest_loguniform('random_strength', 1e-3, 10),\n",
    "            'verbose': 0,\n",
    "            'loss_function': 'RMSE',\n",
    "            'random_seed': 42\n",
    "        }\n",
    "\n",
    "        X_train_selected = X_train[selected_features]\n",
    "        X_test_selected = X_test[selected_features]\n",
    "\n",
    "        model = CatBoostRegressor(**params)\n",
    "        model.fit(X_train_selected, y_train, eval_set=(X_test_selected, y_test), early_stopping_rounds=100, verbose=False)\n",
    "\n",
    "        predictions = model.predict(X_test_selected)\n",
    "\n",
    "    else:\n",
    "        raise ValueError(\"Invalid model_type. Choose from 'lightgbm', 'xgboost', 'catboost'.\")\n",
    "\n",
    "    # Generate predictions and backtest\n",
    "    predictions_df = pd.DataFrame({\n",
    "        'date': test_df['date'],\n",
    "        'stock_name': test_df['stock_name'],\n",
    "        'predicted_return': predictions\n",
    "    })\n",
    "\n",
    "    unique_stocks = test_df['stock_name'].unique().tolist()\n",
    "    _, _, roi, sharpe_ratio, _ = backtest_top3_with_sharpe(predictions_df, df, unique_stocks)\n",
    "\n",
    "    if optimize_metric == \"roi\":\n",
    "        return -roi  # Minimize negative ROI to maximize ROI\n",
    "    elif optimize_metric == \"sharpe_ratio\":\n",
    "        return -sharpe_ratio  # Minimize negative Sharpe Ratio to maximize Sharpe Ratio\n",
    "    else:\n",
    "        raise ValueError(\"Invalid optimize_metric. Choose from 'roi', 'sharpe_ratio'.\")"
   ],
   "outputs": [],
   "execution_count": 9
  },
  {
   "cell_type": "code",
   "metadata": {
    "ExecuteTime": {
     "end_time": "2025-01-10T09:50:50.279351Z",
     "start_time": "2025-01-10T09:43:05.195760Z"
    }
   },
   "source": [
    "model_types = [\"lightgbm\", \"xgboost\", \"catboost\"]\n",
    "results = {}\n",
    "\n",
    "for model_type in model_types:\n",
    "    print(f\"Optimizing {model_type} for ROI...\")\n",
    "    roi_study = optuna.create_study(direction='minimize')\n",
    "    roi_study.optimize(lambda trial: generic_objective(trial, model_type, \"roi\"), n_trials=10)\n",
    "    best_roi_params = roi_study.best_params\n",
    "\n",
    "    print(f\"Optimizing {model_type} for Sharpe Ratio...\")\n",
    "    sharpe_study = optuna.create_study(direction='minimize')\n",
    "    sharpe_study.optimize(lambda trial: generic_objective(trial, model_type, \"sharpe_ratio\"), n_trials=10)\n",
    "    best_sharpe_params = sharpe_study.best_params\n",
    "\n",
    "    results[model_type] = {\n",
    "        \"best_roi_params\": best_roi_params,\n",
    "        \"best_sharpe_params\": best_sharpe_params\n",
    "    }"
   ],
   "outputs": [
    {
     "name": "stderr",
     "output_type": "stream",
     "text": [
      "[I 2025-01-10 12:43:05,206] A new study created in memory with name: no-name-30a033ce-f319-44a0-a52f-d5553a134a84\n"
     ]
    },
    {
     "name": "stdout",
     "output_type": "stream",
     "text": [
      "Optimizing lightgbm for ROI...\n"
     ]
    },
    {
     "name": "stderr",
     "output_type": "stream",
     "text": [
      "[I 2025-01-10 12:43:09,302] Trial 0 finished with value: -281.39424316727275 and parameters: {'adj_close': False, 'volume': False, 'weekly_price_diff': False, 'range': True, 'gap': True, 'volatility': False, 'volume_ma': True, 'volume_ratio': True, 'rsi_2w': True, 'normalized_rsi_2w': True, 'momentum_4w': False, 'momentum_8w': False, 'ema12': True, 'ema26': True, 'macd': True, 'signal_line': True, 'MACD_Distance': True, 'macd_short': True, 'macd_long': True, 'macd_diff': True, 'low14': True, 'high14': False, '%K': True, '%D': True, 'Stochastic_K_D_Distance': True, 'obv': False, 'vwap': True, 'VWAP_Distance': False, 'hl': True, 'hc': False, 'lc': True, 'tr': False, 'atr': True, 'ATR_Percentage': False, 'Pivot': False, 'Pivot_Distance': False, 'Support_Distance': False, 'Resistance_Distance': True, 'weekly_return': True, 'adj_close_lag_1w': False, 'volume_lag_1w': False, 'weekly_return_lag_1w': True, 'adj_close_lag_2w': False, 'volume_lag_2w': True, 'weekly_return_lag_2w': False, 'adj_close_lag_3w': True, 'volume_lag_3w': True, 'weekly_return_lag_3w': True, 'adj_close_lag_4w': True, 'volume_lag_4w': False, 'weekly_return_lag_4w': True, 'price_to_range_ratio': False, 'volume_change': True, 'adj_close_change': True, 'momentum_2w': True, 'weekly_return_lag_5w': False, 'weekly_return_lag_6w': False, 'weekly_return_lag_7w': True, 'weekly_return_lag_8w': False, 'rolling_mean_4w': False, 'rolling_std_4w': True, 'bollinger_upper': False, 'bollinger_lower': False, 'bollinger_bandwidth': False, 'rolling_skew_4w': False, 'rolling_kurt_4w': False, 'sharpe_ratio': False, 'day_of_week': False, 'week_of_year': False, 'month': True, 'n_estimators': 440, 'learning_rate': 0.044220864305179686, 'max_depth': 4, 'reg_alpha': 0.8367982707581827, 'reg_lambda': 0.0150553515133543, 'bagging_fraction': 0.12800817354374341, 'feature_fraction': 0.9575483841214532}. Best is trial 0 with value: -281.39424316727275.\n",
      "[I 2025-01-10 12:43:12,775] Trial 1 finished with value: -371.2407318403103 and parameters: {'adj_close': False, 'volume': True, 'weekly_price_diff': False, 'range': True, 'gap': True, 'volatility': False, 'volume_ma': False, 'volume_ratio': True, 'rsi_2w': True, 'normalized_rsi_2w': True, 'momentum_4w': True, 'momentum_8w': True, 'ema12': True, 'ema26': False, 'macd': True, 'signal_line': False, 'MACD_Distance': True, 'macd_short': False, 'macd_long': True, 'macd_diff': False, 'low14': False, 'high14': True, '%K': False, '%D': True, 'Stochastic_K_D_Distance': True, 'obv': True, 'vwap': False, 'VWAP_Distance': False, 'hl': False, 'hc': True, 'lc': False, 'tr': True, 'atr': False, 'ATR_Percentage': True, 'Pivot': False, 'Pivot_Distance': False, 'Support_Distance': True, 'Resistance_Distance': False, 'weekly_return': True, 'adj_close_lag_1w': True, 'volume_lag_1w': True, 'weekly_return_lag_1w': False, 'adj_close_lag_2w': True, 'volume_lag_2w': False, 'weekly_return_lag_2w': False, 'adj_close_lag_3w': False, 'volume_lag_3w': True, 'weekly_return_lag_3w': True, 'adj_close_lag_4w': False, 'volume_lag_4w': False, 'weekly_return_lag_4w': True, 'price_to_range_ratio': False, 'volume_change': True, 'adj_close_change': False, 'momentum_2w': True, 'weekly_return_lag_5w': False, 'weekly_return_lag_6w': True, 'weekly_return_lag_7w': True, 'weekly_return_lag_8w': False, 'rolling_mean_4w': False, 'rolling_std_4w': False, 'bollinger_upper': True, 'bollinger_lower': True, 'bollinger_bandwidth': False, 'rolling_skew_4w': True, 'rolling_kurt_4w': True, 'sharpe_ratio': False, 'day_of_week': True, 'week_of_year': True, 'month': True, 'n_estimators': 408, 'learning_rate': 0.039578403023329385, 'max_depth': 12, 'reg_alpha': 0.33218360105194017, 'reg_lambda': 0.04180872190338708, 'bagging_fraction': 0.7994388385511568, 'feature_fraction': 0.7296547836176419}. Best is trial 1 with value: -371.2407318403103.\n",
      "[I 2025-01-10 12:43:15,946] Trial 2 finished with value: -288.6227692791243 and parameters: {'adj_close': False, 'volume': False, 'weekly_price_diff': True, 'range': False, 'gap': False, 'volatility': False, 'volume_ma': True, 'volume_ratio': False, 'rsi_2w': False, 'normalized_rsi_2w': False, 'momentum_4w': False, 'momentum_8w': False, 'ema12': False, 'ema26': False, 'macd': True, 'signal_line': True, 'MACD_Distance': False, 'macd_short': True, 'macd_long': False, 'macd_diff': False, 'low14': True, 'high14': True, '%K': False, '%D': True, 'Stochastic_K_D_Distance': False, 'obv': True, 'vwap': False, 'VWAP_Distance': True, 'hl': True, 'hc': True, 'lc': True, 'tr': True, 'atr': True, 'ATR_Percentage': False, 'Pivot': True, 'Pivot_Distance': False, 'Support_Distance': True, 'Resistance_Distance': True, 'weekly_return': True, 'adj_close_lag_1w': True, 'volume_lag_1w': False, 'weekly_return_lag_1w': False, 'adj_close_lag_2w': True, 'volume_lag_2w': True, 'weekly_return_lag_2w': True, 'adj_close_lag_3w': True, 'volume_lag_3w': False, 'weekly_return_lag_3w': True, 'adj_close_lag_4w': False, 'volume_lag_4w': False, 'weekly_return_lag_4w': True, 'price_to_range_ratio': True, 'volume_change': False, 'adj_close_change': True, 'momentum_2w': True, 'weekly_return_lag_5w': False, 'weekly_return_lag_6w': False, 'weekly_return_lag_7w': True, 'weekly_return_lag_8w': True, 'rolling_mean_4w': False, 'rolling_std_4w': False, 'bollinger_upper': True, 'bollinger_lower': False, 'bollinger_bandwidth': False, 'rolling_skew_4w': True, 'rolling_kurt_4w': False, 'sharpe_ratio': True, 'day_of_week': True, 'week_of_year': True, 'month': True, 'n_estimators': 112, 'learning_rate': 0.06571693260733955, 'max_depth': 9, 'reg_alpha': 0.05687863215116457, 'reg_lambda': 0.5121600708574275, 'bagging_fraction': 0.7727088245729005, 'feature_fraction': 0.3963145240917537}. Best is trial 1 with value: -371.2407318403103.\n",
      "[I 2025-01-10 12:43:18,952] Trial 3 finished with value: -274.5055080215083 and parameters: {'adj_close': True, 'volume': True, 'weekly_price_diff': False, 'range': False, 'gap': True, 'volatility': False, 'volume_ma': False, 'volume_ratio': True, 'rsi_2w': True, 'normalized_rsi_2w': False, 'momentum_4w': False, 'momentum_8w': False, 'ema12': False, 'ema26': False, 'macd': True, 'signal_line': False, 'MACD_Distance': False, 'macd_short': False, 'macd_long': True, 'macd_diff': False, 'low14': True, 'high14': True, '%K': False, '%D': True, 'Stochastic_K_D_Distance': True, 'obv': False, 'vwap': True, 'VWAP_Distance': True, 'hl': False, 'hc': True, 'lc': True, 'tr': False, 'atr': False, 'ATR_Percentage': True, 'Pivot': False, 'Pivot_Distance': True, 'Support_Distance': False, 'Resistance_Distance': False, 'weekly_return': False, 'adj_close_lag_1w': True, 'volume_lag_1w': True, 'weekly_return_lag_1w': False, 'adj_close_lag_2w': True, 'volume_lag_2w': True, 'weekly_return_lag_2w': False, 'adj_close_lag_3w': False, 'volume_lag_3w': False, 'weekly_return_lag_3w': False, 'adj_close_lag_4w': False, 'volume_lag_4w': False, 'weekly_return_lag_4w': True, 'price_to_range_ratio': True, 'volume_change': True, 'adj_close_change': False, 'momentum_2w': True, 'weekly_return_lag_5w': False, 'weekly_return_lag_6w': False, 'weekly_return_lag_7w': False, 'weekly_return_lag_8w': False, 'rolling_mean_4w': True, 'rolling_std_4w': True, 'bollinger_upper': False, 'bollinger_lower': True, 'bollinger_bandwidth': True, 'rolling_skew_4w': True, 'rolling_kurt_4w': False, 'sharpe_ratio': True, 'day_of_week': True, 'week_of_year': False, 'month': True, 'n_estimators': 848, 'learning_rate': 0.20620575993020143, 'max_depth': 7, 'reg_alpha': 0.29001467634485883, 'reg_lambda': 0.19883526970140075, 'bagging_fraction': 0.7713303039878717, 'feature_fraction': 0.11207578511919583}. Best is trial 1 with value: -371.2407318403103.\n",
      "[I 2025-01-10 12:43:21,716] Trial 4 finished with value: -349.49265730791103 and parameters: {'adj_close': True, 'volume': True, 'weekly_price_diff': True, 'range': False, 'gap': False, 'volatility': True, 'volume_ma': False, 'volume_ratio': False, 'rsi_2w': False, 'normalized_rsi_2w': False, 'momentum_4w': True, 'momentum_8w': True, 'ema12': True, 'ema26': False, 'macd': False, 'signal_line': True, 'MACD_Distance': True, 'macd_short': True, 'macd_long': False, 'macd_diff': True, 'low14': True, 'high14': True, '%K': False, '%D': False, 'Stochastic_K_D_Distance': True, 'obv': False, 'vwap': False, 'VWAP_Distance': False, 'hl': True, 'hc': True, 'lc': False, 'tr': False, 'atr': True, 'ATR_Percentage': False, 'Pivot': True, 'Pivot_Distance': False, 'Support_Distance': True, 'Resistance_Distance': True, 'weekly_return': True, 'adj_close_lag_1w': False, 'volume_lag_1w': False, 'weekly_return_lag_1w': False, 'adj_close_lag_2w': False, 'volume_lag_2w': True, 'weekly_return_lag_2w': False, 'adj_close_lag_3w': True, 'volume_lag_3w': False, 'weekly_return_lag_3w': True, 'adj_close_lag_4w': False, 'volume_lag_4w': False, 'weekly_return_lag_4w': True, 'price_to_range_ratio': False, 'volume_change': False, 'adj_close_change': True, 'momentum_2w': True, 'weekly_return_lag_5w': False, 'weekly_return_lag_6w': False, 'weekly_return_lag_7w': False, 'weekly_return_lag_8w': True, 'rolling_mean_4w': False, 'rolling_std_4w': True, 'bollinger_upper': True, 'bollinger_lower': False, 'bollinger_bandwidth': True, 'rolling_skew_4w': True, 'rolling_kurt_4w': True, 'sharpe_ratio': True, 'day_of_week': False, 'week_of_year': True, 'month': False, 'n_estimators': 310, 'learning_rate': 0.10338531949668721, 'max_depth': 3, 'reg_alpha': 0.010624955546411182, 'reg_lambda': 0.3847680335917097, 'bagging_fraction': 0.16366810649499686, 'feature_fraction': 0.2824428487429344}. Best is trial 1 with value: -371.2407318403103.\n",
      "[I 2025-01-10 12:43:24,682] Trial 5 finished with value: -330.14633073836916 and parameters: {'adj_close': False, 'volume': True, 'weekly_price_diff': True, 'range': False, 'gap': True, 'volatility': True, 'volume_ma': False, 'volume_ratio': True, 'rsi_2w': False, 'normalized_rsi_2w': False, 'momentum_4w': False, 'momentum_8w': False, 'ema12': False, 'ema26': False, 'macd': True, 'signal_line': True, 'MACD_Distance': True, 'macd_short': False, 'macd_long': True, 'macd_diff': True, 'low14': True, 'high14': False, '%K': False, '%D': False, 'Stochastic_K_D_Distance': False, 'obv': True, 'vwap': True, 'VWAP_Distance': True, 'hl': True, 'hc': True, 'lc': True, 'tr': True, 'atr': False, 'ATR_Percentage': True, 'Pivot': True, 'Pivot_Distance': False, 'Support_Distance': True, 'Resistance_Distance': True, 'weekly_return': False, 'adj_close_lag_1w': False, 'volume_lag_1w': False, 'weekly_return_lag_1w': True, 'adj_close_lag_2w': True, 'volume_lag_2w': True, 'weekly_return_lag_2w': True, 'adj_close_lag_3w': True, 'volume_lag_3w': True, 'weekly_return_lag_3w': True, 'adj_close_lag_4w': False, 'volume_lag_4w': True, 'weekly_return_lag_4w': True, 'price_to_range_ratio': True, 'volume_change': False, 'adj_close_change': False, 'momentum_2w': False, 'weekly_return_lag_5w': False, 'weekly_return_lag_6w': True, 'weekly_return_lag_7w': False, 'weekly_return_lag_8w': True, 'rolling_mean_4w': False, 'rolling_std_4w': False, 'bollinger_upper': True, 'bollinger_lower': True, 'bollinger_bandwidth': True, 'rolling_skew_4w': False, 'rolling_kurt_4w': False, 'sharpe_ratio': False, 'day_of_week': False, 'week_of_year': True, 'month': False, 'n_estimators': 181, 'learning_rate': 0.024575578110213814, 'max_depth': 7, 'reg_alpha': 0.1989328784164592, 'reg_lambda': 0.8263594587650404, 'bagging_fraction': 0.5807506516180417, 'feature_fraction': 0.40474686496633827}. Best is trial 1 with value: -371.2407318403103.\n",
      "[I 2025-01-10 12:43:27,677] Trial 6 finished with value: -526.8056215709236 and parameters: {'adj_close': True, 'volume': False, 'weekly_price_diff': False, 'range': True, 'gap': False, 'volatility': False, 'volume_ma': True, 'volume_ratio': False, 'rsi_2w': True, 'normalized_rsi_2w': False, 'momentum_4w': True, 'momentum_8w': True, 'ema12': False, 'ema26': True, 'macd': False, 'signal_line': True, 'MACD_Distance': True, 'macd_short': False, 'macd_long': False, 'macd_diff': False, 'low14': True, 'high14': True, '%K': False, '%D': True, 'Stochastic_K_D_Distance': True, 'obv': True, 'vwap': True, 'VWAP_Distance': True, 'hl': False, 'hc': True, 'lc': False, 'tr': False, 'atr': False, 'ATR_Percentage': True, 'Pivot': False, 'Pivot_Distance': False, 'Support_Distance': True, 'Resistance_Distance': True, 'weekly_return': False, 'adj_close_lag_1w': False, 'volume_lag_1w': True, 'weekly_return_lag_1w': False, 'adj_close_lag_2w': False, 'volume_lag_2w': True, 'weekly_return_lag_2w': True, 'adj_close_lag_3w': False, 'volume_lag_3w': False, 'weekly_return_lag_3w': False, 'adj_close_lag_4w': False, 'volume_lag_4w': False, 'weekly_return_lag_4w': True, 'price_to_range_ratio': False, 'volume_change': True, 'adj_close_change': True, 'momentum_2w': False, 'weekly_return_lag_5w': False, 'weekly_return_lag_6w': True, 'weekly_return_lag_7w': True, 'weekly_return_lag_8w': True, 'rolling_mean_4w': False, 'rolling_std_4w': True, 'bollinger_upper': True, 'bollinger_lower': True, 'bollinger_bandwidth': False, 'rolling_skew_4w': False, 'rolling_kurt_4w': False, 'sharpe_ratio': True, 'day_of_week': True, 'week_of_year': False, 'month': False, 'n_estimators': 530, 'learning_rate': 0.17549422139305884, 'max_depth': 10, 'reg_alpha': 0.017803391210947102, 'reg_lambda': 7.7507604593806025, 'bagging_fraction': 0.727574812412803, 'feature_fraction': 0.7353798273065699}. Best is trial 6 with value: -526.8056215709236.\n",
      "[I 2025-01-10 12:43:30,656] Trial 7 finished with value: -382.54913938987704 and parameters: {'adj_close': True, 'volume': False, 'weekly_price_diff': True, 'range': False, 'gap': False, 'volatility': False, 'volume_ma': True, 'volume_ratio': True, 'rsi_2w': True, 'normalized_rsi_2w': False, 'momentum_4w': False, 'momentum_8w': True, 'ema12': False, 'ema26': True, 'macd': True, 'signal_line': False, 'MACD_Distance': False, 'macd_short': False, 'macd_long': False, 'macd_diff': False, 'low14': True, 'high14': False, '%K': True, '%D': True, 'Stochastic_K_D_Distance': True, 'obv': True, 'vwap': False, 'VWAP_Distance': True, 'hl': False, 'hc': False, 'lc': True, 'tr': False, 'atr': False, 'ATR_Percentage': True, 'Pivot': False, 'Pivot_Distance': False, 'Support_Distance': False, 'Resistance_Distance': True, 'weekly_return': True, 'adj_close_lag_1w': False, 'volume_lag_1w': True, 'weekly_return_lag_1w': True, 'adj_close_lag_2w': False, 'volume_lag_2w': False, 'weekly_return_lag_2w': True, 'adj_close_lag_3w': True, 'volume_lag_3w': True, 'weekly_return_lag_3w': True, 'adj_close_lag_4w': False, 'volume_lag_4w': False, 'weekly_return_lag_4w': False, 'price_to_range_ratio': True, 'volume_change': True, 'adj_close_change': False, 'momentum_2w': True, 'weekly_return_lag_5w': False, 'weekly_return_lag_6w': False, 'weekly_return_lag_7w': True, 'weekly_return_lag_8w': False, 'rolling_mean_4w': False, 'rolling_std_4w': True, 'bollinger_upper': False, 'bollinger_lower': True, 'bollinger_bandwidth': True, 'rolling_skew_4w': True, 'rolling_kurt_4w': True, 'sharpe_ratio': True, 'day_of_week': True, 'week_of_year': False, 'month': False, 'n_estimators': 804, 'learning_rate': 0.07367468023590719, 'max_depth': 13, 'reg_alpha': 0.2952332705852922, 'reg_lambda': 0.16578654158625156, 'bagging_fraction': 0.5184408710929481, 'feature_fraction': 0.6072445475805327}. Best is trial 6 with value: -526.8056215709236.\n",
      "[I 2025-01-10 12:43:33,773] Trial 8 finished with value: -340.63565360356154 and parameters: {'adj_close': False, 'volume': False, 'weekly_price_diff': False, 'range': True, 'gap': False, 'volatility': False, 'volume_ma': True, 'volume_ratio': False, 'rsi_2w': True, 'normalized_rsi_2w': True, 'momentum_4w': False, 'momentum_8w': False, 'ema12': True, 'ema26': False, 'macd': True, 'signal_line': False, 'MACD_Distance': False, 'macd_short': True, 'macd_long': False, 'macd_diff': False, 'low14': False, 'high14': False, '%K': True, '%D': True, 'Stochastic_K_D_Distance': True, 'obv': False, 'vwap': True, 'VWAP_Distance': False, 'hl': True, 'hc': False, 'lc': False, 'tr': True, 'atr': True, 'ATR_Percentage': False, 'Pivot': False, 'Pivot_Distance': True, 'Support_Distance': True, 'Resistance_Distance': False, 'weekly_return': True, 'adj_close_lag_1w': True, 'volume_lag_1w': False, 'weekly_return_lag_1w': False, 'adj_close_lag_2w': True, 'volume_lag_2w': True, 'weekly_return_lag_2w': True, 'adj_close_lag_3w': True, 'volume_lag_3w': True, 'weekly_return_lag_3w': False, 'adj_close_lag_4w': False, 'volume_lag_4w': False, 'weekly_return_lag_4w': True, 'price_to_range_ratio': False, 'volume_change': False, 'adj_close_change': False, 'momentum_2w': False, 'weekly_return_lag_5w': False, 'weekly_return_lag_6w': True, 'weekly_return_lag_7w': True, 'weekly_return_lag_8w': True, 'rolling_mean_4w': False, 'rolling_std_4w': False, 'bollinger_upper': False, 'bollinger_lower': True, 'bollinger_bandwidth': False, 'rolling_skew_4w': False, 'rolling_kurt_4w': False, 'sharpe_ratio': False, 'day_of_week': False, 'week_of_year': False, 'month': False, 'n_estimators': 983, 'learning_rate': 0.02424774782708346, 'max_depth': 14, 'reg_alpha': 0.018476252808804276, 'reg_lambda': 0.0013791057495140188, 'bagging_fraction': 0.21729261507592712, 'feature_fraction': 0.3864668674924675}. Best is trial 6 with value: -526.8056215709236.\n",
      "[I 2025-01-10 12:43:36,617] Trial 9 finished with value: -268.31970507411734 and parameters: {'adj_close': True, 'volume': True, 'weekly_price_diff': False, 'range': True, 'gap': True, 'volatility': False, 'volume_ma': False, 'volume_ratio': True, 'rsi_2w': True, 'normalized_rsi_2w': True, 'momentum_4w': True, 'momentum_8w': False, 'ema12': False, 'ema26': True, 'macd': False, 'signal_line': True, 'MACD_Distance': False, 'macd_short': True, 'macd_long': False, 'macd_diff': True, 'low14': False, 'high14': True, '%K': False, '%D': True, 'Stochastic_K_D_Distance': True, 'obv': True, 'vwap': True, 'VWAP_Distance': True, 'hl': True, 'hc': False, 'lc': False, 'tr': False, 'atr': True, 'ATR_Percentage': False, 'Pivot': False, 'Pivot_Distance': True, 'Support_Distance': True, 'Resistance_Distance': True, 'weekly_return': False, 'adj_close_lag_1w': False, 'volume_lag_1w': True, 'weekly_return_lag_1w': True, 'adj_close_lag_2w': True, 'volume_lag_2w': False, 'weekly_return_lag_2w': False, 'adj_close_lag_3w': False, 'volume_lag_3w': True, 'weekly_return_lag_3w': True, 'adj_close_lag_4w': True, 'volume_lag_4w': True, 'weekly_return_lag_4w': True, 'price_to_range_ratio': False, 'volume_change': False, 'adj_close_change': False, 'momentum_2w': False, 'weekly_return_lag_5w': True, 'weekly_return_lag_6w': False, 'weekly_return_lag_7w': True, 'weekly_return_lag_8w': False, 'rolling_mean_4w': False, 'rolling_std_4w': False, 'bollinger_upper': False, 'bollinger_lower': True, 'bollinger_bandwidth': False, 'rolling_skew_4w': False, 'rolling_kurt_4w': False, 'sharpe_ratio': True, 'day_of_week': True, 'week_of_year': True, 'month': False, 'n_estimators': 320, 'learning_rate': 0.012950964198709013, 'max_depth': 8, 'reg_alpha': 2.0427651154464166, 'reg_lambda': 2.536209381867996, 'bagging_fraction': 0.8286624794184655, 'feature_fraction': 0.817859571385409}. Best is trial 6 with value: -526.8056215709236.\n",
      "[I 2025-01-10 12:43:36,618] A new study created in memory with name: no-name-588cb8b7-5951-4b7f-9d37-ffc483d82152\n"
     ]
    },
    {
     "name": "stdout",
     "output_type": "stream",
     "text": [
      "Optimizing lightgbm for Sharpe Ratio...\n"
     ]
    },
    {
     "name": "stderr",
     "output_type": "stream",
     "text": [
      "[I 2025-01-10 12:43:39,432] Trial 0 finished with value: -1.1566919595213303 and parameters: {'adj_close': True, 'volume': False, 'weekly_price_diff': False, 'range': True, 'gap': False, 'volatility': True, 'volume_ma': True, 'volume_ratio': True, 'rsi_2w': False, 'normalized_rsi_2w': True, 'momentum_4w': True, 'momentum_8w': True, 'ema12': True, 'ema26': False, 'macd': True, 'signal_line': False, 'MACD_Distance': False, 'macd_short': False, 'macd_long': True, 'macd_diff': False, 'low14': True, 'high14': False, '%K': True, '%D': True, 'Stochastic_K_D_Distance': True, 'obv': False, 'vwap': True, 'VWAP_Distance': False, 'hl': True, 'hc': False, 'lc': True, 'tr': False, 'atr': False, 'ATR_Percentage': True, 'Pivot': True, 'Pivot_Distance': False, 'Support_Distance': False, 'Resistance_Distance': False, 'weekly_return': False, 'adj_close_lag_1w': False, 'volume_lag_1w': True, 'weekly_return_lag_1w': True, 'adj_close_lag_2w': True, 'volume_lag_2w': False, 'weekly_return_lag_2w': False, 'adj_close_lag_3w': False, 'volume_lag_3w': True, 'weekly_return_lag_3w': True, 'adj_close_lag_4w': False, 'volume_lag_4w': False, 'weekly_return_lag_4w': True, 'price_to_range_ratio': False, 'volume_change': False, 'adj_close_change': False, 'momentum_2w': True, 'weekly_return_lag_5w': True, 'weekly_return_lag_6w': False, 'weekly_return_lag_7w': True, 'weekly_return_lag_8w': False, 'rolling_mean_4w': True, 'rolling_std_4w': True, 'bollinger_upper': True, 'bollinger_lower': False, 'bollinger_bandwidth': True, 'rolling_skew_4w': False, 'rolling_kurt_4w': True, 'sharpe_ratio': True, 'day_of_week': True, 'week_of_year': False, 'month': False, 'n_estimators': 915, 'learning_rate': 0.26166489237961194, 'max_depth': 4, 'reg_alpha': 0.04007949638173218, 'reg_lambda': 4.6850246402004805, 'bagging_fraction': 0.3538886181505132, 'feature_fraction': 0.6784084778927627}. Best is trial 0 with value: -1.1566919595213303.\n",
      "[I 2025-01-10 12:43:42,539] Trial 1 finished with value: -1.1159811081079853 and parameters: {'adj_close': True, 'volume': False, 'weekly_price_diff': False, 'range': False, 'gap': False, 'volatility': True, 'volume_ma': False, 'volume_ratio': True, 'rsi_2w': True, 'normalized_rsi_2w': False, 'momentum_4w': False, 'momentum_8w': True, 'ema12': False, 'ema26': False, 'macd': True, 'signal_line': False, 'MACD_Distance': True, 'macd_short': False, 'macd_long': True, 'macd_diff': True, 'low14': True, 'high14': False, '%K': True, '%D': False, 'Stochastic_K_D_Distance': True, 'obv': True, 'vwap': False, 'VWAP_Distance': True, 'hl': True, 'hc': False, 'lc': True, 'tr': True, 'atr': False, 'ATR_Percentage': False, 'Pivot': True, 'Pivot_Distance': False, 'Support_Distance': False, 'Resistance_Distance': False, 'weekly_return': False, 'adj_close_lag_1w': True, 'volume_lag_1w': True, 'weekly_return_lag_1w': False, 'adj_close_lag_2w': False, 'volume_lag_2w': False, 'weekly_return_lag_2w': True, 'adj_close_lag_3w': False, 'volume_lag_3w': True, 'weekly_return_lag_3w': False, 'adj_close_lag_4w': True, 'volume_lag_4w': False, 'weekly_return_lag_4w': False, 'price_to_range_ratio': True, 'volume_change': True, 'adj_close_change': False, 'momentum_2w': True, 'weekly_return_lag_5w': True, 'weekly_return_lag_6w': True, 'weekly_return_lag_7w': True, 'weekly_return_lag_8w': True, 'rolling_mean_4w': False, 'rolling_std_4w': True, 'bollinger_upper': True, 'bollinger_lower': False, 'bollinger_bandwidth': False, 'rolling_skew_4w': True, 'rolling_kurt_4w': True, 'sharpe_ratio': True, 'day_of_week': True, 'week_of_year': True, 'month': False, 'n_estimators': 682, 'learning_rate': 0.024851938589525325, 'max_depth': 12, 'reg_alpha': 0.022202761603645683, 'reg_lambda': 4.1951489436972, 'bagging_fraction': 0.9754278878468319, 'feature_fraction': 0.6025300773175948}. Best is trial 0 with value: -1.1566919595213303.\n",
      "[I 2025-01-10 12:43:45,342] Trial 2 finished with value: -0.7860336428649626 and parameters: {'adj_close': True, 'volume': False, 'weekly_price_diff': False, 'range': False, 'gap': True, 'volatility': False, 'volume_ma': False, 'volume_ratio': False, 'rsi_2w': True, 'normalized_rsi_2w': True, 'momentum_4w': True, 'momentum_8w': False, 'ema12': False, 'ema26': True, 'macd': False, 'signal_line': False, 'MACD_Distance': False, 'macd_short': False, 'macd_long': True, 'macd_diff': False, 'low14': True, 'high14': False, '%K': False, '%D': False, 'Stochastic_K_D_Distance': False, 'obv': False, 'vwap': True, 'VWAP_Distance': False, 'hl': False, 'hc': False, 'lc': False, 'tr': True, 'atr': False, 'ATR_Percentage': True, 'Pivot': True, 'Pivot_Distance': True, 'Support_Distance': True, 'Resistance_Distance': False, 'weekly_return': False, 'adj_close_lag_1w': True, 'volume_lag_1w': False, 'weekly_return_lag_1w': False, 'adj_close_lag_2w': False, 'volume_lag_2w': True, 'weekly_return_lag_2w': False, 'adj_close_lag_3w': True, 'volume_lag_3w': False, 'weekly_return_lag_3w': True, 'adj_close_lag_4w': False, 'volume_lag_4w': True, 'weekly_return_lag_4w': True, 'price_to_range_ratio': False, 'volume_change': False, 'adj_close_change': True, 'momentum_2w': False, 'weekly_return_lag_5w': False, 'weekly_return_lag_6w': False, 'weekly_return_lag_7w': False, 'weekly_return_lag_8w': True, 'rolling_mean_4w': False, 'rolling_std_4w': False, 'bollinger_upper': False, 'bollinger_lower': False, 'bollinger_bandwidth': False, 'rolling_skew_4w': True, 'rolling_kurt_4w': False, 'sharpe_ratio': True, 'day_of_week': True, 'week_of_year': True, 'month': True, 'n_estimators': 318, 'learning_rate': 0.029146037359548408, 'max_depth': 9, 'reg_alpha': 5.057117305304396, 'reg_lambda': 0.1385096343316323, 'bagging_fraction': 0.7901960155765078, 'feature_fraction': 0.48550479590658735}. Best is trial 0 with value: -1.1566919595213303.\n",
      "[I 2025-01-10 12:43:48,290] Trial 3 finished with value: -0.9089728035761219 and parameters: {'adj_close': True, 'volume': True, 'weekly_price_diff': True, 'range': True, 'gap': True, 'volatility': False, 'volume_ma': False, 'volume_ratio': False, 'rsi_2w': False, 'normalized_rsi_2w': True, 'momentum_4w': False, 'momentum_8w': False, 'ema12': False, 'ema26': False, 'macd': False, 'signal_line': False, 'MACD_Distance': False, 'macd_short': False, 'macd_long': True, 'macd_diff': True, 'low14': True, 'high14': True, '%K': False, '%D': True, 'Stochastic_K_D_Distance': True, 'obv': False, 'vwap': True, 'VWAP_Distance': False, 'hl': True, 'hc': True, 'lc': True, 'tr': False, 'atr': False, 'ATR_Percentage': False, 'Pivot': False, 'Pivot_Distance': False, 'Support_Distance': False, 'Resistance_Distance': True, 'weekly_return': True, 'adj_close_lag_1w': False, 'volume_lag_1w': True, 'weekly_return_lag_1w': False, 'adj_close_lag_2w': False, 'volume_lag_2w': True, 'weekly_return_lag_2w': False, 'adj_close_lag_3w': False, 'volume_lag_3w': True, 'weekly_return_lag_3w': False, 'adj_close_lag_4w': False, 'volume_lag_4w': False, 'weekly_return_lag_4w': True, 'price_to_range_ratio': True, 'volume_change': False, 'adj_close_change': True, 'momentum_2w': True, 'weekly_return_lag_5w': False, 'weekly_return_lag_6w': False, 'weekly_return_lag_7w': True, 'weekly_return_lag_8w': False, 'rolling_mean_4w': False, 'rolling_std_4w': True, 'bollinger_upper': False, 'bollinger_lower': True, 'bollinger_bandwidth': False, 'rolling_skew_4w': True, 'rolling_kurt_4w': True, 'sharpe_ratio': False, 'day_of_week': False, 'week_of_year': False, 'month': True, 'n_estimators': 384, 'learning_rate': 0.02614207207071177, 'max_depth': 10, 'reg_alpha': 0.0026725854378963133, 'reg_lambda': 1.1108842668096153, 'bagging_fraction': 0.46443528674482415, 'feature_fraction': 0.8342102536659354}. Best is trial 0 with value: -1.1566919595213303.\n",
      "[I 2025-01-10 12:43:50,949] Trial 4 finished with value: -1.0568366408353915 and parameters: {'adj_close': True, 'volume': False, 'weekly_price_diff': False, 'range': True, 'gap': False, 'volatility': True, 'volume_ma': False, 'volume_ratio': False, 'rsi_2w': True, 'normalized_rsi_2w': False, 'momentum_4w': False, 'momentum_8w': True, 'ema12': False, 'ema26': True, 'macd': False, 'signal_line': False, 'MACD_Distance': True, 'macd_short': False, 'macd_long': False, 'macd_diff': False, 'low14': True, 'high14': True, '%K': True, '%D': True, 'Stochastic_K_D_Distance': False, 'obv': False, 'vwap': False, 'VWAP_Distance': False, 'hl': True, 'hc': False, 'lc': False, 'tr': False, 'atr': False, 'ATR_Percentage': False, 'Pivot': False, 'Pivot_Distance': False, 'Support_Distance': False, 'Resistance_Distance': True, 'weekly_return': False, 'adj_close_lag_1w': True, 'volume_lag_1w': False, 'weekly_return_lag_1w': True, 'adj_close_lag_2w': True, 'volume_lag_2w': False, 'weekly_return_lag_2w': False, 'adj_close_lag_3w': True, 'volume_lag_3w': True, 'weekly_return_lag_3w': False, 'adj_close_lag_4w': False, 'volume_lag_4w': True, 'weekly_return_lag_4w': True, 'price_to_range_ratio': False, 'volume_change': True, 'adj_close_change': True, 'momentum_2w': False, 'weekly_return_lag_5w': False, 'weekly_return_lag_6w': True, 'weekly_return_lag_7w': True, 'weekly_return_lag_8w': True, 'rolling_mean_4w': False, 'rolling_std_4w': False, 'bollinger_upper': True, 'bollinger_lower': False, 'bollinger_bandwidth': True, 'rolling_skew_4w': True, 'rolling_kurt_4w': True, 'sharpe_ratio': False, 'day_of_week': False, 'week_of_year': True, 'month': False, 'n_estimators': 813, 'learning_rate': 0.06785150138811744, 'max_depth': 15, 'reg_alpha': 2.690227248379261, 'reg_lambda': 0.039785340984016114, 'bagging_fraction': 0.5787115044341018, 'feature_fraction': 0.9806577667105233}. Best is trial 0 with value: -1.1566919595213303.\n",
      "[I 2025-01-10 12:43:53,755] Trial 5 finished with value: -0.785060592078236 and parameters: {'adj_close': False, 'volume': True, 'weekly_price_diff': True, 'range': True, 'gap': False, 'volatility': True, 'volume_ma': True, 'volume_ratio': True, 'rsi_2w': True, 'normalized_rsi_2w': True, 'momentum_4w': False, 'momentum_8w': True, 'ema12': True, 'ema26': False, 'macd': False, 'signal_line': False, 'MACD_Distance': False, 'macd_short': True, 'macd_long': False, 'macd_diff': True, 'low14': True, 'high14': False, '%K': True, '%D': False, 'Stochastic_K_D_Distance': True, 'obv': True, 'vwap': False, 'VWAP_Distance': False, 'hl': False, 'hc': True, 'lc': False, 'tr': True, 'atr': True, 'ATR_Percentage': True, 'Pivot': False, 'Pivot_Distance': True, 'Support_Distance': True, 'Resistance_Distance': True, 'weekly_return': True, 'adj_close_lag_1w': True, 'volume_lag_1w': True, 'weekly_return_lag_1w': True, 'adj_close_lag_2w': True, 'volume_lag_2w': True, 'weekly_return_lag_2w': False, 'adj_close_lag_3w': True, 'volume_lag_3w': False, 'weekly_return_lag_3w': False, 'adj_close_lag_4w': True, 'volume_lag_4w': True, 'weekly_return_lag_4w': False, 'price_to_range_ratio': False, 'volume_change': True, 'adj_close_change': True, 'momentum_2w': True, 'weekly_return_lag_5w': False, 'weekly_return_lag_6w': True, 'weekly_return_lag_7w': False, 'weekly_return_lag_8w': False, 'rolling_mean_4w': True, 'rolling_std_4w': False, 'bollinger_upper': False, 'bollinger_lower': True, 'bollinger_bandwidth': True, 'rolling_skew_4w': False, 'rolling_kurt_4w': True, 'sharpe_ratio': True, 'day_of_week': True, 'week_of_year': False, 'month': False, 'n_estimators': 754, 'learning_rate': 0.0417853623176743, 'max_depth': 12, 'reg_alpha': 5.648259535044742, 'reg_lambda': 0.2734475700379808, 'bagging_fraction': 0.30482064339733184, 'feature_fraction': 0.23826703941982524}. Best is trial 0 with value: -1.1566919595213303.\n",
      "[I 2025-01-10 12:43:56,483] Trial 6 finished with value: -1.201163628621223 and parameters: {'adj_close': False, 'volume': False, 'weekly_price_diff': True, 'range': False, 'gap': False, 'volatility': False, 'volume_ma': False, 'volume_ratio': True, 'rsi_2w': True, 'normalized_rsi_2w': False, 'momentum_4w': True, 'momentum_8w': True, 'ema12': True, 'ema26': False, 'macd': False, 'signal_line': False, 'MACD_Distance': True, 'macd_short': False, 'macd_long': True, 'macd_diff': False, 'low14': False, 'high14': True, '%K': False, '%D': True, 'Stochastic_K_D_Distance': True, 'obv': False, 'vwap': False, 'VWAP_Distance': True, 'hl': False, 'hc': False, 'lc': True, 'tr': False, 'atr': False, 'ATR_Percentage': True, 'Pivot': False, 'Pivot_Distance': True, 'Support_Distance': False, 'Resistance_Distance': True, 'weekly_return': True, 'adj_close_lag_1w': False, 'volume_lag_1w': False, 'weekly_return_lag_1w': False, 'adj_close_lag_2w': True, 'volume_lag_2w': False, 'weekly_return_lag_2w': True, 'adj_close_lag_3w': True, 'volume_lag_3w': True, 'weekly_return_lag_3w': True, 'adj_close_lag_4w': True, 'volume_lag_4w': False, 'weekly_return_lag_4w': False, 'price_to_range_ratio': False, 'volume_change': False, 'adj_close_change': False, 'momentum_2w': False, 'weekly_return_lag_5w': True, 'weekly_return_lag_6w': False, 'weekly_return_lag_7w': False, 'weekly_return_lag_8w': True, 'rolling_mean_4w': False, 'rolling_std_4w': True, 'bollinger_upper': False, 'bollinger_lower': False, 'bollinger_bandwidth': True, 'rolling_skew_4w': False, 'rolling_kurt_4w': False, 'sharpe_ratio': False, 'day_of_week': False, 'week_of_year': False, 'month': False, 'n_estimators': 506, 'learning_rate': 0.05036922017165341, 'max_depth': 4, 'reg_alpha': 0.0023386615143822535, 'reg_lambda': 0.12468885961224299, 'bagging_fraction': 0.8378393465088703, 'feature_fraction': 0.4265979822029844}. Best is trial 6 with value: -1.201163628621223.\n",
      "[I 2025-01-10 12:43:59,434] Trial 7 finished with value: -1.022406440904529 and parameters: {'adj_close': False, 'volume': True, 'weekly_price_diff': False, 'range': True, 'gap': False, 'volatility': False, 'volume_ma': True, 'volume_ratio': False, 'rsi_2w': True, 'normalized_rsi_2w': False, 'momentum_4w': False, 'momentum_8w': False, 'ema12': True, 'ema26': False, 'macd': True, 'signal_line': True, 'MACD_Distance': False, 'macd_short': False, 'macd_long': False, 'macd_diff': False, 'low14': False, 'high14': False, '%K': True, '%D': True, 'Stochastic_K_D_Distance': False, 'obv': True, 'vwap': True, 'VWAP_Distance': False, 'hl': False, 'hc': False, 'lc': True, 'tr': True, 'atr': True, 'ATR_Percentage': True, 'Pivot': True, 'Pivot_Distance': True, 'Support_Distance': True, 'Resistance_Distance': False, 'weekly_return': True, 'adj_close_lag_1w': True, 'volume_lag_1w': True, 'weekly_return_lag_1w': False, 'adj_close_lag_2w': True, 'volume_lag_2w': True, 'weekly_return_lag_2w': True, 'adj_close_lag_3w': True, 'volume_lag_3w': False, 'weekly_return_lag_3w': True, 'adj_close_lag_4w': False, 'volume_lag_4w': True, 'weekly_return_lag_4w': True, 'price_to_range_ratio': True, 'volume_change': True, 'adj_close_change': False, 'momentum_2w': True, 'weekly_return_lag_5w': True, 'weekly_return_lag_6w': False, 'weekly_return_lag_7w': True, 'weekly_return_lag_8w': True, 'rolling_mean_4w': False, 'rolling_std_4w': False, 'bollinger_upper': True, 'bollinger_lower': False, 'bollinger_bandwidth': True, 'rolling_skew_4w': True, 'rolling_kurt_4w': True, 'sharpe_ratio': False, 'day_of_week': False, 'week_of_year': True, 'month': False, 'n_estimators': 254, 'learning_rate': 0.01159295979602035, 'max_depth': 10, 'reg_alpha': 1.9728670844631961, 'reg_lambda': 0.28353306936098066, 'bagging_fraction': 0.5269026017126446, 'feature_fraction': 0.9668530592154297}. Best is trial 6 with value: -1.201163628621223.\n",
      "[I 2025-01-10 12:44:02,224] Trial 8 finished with value: -0.7427757741226941 and parameters: {'adj_close': False, 'volume': False, 'weekly_price_diff': False, 'range': True, 'gap': True, 'volatility': False, 'volume_ma': True, 'volume_ratio': True, 'rsi_2w': False, 'normalized_rsi_2w': False, 'momentum_4w': True, 'momentum_8w': False, 'ema12': True, 'ema26': True, 'macd': False, 'signal_line': True, 'MACD_Distance': True, 'macd_short': False, 'macd_long': False, 'macd_diff': False, 'low14': False, 'high14': True, '%K': True, '%D': True, 'Stochastic_K_D_Distance': False, 'obv': True, 'vwap': False, 'VWAP_Distance': False, 'hl': True, 'hc': False, 'lc': True, 'tr': True, 'atr': False, 'ATR_Percentage': False, 'Pivot': False, 'Pivot_Distance': True, 'Support_Distance': False, 'Resistance_Distance': False, 'weekly_return': True, 'adj_close_lag_1w': False, 'volume_lag_1w': False, 'weekly_return_lag_1w': True, 'adj_close_lag_2w': False, 'volume_lag_2w': False, 'weekly_return_lag_2w': False, 'adj_close_lag_3w': True, 'volume_lag_3w': True, 'weekly_return_lag_3w': False, 'adj_close_lag_4w': False, 'volume_lag_4w': True, 'weekly_return_lag_4w': False, 'price_to_range_ratio': False, 'volume_change': True, 'adj_close_change': False, 'momentum_2w': True, 'weekly_return_lag_5w': False, 'weekly_return_lag_6w': False, 'weekly_return_lag_7w': False, 'weekly_return_lag_8w': True, 'rolling_mean_4w': True, 'rolling_std_4w': True, 'bollinger_upper': True, 'bollinger_lower': True, 'bollinger_bandwidth': False, 'rolling_skew_4w': True, 'rolling_kurt_4w': False, 'sharpe_ratio': False, 'day_of_week': True, 'week_of_year': False, 'month': False, 'n_estimators': 240, 'learning_rate': 0.26658552230233473, 'max_depth': 9, 'reg_alpha': 0.8964838485792923, 'reg_lambda': 1.801279265040735, 'bagging_fraction': 0.4328552940022773, 'feature_fraction': 0.31816000283304646}. Best is trial 6 with value: -1.201163628621223.\n",
      "[I 2025-01-10 12:44:05,192] Trial 9 finished with value: -1.2354431504046093 and parameters: {'adj_close': True, 'volume': True, 'weekly_price_diff': False, 'range': True, 'gap': False, 'volatility': False, 'volume_ma': True, 'volume_ratio': True, 'rsi_2w': True, 'normalized_rsi_2w': True, 'momentum_4w': False, 'momentum_8w': True, 'ema12': False, 'ema26': True, 'macd': False, 'signal_line': True, 'MACD_Distance': True, 'macd_short': True, 'macd_long': True, 'macd_diff': False, 'low14': False, 'high14': False, '%K': True, '%D': False, 'Stochastic_K_D_Distance': False, 'obv': False, 'vwap': False, 'VWAP_Distance': True, 'hl': True, 'hc': False, 'lc': True, 'tr': True, 'atr': False, 'ATR_Percentage': True, 'Pivot': False, 'Pivot_Distance': True, 'Support_Distance': False, 'Resistance_Distance': True, 'weekly_return': False, 'adj_close_lag_1w': False, 'volume_lag_1w': True, 'weekly_return_lag_1w': True, 'adj_close_lag_2w': False, 'volume_lag_2w': False, 'weekly_return_lag_2w': True, 'adj_close_lag_3w': True, 'volume_lag_3w': True, 'weekly_return_lag_3w': False, 'adj_close_lag_4w': True, 'volume_lag_4w': True, 'weekly_return_lag_4w': True, 'price_to_range_ratio': True, 'volume_change': False, 'adj_close_change': False, 'momentum_2w': False, 'weekly_return_lag_5w': False, 'weekly_return_lag_6w': True, 'weekly_return_lag_7w': True, 'weekly_return_lag_8w': True, 'rolling_mean_4w': True, 'rolling_std_4w': False, 'bollinger_upper': False, 'bollinger_lower': False, 'bollinger_bandwidth': False, 'rolling_skew_4w': True, 'rolling_kurt_4w': False, 'sharpe_ratio': False, 'day_of_week': False, 'week_of_year': True, 'month': False, 'n_estimators': 838, 'learning_rate': 0.10624547354519455, 'max_depth': 15, 'reg_alpha': 0.014832141753644099, 'reg_lambda': 0.0019260122866843954, 'bagging_fraction': 0.3811430405810877, 'feature_fraction': 0.44178159774422343}. Best is trial 9 with value: -1.2354431504046093.\n",
      "[I 2025-01-10 12:44:05,193] A new study created in memory with name: no-name-20144912-c99c-419d-9d17-5e9d77e6f10d\n"
     ]
    },
    {
     "name": "stdout",
     "output_type": "stream",
     "text": [
      "Optimizing xgboost for ROI...\n"
     ]
    },
    {
     "name": "stderr",
     "output_type": "stream",
     "text": [
      "[I 2025-01-10 12:44:07,985] Trial 0 finished with value: -429.2709107704255 and parameters: {'adj_close': False, 'volume': True, 'weekly_price_diff': False, 'range': True, 'gap': True, 'volatility': True, 'volume_ma': True, 'volume_ratio': True, 'rsi_2w': False, 'normalized_rsi_2w': False, 'momentum_4w': True, 'momentum_8w': False, 'ema12': True, 'ema26': True, 'macd': True, 'signal_line': False, 'MACD_Distance': True, 'macd_short': True, 'macd_long': False, 'macd_diff': False, 'low14': True, 'high14': True, '%K': False, '%D': False, 'Stochastic_K_D_Distance': True, 'obv': False, 'vwap': True, 'VWAP_Distance': False, 'hl': True, 'hc': False, 'lc': False, 'tr': True, 'atr': True, 'ATR_Percentage': True, 'Pivot': True, 'Pivot_Distance': True, 'Support_Distance': False, 'Resistance_Distance': False, 'weekly_return': True, 'adj_close_lag_1w': True, 'volume_lag_1w': False, 'weekly_return_lag_1w': True, 'adj_close_lag_2w': False, 'volume_lag_2w': False, 'weekly_return_lag_2w': False, 'adj_close_lag_3w': False, 'volume_lag_3w': True, 'weekly_return_lag_3w': False, 'adj_close_lag_4w': False, 'volume_lag_4w': True, 'weekly_return_lag_4w': True, 'price_to_range_ratio': True, 'volume_change': False, 'adj_close_change': False, 'momentum_2w': True, 'weekly_return_lag_5w': True, 'weekly_return_lag_6w': True, 'weekly_return_lag_7w': False, 'weekly_return_lag_8w': False, 'rolling_mean_4w': True, 'rolling_std_4w': True, 'bollinger_upper': False, 'bollinger_lower': True, 'bollinger_bandwidth': False, 'rolling_skew_4w': False, 'rolling_kurt_4w': False, 'sharpe_ratio': False, 'day_of_week': True, 'week_of_year': False, 'month': False, 'n_estimators': 881, 'learning_rate': 0.024753281899048362, 'max_depth': 3, 'reg_alpha': 0.26974260576518994, 'reg_lambda': 0.11113649470691483, 'subsample': 0.49602221920281864, 'colsample_bytree': 0.45810325353168324}. Best is trial 0 with value: -429.2709107704255.\n",
      "[I 2025-01-10 12:44:10,824] Trial 1 finished with value: -247.82551724448223 and parameters: {'adj_close': True, 'volume': False, 'weekly_price_diff': True, 'range': True, 'gap': True, 'volatility': False, 'volume_ma': False, 'volume_ratio': True, 'rsi_2w': True, 'normalized_rsi_2w': True, 'momentum_4w': False, 'momentum_8w': True, 'ema12': False, 'ema26': True, 'macd': True, 'signal_line': False, 'MACD_Distance': False, 'macd_short': False, 'macd_long': False, 'macd_diff': False, 'low14': True, 'high14': True, '%K': True, '%D': False, 'Stochastic_K_D_Distance': True, 'obv': True, 'vwap': True, 'VWAP_Distance': True, 'hl': True, 'hc': False, 'lc': False, 'tr': True, 'atr': False, 'ATR_Percentage': False, 'Pivot': False, 'Pivot_Distance': False, 'Support_Distance': False, 'Resistance_Distance': True, 'weekly_return': False, 'adj_close_lag_1w': False, 'volume_lag_1w': False, 'weekly_return_lag_1w': False, 'adj_close_lag_2w': False, 'volume_lag_2w': True, 'weekly_return_lag_2w': False, 'adj_close_lag_3w': False, 'volume_lag_3w': False, 'weekly_return_lag_3w': False, 'adj_close_lag_4w': True, 'volume_lag_4w': True, 'weekly_return_lag_4w': True, 'price_to_range_ratio': False, 'volume_change': False, 'adj_close_change': False, 'momentum_2w': False, 'weekly_return_lag_5w': True, 'weekly_return_lag_6w': False, 'weekly_return_lag_7w': True, 'weekly_return_lag_8w': False, 'rolling_mean_4w': False, 'rolling_std_4w': False, 'bollinger_upper': False, 'bollinger_lower': False, 'bollinger_bandwidth': True, 'rolling_skew_4w': True, 'rolling_kurt_4w': False, 'sharpe_ratio': False, 'day_of_week': True, 'week_of_year': True, 'month': True, 'n_estimators': 284, 'learning_rate': 0.01994738609429859, 'max_depth': 6, 'reg_alpha': 0.001436922777514487, 'reg_lambda': 0.036103647625315066, 'subsample': 0.8041745784034591, 'colsample_bytree': 0.9773278021810246}. Best is trial 0 with value: -429.2709107704255.\n",
      "[I 2025-01-10 12:44:13,801] Trial 2 finished with value: -251.51268445501626 and parameters: {'adj_close': True, 'volume': True, 'weekly_price_diff': True, 'range': True, 'gap': True, 'volatility': False, 'volume_ma': True, 'volume_ratio': False, 'rsi_2w': False, 'normalized_rsi_2w': False, 'momentum_4w': False, 'momentum_8w': True, 'ema12': True, 'ema26': True, 'macd': True, 'signal_line': False, 'MACD_Distance': True, 'macd_short': True, 'macd_long': False, 'macd_diff': False, 'low14': False, 'high14': False, '%K': True, '%D': False, 'Stochastic_K_D_Distance': False, 'obv': True, 'vwap': False, 'VWAP_Distance': False, 'hl': True, 'hc': True, 'lc': True, 'tr': True, 'atr': False, 'ATR_Percentage': True, 'Pivot': True, 'Pivot_Distance': False, 'Support_Distance': True, 'Resistance_Distance': True, 'weekly_return': True, 'adj_close_lag_1w': True, 'volume_lag_1w': True, 'weekly_return_lag_1w': False, 'adj_close_lag_2w': True, 'volume_lag_2w': False, 'weekly_return_lag_2w': False, 'adj_close_lag_3w': False, 'volume_lag_3w': True, 'weekly_return_lag_3w': True, 'adj_close_lag_4w': False, 'volume_lag_4w': True, 'weekly_return_lag_4w': True, 'price_to_range_ratio': False, 'volume_change': True, 'adj_close_change': True, 'momentum_2w': True, 'weekly_return_lag_5w': True, 'weekly_return_lag_6w': True, 'weekly_return_lag_7w': True, 'weekly_return_lag_8w': False, 'rolling_mean_4w': False, 'rolling_std_4w': False, 'bollinger_upper': True, 'bollinger_lower': False, 'bollinger_bandwidth': True, 'rolling_skew_4w': False, 'rolling_kurt_4w': False, 'sharpe_ratio': False, 'day_of_week': False, 'week_of_year': False, 'month': True, 'n_estimators': 103, 'learning_rate': 0.01674704087032728, 'max_depth': 7, 'reg_alpha': 0.001828284192764652, 'reg_lambda': 0.0025891685966564658, 'subsample': 0.3618056190852218, 'colsample_bytree': 0.7107132947563085}. Best is trial 0 with value: -429.2709107704255.\n",
      "[I 2025-01-10 12:44:16,814] Trial 3 finished with value: -343.7483030122558 and parameters: {'adj_close': False, 'volume': True, 'weekly_price_diff': False, 'range': False, 'gap': True, 'volatility': True, 'volume_ma': True, 'volume_ratio': False, 'rsi_2w': False, 'normalized_rsi_2w': False, 'momentum_4w': False, 'momentum_8w': True, 'ema12': False, 'ema26': False, 'macd': True, 'signal_line': True, 'MACD_Distance': False, 'macd_short': True, 'macd_long': True, 'macd_diff': True, 'low14': False, 'high14': True, '%K': True, '%D': True, 'Stochastic_K_D_Distance': True, 'obv': True, 'vwap': True, 'VWAP_Distance': True, 'hl': True, 'hc': True, 'lc': True, 'tr': True, 'atr': True, 'ATR_Percentage': False, 'Pivot': True, 'Pivot_Distance': True, 'Support_Distance': True, 'Resistance_Distance': False, 'weekly_return': True, 'adj_close_lag_1w': True, 'volume_lag_1w': False, 'weekly_return_lag_1w': False, 'adj_close_lag_2w': True, 'volume_lag_2w': False, 'weekly_return_lag_2w': True, 'adj_close_lag_3w': False, 'volume_lag_3w': True, 'weekly_return_lag_3w': False, 'adj_close_lag_4w': True, 'volume_lag_4w': False, 'weekly_return_lag_4w': True, 'price_to_range_ratio': True, 'volume_change': False, 'adj_close_change': False, 'momentum_2w': False, 'weekly_return_lag_5w': False, 'weekly_return_lag_6w': False, 'weekly_return_lag_7w': False, 'weekly_return_lag_8w': False, 'rolling_mean_4w': False, 'rolling_std_4w': False, 'bollinger_upper': True, 'bollinger_lower': False, 'bollinger_bandwidth': False, 'rolling_skew_4w': False, 'rolling_kurt_4w': False, 'sharpe_ratio': False, 'day_of_week': True, 'week_of_year': True, 'month': True, 'n_estimators': 789, 'learning_rate': 0.013999144979618862, 'max_depth': 8, 'reg_alpha': 0.05540864968626389, 'reg_lambda': 0.0012720951083476074, 'subsample': 0.5045415947039589, 'colsample_bytree': 0.39390086651482803}. Best is trial 0 with value: -429.2709107704255.\n",
      "[I 2025-01-10 12:44:20,066] Trial 4 finished with value: -340.84534630902215 and parameters: {'adj_close': False, 'volume': True, 'weekly_price_diff': False, 'range': True, 'gap': False, 'volatility': False, 'volume_ma': True, 'volume_ratio': False, 'rsi_2w': False, 'normalized_rsi_2w': True, 'momentum_4w': True, 'momentum_8w': True, 'ema12': True, 'ema26': True, 'macd': True, 'signal_line': True, 'MACD_Distance': True, 'macd_short': False, 'macd_long': True, 'macd_diff': True, 'low14': True, 'high14': True, '%K': True, '%D': False, 'Stochastic_K_D_Distance': False, 'obv': False, 'vwap': True, 'VWAP_Distance': False, 'hl': False, 'hc': False, 'lc': False, 'tr': False, 'atr': True, 'ATR_Percentage': True, 'Pivot': True, 'Pivot_Distance': True, 'Support_Distance': True, 'Resistance_Distance': False, 'weekly_return': True, 'adj_close_lag_1w': False, 'volume_lag_1w': False, 'weekly_return_lag_1w': True, 'adj_close_lag_2w': False, 'volume_lag_2w': False, 'weekly_return_lag_2w': True, 'adj_close_lag_3w': False, 'volume_lag_3w': True, 'weekly_return_lag_3w': True, 'adj_close_lag_4w': False, 'volume_lag_4w': False, 'weekly_return_lag_4w': False, 'price_to_range_ratio': True, 'volume_change': False, 'adj_close_change': False, 'momentum_2w': True, 'weekly_return_lag_5w': True, 'weekly_return_lag_6w': True, 'weekly_return_lag_7w': True, 'weekly_return_lag_8w': False, 'rolling_mean_4w': True, 'rolling_std_4w': False, 'bollinger_upper': False, 'bollinger_lower': True, 'bollinger_bandwidth': True, 'rolling_skew_4w': False, 'rolling_kurt_4w': True, 'sharpe_ratio': True, 'day_of_week': True, 'week_of_year': False, 'month': False, 'n_estimators': 682, 'learning_rate': 0.11618049705110745, 'max_depth': 12, 'reg_alpha': 0.0011727700163790585, 'reg_lambda': 0.38286546476265976, 'subsample': 0.39228866587660305, 'colsample_bytree': 0.10033419139938254}. Best is trial 0 with value: -429.2709107704255.\n",
      "[I 2025-01-10 12:44:22,758] Trial 5 finished with value: -313.17544172697313 and parameters: {'adj_close': True, 'volume': False, 'weekly_price_diff': False, 'range': False, 'gap': False, 'volatility': False, 'volume_ma': False, 'volume_ratio': False, 'rsi_2w': True, 'normalized_rsi_2w': False, 'momentum_4w': False, 'momentum_8w': False, 'ema12': True, 'ema26': False, 'macd': False, 'signal_line': True, 'MACD_Distance': False, 'macd_short': True, 'macd_long': True, 'macd_diff': True, 'low14': True, 'high14': False, '%K': True, '%D': False, 'Stochastic_K_D_Distance': True, 'obv': True, 'vwap': False, 'VWAP_Distance': False, 'hl': False, 'hc': False, 'lc': True, 'tr': True, 'atr': False, 'ATR_Percentage': False, 'Pivot': True, 'Pivot_Distance': True, 'Support_Distance': False, 'Resistance_Distance': False, 'weekly_return': True, 'adj_close_lag_1w': False, 'volume_lag_1w': True, 'weekly_return_lag_1w': True, 'adj_close_lag_2w': True, 'volume_lag_2w': False, 'weekly_return_lag_2w': False, 'adj_close_lag_3w': True, 'volume_lag_3w': False, 'weekly_return_lag_3w': True, 'adj_close_lag_4w': True, 'volume_lag_4w': True, 'weekly_return_lag_4w': True, 'price_to_range_ratio': False, 'volume_change': False, 'adj_close_change': False, 'momentum_2w': True, 'weekly_return_lag_5w': False, 'weekly_return_lag_6w': False, 'weekly_return_lag_7w': False, 'weekly_return_lag_8w': False, 'rolling_mean_4w': True, 'rolling_std_4w': False, 'bollinger_upper': False, 'bollinger_lower': False, 'bollinger_bandwidth': True, 'rolling_skew_4w': False, 'rolling_kurt_4w': True, 'sharpe_ratio': True, 'day_of_week': False, 'week_of_year': True, 'month': False, 'n_estimators': 686, 'learning_rate': 0.10558849207435121, 'max_depth': 15, 'reg_alpha': 3.1629962967532403, 'reg_lambda': 0.0012732568554800878, 'subsample': 0.48224365098031896, 'colsample_bytree': 0.3161438903228098}. Best is trial 0 with value: -429.2709107704255.\n",
      "[I 2025-01-10 12:44:25,543] Trial 6 finished with value: -335.08812907862927 and parameters: {'adj_close': True, 'volume': True, 'weekly_price_diff': True, 'range': False, 'gap': False, 'volatility': False, 'volume_ma': True, 'volume_ratio': False, 'rsi_2w': True, 'normalized_rsi_2w': True, 'momentum_4w': True, 'momentum_8w': False, 'ema12': False, 'ema26': False, 'macd': True, 'signal_line': False, 'MACD_Distance': False, 'macd_short': False, 'macd_long': True, 'macd_diff': True, 'low14': True, 'high14': True, '%K': True, '%D': False, 'Stochastic_K_D_Distance': True, 'obv': False, 'vwap': False, 'VWAP_Distance': False, 'hl': True, 'hc': False, 'lc': False, 'tr': False, 'atr': True, 'ATR_Percentage': True, 'Pivot': False, 'Pivot_Distance': True, 'Support_Distance': True, 'Resistance_Distance': True, 'weekly_return': False, 'adj_close_lag_1w': True, 'volume_lag_1w': False, 'weekly_return_lag_1w': False, 'adj_close_lag_2w': True, 'volume_lag_2w': False, 'weekly_return_lag_2w': True, 'adj_close_lag_3w': False, 'volume_lag_3w': True, 'weekly_return_lag_3w': False, 'adj_close_lag_4w': True, 'volume_lag_4w': False, 'weekly_return_lag_4w': True, 'price_to_range_ratio': False, 'volume_change': False, 'adj_close_change': False, 'momentum_2w': False, 'weekly_return_lag_5w': True, 'weekly_return_lag_6w': False, 'weekly_return_lag_7w': False, 'weekly_return_lag_8w': False, 'rolling_mean_4w': False, 'rolling_std_4w': True, 'bollinger_upper': False, 'bollinger_lower': True, 'bollinger_bandwidth': True, 'rolling_skew_4w': False, 'rolling_kurt_4w': True, 'sharpe_ratio': True, 'day_of_week': False, 'week_of_year': False, 'month': False, 'n_estimators': 904, 'learning_rate': 0.012256400475081555, 'max_depth': 6, 'reg_alpha': 0.5297746309732335, 'reg_lambda': 3.2780181275547036, 'subsample': 0.20607145112557396, 'colsample_bytree': 0.304997238643267}. Best is trial 0 with value: -429.2709107704255.\n",
      "[I 2025-01-10 12:44:28,674] Trial 7 finished with value: -288.91809492813223 and parameters: {'adj_close': True, 'volume': False, 'weekly_price_diff': False, 'range': False, 'gap': False, 'volatility': True, 'volume_ma': True, 'volume_ratio': True, 'rsi_2w': True, 'normalized_rsi_2w': False, 'momentum_4w': False, 'momentum_8w': True, 'ema12': False, 'ema26': True, 'macd': False, 'signal_line': False, 'MACD_Distance': False, 'macd_short': True, 'macd_long': False, 'macd_diff': True, 'low14': False, 'high14': True, '%K': False, '%D': True, 'Stochastic_K_D_Distance': False, 'obv': True, 'vwap': False, 'VWAP_Distance': False, 'hl': False, 'hc': False, 'lc': True, 'tr': True, 'atr': True, 'ATR_Percentage': True, 'Pivot': True, 'Pivot_Distance': True, 'Support_Distance': True, 'Resistance_Distance': True, 'weekly_return': False, 'adj_close_lag_1w': True, 'volume_lag_1w': True, 'weekly_return_lag_1w': True, 'adj_close_lag_2w': True, 'volume_lag_2w': True, 'weekly_return_lag_2w': False, 'adj_close_lag_3w': False, 'volume_lag_3w': True, 'weekly_return_lag_3w': True, 'adj_close_lag_4w': True, 'volume_lag_4w': False, 'weekly_return_lag_4w': True, 'price_to_range_ratio': True, 'volume_change': False, 'adj_close_change': False, 'momentum_2w': True, 'weekly_return_lag_5w': False, 'weekly_return_lag_6w': False, 'weekly_return_lag_7w': False, 'weekly_return_lag_8w': False, 'rolling_mean_4w': True, 'rolling_std_4w': False, 'bollinger_upper': False, 'bollinger_lower': True, 'bollinger_bandwidth': True, 'rolling_skew_4w': False, 'rolling_kurt_4w': False, 'sharpe_ratio': False, 'day_of_week': False, 'week_of_year': False, 'month': False, 'n_estimators': 477, 'learning_rate': 0.09523482045807406, 'max_depth': 14, 'reg_alpha': 0.00838128402923332, 'reg_lambda': 0.01964168782558315, 'subsample': 0.11082155576782961, 'colsample_bytree': 0.3619181907151522}. Best is trial 0 with value: -429.2709107704255.\n",
      "[I 2025-01-10 12:44:31,927] Trial 8 finished with value: -364.18786941984524 and parameters: {'adj_close': True, 'volume': True, 'weekly_price_diff': True, 'range': False, 'gap': False, 'volatility': True, 'volume_ma': True, 'volume_ratio': True, 'rsi_2w': True, 'normalized_rsi_2w': True, 'momentum_4w': False, 'momentum_8w': True, 'ema12': True, 'ema26': False, 'macd': False, 'signal_line': False, 'MACD_Distance': True, 'macd_short': True, 'macd_long': False, 'macd_diff': False, 'low14': False, 'high14': False, '%K': False, '%D': True, 'Stochastic_K_D_Distance': True, 'obv': False, 'vwap': True, 'VWAP_Distance': False, 'hl': False, 'hc': False, 'lc': False, 'tr': True, 'atr': True, 'ATR_Percentage': False, 'Pivot': True, 'Pivot_Distance': False, 'Support_Distance': True, 'Resistance_Distance': True, 'weekly_return': True, 'adj_close_lag_1w': True, 'volume_lag_1w': True, 'weekly_return_lag_1w': True, 'adj_close_lag_2w': True, 'volume_lag_2w': True, 'weekly_return_lag_2w': True, 'adj_close_lag_3w': False, 'volume_lag_3w': True, 'weekly_return_lag_3w': False, 'adj_close_lag_4w': True, 'volume_lag_4w': False, 'weekly_return_lag_4w': True, 'price_to_range_ratio': False, 'volume_change': True, 'adj_close_change': False, 'momentum_2w': True, 'weekly_return_lag_5w': True, 'weekly_return_lag_6w': True, 'weekly_return_lag_7w': False, 'weekly_return_lag_8w': False, 'rolling_mean_4w': False, 'rolling_std_4w': False, 'bollinger_upper': False, 'bollinger_lower': False, 'bollinger_bandwidth': False, 'rolling_skew_4w': True, 'rolling_kurt_4w': True, 'sharpe_ratio': True, 'day_of_week': False, 'week_of_year': False, 'month': True, 'n_estimators': 214, 'learning_rate': 0.16284634741328954, 'max_depth': 9, 'reg_alpha': 0.09639460324626174, 'reg_lambda': 0.0010281462525414528, 'subsample': 0.2742458951811476, 'colsample_bytree': 0.7382378871245645}. Best is trial 0 with value: -429.2709107704255.\n",
      "[I 2025-01-10 12:44:34,887] Trial 9 finished with value: -378.03579286562933 and parameters: {'adj_close': False, 'volume': True, 'weekly_price_diff': False, 'range': True, 'gap': True, 'volatility': False, 'volume_ma': False, 'volume_ratio': False, 'rsi_2w': True, 'normalized_rsi_2w': True, 'momentum_4w': True, 'momentum_8w': True, 'ema12': True, 'ema26': False, 'macd': True, 'signal_line': True, 'MACD_Distance': False, 'macd_short': True, 'macd_long': False, 'macd_diff': True, 'low14': True, 'high14': True, '%K': True, '%D': False, 'Stochastic_K_D_Distance': True, 'obv': False, 'vwap': True, 'VWAP_Distance': True, 'hl': True, 'hc': True, 'lc': False, 'tr': False, 'atr': False, 'ATR_Percentage': True, 'Pivot': False, 'Pivot_Distance': False, 'Support_Distance': True, 'Resistance_Distance': True, 'weekly_return': False, 'adj_close_lag_1w': False, 'volume_lag_1w': False, 'weekly_return_lag_1w': True, 'adj_close_lag_2w': True, 'volume_lag_2w': False, 'weekly_return_lag_2w': True, 'adj_close_lag_3w': False, 'volume_lag_3w': False, 'weekly_return_lag_3w': False, 'adj_close_lag_4w': True, 'volume_lag_4w': True, 'weekly_return_lag_4w': True, 'price_to_range_ratio': True, 'volume_change': False, 'adj_close_change': False, 'momentum_2w': True, 'weekly_return_lag_5w': False, 'weekly_return_lag_6w': True, 'weekly_return_lag_7w': True, 'weekly_return_lag_8w': False, 'rolling_mean_4w': True, 'rolling_std_4w': False, 'bollinger_upper': False, 'bollinger_lower': False, 'bollinger_bandwidth': True, 'rolling_skew_4w': True, 'rolling_kurt_4w': True, 'sharpe_ratio': False, 'day_of_week': False, 'week_of_year': True, 'month': False, 'n_estimators': 723, 'learning_rate': 0.034876596479716804, 'max_depth': 6, 'reg_alpha': 0.2528643528219432, 'reg_lambda': 1.9909891552931391, 'subsample': 0.35836393962339474, 'colsample_bytree': 0.4285959964657301}. Best is trial 0 with value: -429.2709107704255.\n",
      "[I 2025-01-10 12:44:34,887] A new study created in memory with name: no-name-159f0649-2f26-4668-a788-ead80a996da7\n"
     ]
    },
    {
     "name": "stdout",
     "output_type": "stream",
     "text": [
      "Optimizing xgboost for Sharpe Ratio...\n"
     ]
    },
    {
     "name": "stderr",
     "output_type": "stream",
     "text": [
      "[I 2025-01-10 12:44:37,682] Trial 0 finished with value: -0.971284084770769 and parameters: {'adj_close': True, 'volume': True, 'weekly_price_diff': False, 'range': False, 'gap': False, 'volatility': False, 'volume_ma': True, 'volume_ratio': False, 'rsi_2w': False, 'normalized_rsi_2w': False, 'momentum_4w': True, 'momentum_8w': False, 'ema12': True, 'ema26': False, 'macd': True, 'signal_line': True, 'MACD_Distance': False, 'macd_short': False, 'macd_long': True, 'macd_diff': True, 'low14': False, 'high14': False, '%K': False, '%D': True, 'Stochastic_K_D_Distance': False, 'obv': True, 'vwap': False, 'VWAP_Distance': True, 'hl': False, 'hc': False, 'lc': False, 'tr': False, 'atr': False, 'ATR_Percentage': True, 'Pivot': False, 'Pivot_Distance': True, 'Support_Distance': True, 'Resistance_Distance': True, 'weekly_return': False, 'adj_close_lag_1w': False, 'volume_lag_1w': True, 'weekly_return_lag_1w': False, 'adj_close_lag_2w': False, 'volume_lag_2w': True, 'weekly_return_lag_2w': True, 'adj_close_lag_3w': False, 'volume_lag_3w': True, 'weekly_return_lag_3w': True, 'adj_close_lag_4w': True, 'volume_lag_4w': True, 'weekly_return_lag_4w': True, 'price_to_range_ratio': False, 'volume_change': True, 'adj_close_change': False, 'momentum_2w': True, 'weekly_return_lag_5w': False, 'weekly_return_lag_6w': False, 'weekly_return_lag_7w': True, 'weekly_return_lag_8w': False, 'rolling_mean_4w': True, 'rolling_std_4w': True, 'bollinger_upper': False, 'bollinger_lower': False, 'bollinger_bandwidth': False, 'rolling_skew_4w': True, 'rolling_kurt_4w': False, 'sharpe_ratio': True, 'day_of_week': False, 'week_of_year': False, 'month': True, 'n_estimators': 166, 'learning_rate': 0.020313606348855276, 'max_depth': 14, 'reg_alpha': 7.329973733944026, 'reg_lambda': 0.00929668235502558, 'subsample': 0.7034415035518469, 'colsample_bytree': 0.9221887520953107}. Best is trial 0 with value: -0.971284084770769.\n",
      "[I 2025-01-10 12:44:40,604] Trial 1 finished with value: -1.2930074385764563 and parameters: {'adj_close': False, 'volume': False, 'weekly_price_diff': False, 'range': True, 'gap': True, 'volatility': False, 'volume_ma': False, 'volume_ratio': False, 'rsi_2w': True, 'normalized_rsi_2w': False, 'momentum_4w': False, 'momentum_8w': False, 'ema12': True, 'ema26': True, 'macd': False, 'signal_line': True, 'MACD_Distance': True, 'macd_short': True, 'macd_long': False, 'macd_diff': False, 'low14': True, 'high14': False, '%K': False, '%D': True, 'Stochastic_K_D_Distance': True, 'obv': False, 'vwap': False, 'VWAP_Distance': True, 'hl': True, 'hc': True, 'lc': False, 'tr': True, 'atr': False, 'ATR_Percentage': True, 'Pivot': False, 'Pivot_Distance': False, 'Support_Distance': True, 'Resistance_Distance': True, 'weekly_return': True, 'adj_close_lag_1w': True, 'volume_lag_1w': False, 'weekly_return_lag_1w': True, 'adj_close_lag_2w': False, 'volume_lag_2w': False, 'weekly_return_lag_2w': False, 'adj_close_lag_3w': True, 'volume_lag_3w': True, 'weekly_return_lag_3w': True, 'adj_close_lag_4w': False, 'volume_lag_4w': True, 'weekly_return_lag_4w': False, 'price_to_range_ratio': True, 'volume_change': False, 'adj_close_change': False, 'momentum_2w': True, 'weekly_return_lag_5w': False, 'weekly_return_lag_6w': True, 'weekly_return_lag_7w': True, 'weekly_return_lag_8w': False, 'rolling_mean_4w': True, 'rolling_std_4w': True, 'bollinger_upper': False, 'bollinger_lower': False, 'bollinger_bandwidth': True, 'rolling_skew_4w': True, 'rolling_kurt_4w': False, 'sharpe_ratio': True, 'day_of_week': False, 'week_of_year': False, 'month': True, 'n_estimators': 839, 'learning_rate': 0.01203405885116058, 'max_depth': 6, 'reg_alpha': 0.002576787143874502, 'reg_lambda': 9.221427827469396, 'subsample': 0.34067244633775073, 'colsample_bytree': 0.21332011926191882}. Best is trial 1 with value: -1.2930074385764563.\n",
      "[I 2025-01-10 12:44:44,038] Trial 2 finished with value: -1.3120849379176283 and parameters: {'adj_close': True, 'volume': False, 'weekly_price_diff': True, 'range': True, 'gap': False, 'volatility': False, 'volume_ma': False, 'volume_ratio': False, 'rsi_2w': True, 'normalized_rsi_2w': False, 'momentum_4w': True, 'momentum_8w': True, 'ema12': False, 'ema26': True, 'macd': True, 'signal_line': True, 'MACD_Distance': False, 'macd_short': False, 'macd_long': False, 'macd_diff': False, 'low14': False, 'high14': False, '%K': False, '%D': True, 'Stochastic_K_D_Distance': False, 'obv': False, 'vwap': True, 'VWAP_Distance': False, 'hl': True, 'hc': True, 'lc': False, 'tr': False, 'atr': True, 'ATR_Percentage': True, 'Pivot': True, 'Pivot_Distance': False, 'Support_Distance': False, 'Resistance_Distance': True, 'weekly_return': False, 'adj_close_lag_1w': False, 'volume_lag_1w': True, 'weekly_return_lag_1w': False, 'adj_close_lag_2w': False, 'volume_lag_2w': True, 'weekly_return_lag_2w': True, 'adj_close_lag_3w': True, 'volume_lag_3w': True, 'weekly_return_lag_3w': False, 'adj_close_lag_4w': True, 'volume_lag_4w': True, 'weekly_return_lag_4w': False, 'price_to_range_ratio': True, 'volume_change': False, 'adj_close_change': False, 'momentum_2w': True, 'weekly_return_lag_5w': False, 'weekly_return_lag_6w': True, 'weekly_return_lag_7w': True, 'weekly_return_lag_8w': True, 'rolling_mean_4w': False, 'rolling_std_4w': False, 'bollinger_upper': False, 'bollinger_lower': False, 'bollinger_bandwidth': True, 'rolling_skew_4w': True, 'rolling_kurt_4w': True, 'sharpe_ratio': False, 'day_of_week': False, 'week_of_year': False, 'month': False, 'n_estimators': 423, 'learning_rate': 0.27799232200220014, 'max_depth': 15, 'reg_alpha': 0.12605107166818427, 'reg_lambda': 0.0064015460077968605, 'subsample': 0.3382202871593606, 'colsample_bytree': 0.7806064180175494}. Best is trial 2 with value: -1.3120849379176283.\n",
      "[I 2025-01-10 12:44:47,302] Trial 3 finished with value: -0.9722868366002435 and parameters: {'adj_close': False, 'volume': True, 'weekly_price_diff': True, 'range': True, 'gap': True, 'volatility': True, 'volume_ma': True, 'volume_ratio': True, 'rsi_2w': True, 'normalized_rsi_2w': False, 'momentum_4w': True, 'momentum_8w': True, 'ema12': True, 'ema26': True, 'macd': False, 'signal_line': True, 'MACD_Distance': False, 'macd_short': False, 'macd_long': True, 'macd_diff': True, 'low14': False, 'high14': False, '%K': True, '%D': True, 'Stochastic_K_D_Distance': True, 'obv': True, 'vwap': False, 'VWAP_Distance': True, 'hl': False, 'hc': True, 'lc': True, 'tr': False, 'atr': False, 'ATR_Percentage': True, 'Pivot': True, 'Pivot_Distance': True, 'Support_Distance': True, 'Resistance_Distance': False, 'weekly_return': False, 'adj_close_lag_1w': True, 'volume_lag_1w': True, 'weekly_return_lag_1w': False, 'adj_close_lag_2w': False, 'volume_lag_2w': False, 'weekly_return_lag_2w': True, 'adj_close_lag_3w': True, 'volume_lag_3w': True, 'weekly_return_lag_3w': True, 'adj_close_lag_4w': False, 'volume_lag_4w': True, 'weekly_return_lag_4w': True, 'price_to_range_ratio': True, 'volume_change': False, 'adj_close_change': False, 'momentum_2w': False, 'weekly_return_lag_5w': False, 'weekly_return_lag_6w': False, 'weekly_return_lag_7w': False, 'weekly_return_lag_8w': True, 'rolling_mean_4w': True, 'rolling_std_4w': True, 'bollinger_upper': True, 'bollinger_lower': False, 'bollinger_bandwidth': False, 'rolling_skew_4w': True, 'rolling_kurt_4w': False, 'sharpe_ratio': True, 'day_of_week': False, 'week_of_year': True, 'month': False, 'n_estimators': 889, 'learning_rate': 0.037188471937488525, 'max_depth': 9, 'reg_alpha': 0.004176420608479285, 'reg_lambda': 0.1307281068875771, 'subsample': 0.953358363370211, 'colsample_bytree': 0.9857532378491582}. Best is trial 2 with value: -1.3120849379176283.\n",
      "[I 2025-01-10 12:44:50,058] Trial 4 finished with value: -0.971284084770769 and parameters: {'adj_close': False, 'volume': False, 'weekly_price_diff': False, 'range': True, 'gap': False, 'volatility': False, 'volume_ma': True, 'volume_ratio': True, 'rsi_2w': False, 'normalized_rsi_2w': True, 'momentum_4w': False, 'momentum_8w': False, 'ema12': True, 'ema26': True, 'macd': False, 'signal_line': True, 'MACD_Distance': False, 'macd_short': True, 'macd_long': True, 'macd_diff': False, 'low14': False, 'high14': True, '%K': True, '%D': True, 'Stochastic_K_D_Distance': False, 'obv': False, 'vwap': True, 'VWAP_Distance': True, 'hl': False, 'hc': False, 'lc': True, 'tr': True, 'atr': True, 'ATR_Percentage': False, 'Pivot': True, 'Pivot_Distance': False, 'Support_Distance': True, 'Resistance_Distance': True, 'weekly_return': False, 'adj_close_lag_1w': True, 'volume_lag_1w': True, 'weekly_return_lag_1w': True, 'adj_close_lag_2w': True, 'volume_lag_2w': False, 'weekly_return_lag_2w': True, 'adj_close_lag_3w': False, 'volume_lag_3w': True, 'weekly_return_lag_3w': False, 'adj_close_lag_4w': True, 'volume_lag_4w': True, 'weekly_return_lag_4w': True, 'price_to_range_ratio': True, 'volume_change': True, 'adj_close_change': True, 'momentum_2w': False, 'weekly_return_lag_5w': False, 'weekly_return_lag_6w': False, 'weekly_return_lag_7w': True, 'weekly_return_lag_8w': True, 'rolling_mean_4w': False, 'rolling_std_4w': False, 'bollinger_upper': False, 'bollinger_lower': True, 'bollinger_bandwidth': False, 'rolling_skew_4w': True, 'rolling_kurt_4w': False, 'sharpe_ratio': False, 'day_of_week': False, 'week_of_year': False, 'month': True, 'n_estimators': 467, 'learning_rate': 0.03218942942628011, 'max_depth': 11, 'reg_alpha': 4.449262383070224, 'reg_lambda': 0.2145101532783105, 'subsample': 0.31091575517583214, 'colsample_bytree': 0.12878113329629381}. Best is trial 2 with value: -1.3120849379176283.\n",
      "[I 2025-01-10 12:44:52,852] Trial 5 finished with value: -1.2202567123300048 and parameters: {'adj_close': False, 'volume': False, 'weekly_price_diff': True, 'range': False, 'gap': True, 'volatility': False, 'volume_ma': True, 'volume_ratio': True, 'rsi_2w': False, 'normalized_rsi_2w': True, 'momentum_4w': True, 'momentum_8w': False, 'ema12': True, 'ema26': False, 'macd': False, 'signal_line': True, 'MACD_Distance': False, 'macd_short': False, 'macd_long': True, 'macd_diff': True, 'low14': False, 'high14': True, '%K': False, '%D': True, 'Stochastic_K_D_Distance': False, 'obv': False, 'vwap': False, 'VWAP_Distance': False, 'hl': False, 'hc': False, 'lc': True, 'tr': True, 'atr': True, 'ATR_Percentage': True, 'Pivot': True, 'Pivot_Distance': False, 'Support_Distance': False, 'Resistance_Distance': False, 'weekly_return': False, 'adj_close_lag_1w': True, 'volume_lag_1w': False, 'weekly_return_lag_1w': True, 'adj_close_lag_2w': True, 'volume_lag_2w': False, 'weekly_return_lag_2w': True, 'adj_close_lag_3w': True, 'volume_lag_3w': False, 'weekly_return_lag_3w': False, 'adj_close_lag_4w': True, 'volume_lag_4w': False, 'weekly_return_lag_4w': False, 'price_to_range_ratio': True, 'volume_change': False, 'adj_close_change': True, 'momentum_2w': False, 'weekly_return_lag_5w': True, 'weekly_return_lag_6w': False, 'weekly_return_lag_7w': True, 'weekly_return_lag_8w': False, 'rolling_mean_4w': False, 'rolling_std_4w': True, 'bollinger_upper': False, 'bollinger_lower': True, 'bollinger_bandwidth': True, 'rolling_skew_4w': False, 'rolling_kurt_4w': False, 'sharpe_ratio': False, 'day_of_week': False, 'week_of_year': True, 'month': False, 'n_estimators': 905, 'learning_rate': 0.11959597251832255, 'max_depth': 3, 'reg_alpha': 0.41857929938152066, 'reg_lambda': 0.08181294356570747, 'subsample': 0.7020258788162898, 'colsample_bytree': 0.8630524400837126}. Best is trial 2 with value: -1.3120849379176283.\n",
      "[I 2025-01-10 12:44:56,123] Trial 6 finished with value: -1.1343390309938415 and parameters: {'adj_close': False, 'volume': False, 'weekly_price_diff': True, 'range': True, 'gap': False, 'volatility': True, 'volume_ma': False, 'volume_ratio': True, 'rsi_2w': True, 'normalized_rsi_2w': False, 'momentum_4w': True, 'momentum_8w': True, 'ema12': False, 'ema26': False, 'macd': True, 'signal_line': False, 'MACD_Distance': True, 'macd_short': True, 'macd_long': True, 'macd_diff': True, 'low14': False, 'high14': True, '%K': False, '%D': False, 'Stochastic_K_D_Distance': False, 'obv': False, 'vwap': True, 'VWAP_Distance': True, 'hl': False, 'hc': False, 'lc': False, 'tr': False, 'atr': True, 'ATR_Percentage': False, 'Pivot': True, 'Pivot_Distance': False, 'Support_Distance': False, 'Resistance_Distance': True, 'weekly_return': True, 'adj_close_lag_1w': True, 'volume_lag_1w': False, 'weekly_return_lag_1w': True, 'adj_close_lag_2w': True, 'volume_lag_2w': True, 'weekly_return_lag_2w': True, 'adj_close_lag_3w': False, 'volume_lag_3w': False, 'weekly_return_lag_3w': False, 'adj_close_lag_4w': True, 'volume_lag_4w': False, 'weekly_return_lag_4w': False, 'price_to_range_ratio': False, 'volume_change': True, 'adj_close_change': True, 'momentum_2w': True, 'weekly_return_lag_5w': True, 'weekly_return_lag_6w': True, 'weekly_return_lag_7w': True, 'weekly_return_lag_8w': False, 'rolling_mean_4w': True, 'rolling_std_4w': True, 'bollinger_upper': False, 'bollinger_lower': True, 'bollinger_bandwidth': False, 'rolling_skew_4w': True, 'rolling_kurt_4w': True, 'sharpe_ratio': True, 'day_of_week': False, 'week_of_year': True, 'month': True, 'n_estimators': 695, 'learning_rate': 0.15655681245122877, 'max_depth': 15, 'reg_alpha': 0.512812490782604, 'reg_lambda': 0.002650038583377201, 'subsample': 0.8781304927498699, 'colsample_bytree': 0.5751919002154735}. Best is trial 2 with value: -1.3120849379176283.\n",
      "[I 2025-01-10 12:44:59,026] Trial 7 finished with value: -1.180307764631244 and parameters: {'adj_close': False, 'volume': False, 'weekly_price_diff': False, 'range': False, 'gap': True, 'volatility': False, 'volume_ma': True, 'volume_ratio': True, 'rsi_2w': False, 'normalized_rsi_2w': True, 'momentum_4w': True, 'momentum_8w': True, 'ema12': False, 'ema26': False, 'macd': True, 'signal_line': False, 'MACD_Distance': True, 'macd_short': True, 'macd_long': False, 'macd_diff': True, 'low14': True, 'high14': False, '%K': False, '%D': True, 'Stochastic_K_D_Distance': True, 'obv': True, 'vwap': False, 'VWAP_Distance': True, 'hl': True, 'hc': False, 'lc': False, 'tr': False, 'atr': False, 'ATR_Percentage': True, 'Pivot': True, 'Pivot_Distance': True, 'Support_Distance': True, 'Resistance_Distance': False, 'weekly_return': False, 'adj_close_lag_1w': True, 'volume_lag_1w': False, 'weekly_return_lag_1w': False, 'adj_close_lag_2w': True, 'volume_lag_2w': True, 'weekly_return_lag_2w': False, 'adj_close_lag_3w': True, 'volume_lag_3w': True, 'weekly_return_lag_3w': False, 'adj_close_lag_4w': False, 'volume_lag_4w': False, 'weekly_return_lag_4w': False, 'price_to_range_ratio': True, 'volume_change': True, 'adj_close_change': False, 'momentum_2w': True, 'weekly_return_lag_5w': True, 'weekly_return_lag_6w': False, 'weekly_return_lag_7w': True, 'weekly_return_lag_8w': True, 'rolling_mean_4w': False, 'rolling_std_4w': True, 'bollinger_upper': True, 'bollinger_lower': True, 'bollinger_bandwidth': False, 'rolling_skew_4w': False, 'rolling_kurt_4w': True, 'sharpe_ratio': False, 'day_of_week': False, 'week_of_year': True, 'month': True, 'n_estimators': 604, 'learning_rate': 0.03993230667350388, 'max_depth': 8, 'reg_alpha': 0.552321392224941, 'reg_lambda': 1.053136917465887, 'subsample': 0.29500530492742527, 'colsample_bytree': 0.5254302868658377}. Best is trial 2 with value: -1.3120849379176283.\n",
      "[I 2025-01-10 12:45:02,556] Trial 8 finished with value: -1.193814401727097 and parameters: {'adj_close': False, 'volume': True, 'weekly_price_diff': True, 'range': False, 'gap': True, 'volatility': True, 'volume_ma': False, 'volume_ratio': False, 'rsi_2w': False, 'normalized_rsi_2w': True, 'momentum_4w': True, 'momentum_8w': False, 'ema12': False, 'ema26': False, 'macd': False, 'signal_line': False, 'MACD_Distance': False, 'macd_short': True, 'macd_long': False, 'macd_diff': False, 'low14': False, 'high14': False, '%K': False, '%D': True, 'Stochastic_K_D_Distance': True, 'obv': False, 'vwap': True, 'VWAP_Distance': True, 'hl': False, 'hc': False, 'lc': True, 'tr': True, 'atr': False, 'ATR_Percentage': False, 'Pivot': False, 'Pivot_Distance': True, 'Support_Distance': True, 'Resistance_Distance': False, 'weekly_return': False, 'adj_close_lag_1w': True, 'volume_lag_1w': True, 'weekly_return_lag_1w': True, 'adj_close_lag_2w': True, 'volume_lag_2w': True, 'weekly_return_lag_2w': False, 'adj_close_lag_3w': False, 'volume_lag_3w': False, 'weekly_return_lag_3w': False, 'adj_close_lag_4w': True, 'volume_lag_4w': False, 'weekly_return_lag_4w': True, 'price_to_range_ratio': True, 'volume_change': False, 'adj_close_change': True, 'momentum_2w': True, 'weekly_return_lag_5w': False, 'weekly_return_lag_6w': False, 'weekly_return_lag_7w': False, 'weekly_return_lag_8w': True, 'rolling_mean_4w': True, 'rolling_std_4w': True, 'bollinger_upper': False, 'bollinger_lower': False, 'bollinger_bandwidth': True, 'rolling_skew_4w': True, 'rolling_kurt_4w': True, 'sharpe_ratio': False, 'day_of_week': False, 'week_of_year': False, 'month': False, 'n_estimators': 557, 'learning_rate': 0.04228782182844809, 'max_depth': 15, 'reg_alpha': 0.0036019657613586354, 'reg_lambda': 1.9258721840994024, 'subsample': 0.2793066786608286, 'colsample_bytree': 0.5198296005555981}. Best is trial 2 with value: -1.3120849379176283.\n",
      "[I 2025-01-10 12:45:05,397] Trial 9 finished with value: -1.2535819099583312 and parameters: {'adj_close': False, 'volume': True, 'weekly_price_diff': True, 'range': True, 'gap': False, 'volatility': True, 'volume_ma': True, 'volume_ratio': True, 'rsi_2w': False, 'normalized_rsi_2w': False, 'momentum_4w': True, 'momentum_8w': True, 'ema12': False, 'ema26': False, 'macd': True, 'signal_line': False, 'MACD_Distance': False, 'macd_short': False, 'macd_long': True, 'macd_diff': False, 'low14': True, 'high14': False, '%K': True, '%D': False, 'Stochastic_K_D_Distance': False, 'obv': False, 'vwap': False, 'VWAP_Distance': False, 'hl': True, 'hc': True, 'lc': False, 'tr': False, 'atr': False, 'ATR_Percentage': True, 'Pivot': True, 'Pivot_Distance': False, 'Support_Distance': True, 'Resistance_Distance': True, 'weekly_return': True, 'adj_close_lag_1w': False, 'volume_lag_1w': False, 'weekly_return_lag_1w': False, 'adj_close_lag_2w': False, 'volume_lag_2w': True, 'weekly_return_lag_2w': False, 'adj_close_lag_3w': False, 'volume_lag_3w': False, 'weekly_return_lag_3w': True, 'adj_close_lag_4w': False, 'volume_lag_4w': True, 'weekly_return_lag_4w': False, 'price_to_range_ratio': False, 'volume_change': True, 'adj_close_change': False, 'momentum_2w': True, 'weekly_return_lag_5w': True, 'weekly_return_lag_6w': False, 'weekly_return_lag_7w': True, 'weekly_return_lag_8w': True, 'rolling_mean_4w': True, 'rolling_std_4w': True, 'bollinger_upper': False, 'bollinger_lower': False, 'bollinger_bandwidth': True, 'rolling_skew_4w': True, 'rolling_kurt_4w': False, 'sharpe_ratio': False, 'day_of_week': False, 'week_of_year': False, 'month': True, 'n_estimators': 504, 'learning_rate': 0.10387222717501639, 'max_depth': 3, 'reg_alpha': 0.0034421879397774956, 'reg_lambda': 1.4746861389571733, 'subsample': 0.5134263602807463, 'colsample_bytree': 0.14928043248275663}. Best is trial 2 with value: -1.3120849379176283.\n",
      "[I 2025-01-10 12:45:05,398] A new study created in memory with name: no-name-5ad39aa9-2732-487b-8492-4da47ce91836\n"
     ]
    },
    {
     "name": "stdout",
     "output_type": "stream",
     "text": [
      "Optimizing catboost for ROI...\n"
     ]
    },
    {
     "name": "stderr",
     "output_type": "stream",
     "text": [
      "[I 2025-01-10 12:45:10,406] Trial 0 finished with value: -416.0777867521822 and parameters: {'adj_close': True, 'volume': True, 'weekly_price_diff': True, 'range': True, 'gap': True, 'volatility': False, 'volume_ma': True, 'volume_ratio': True, 'rsi_2w': False, 'normalized_rsi_2w': False, 'momentum_4w': False, 'momentum_8w': True, 'ema12': False, 'ema26': False, 'macd': False, 'signal_line': True, 'MACD_Distance': False, 'macd_short': True, 'macd_long': True, 'macd_diff': True, 'low14': False, 'high14': False, '%K': False, '%D': True, 'Stochastic_K_D_Distance': False, 'obv': False, 'vwap': False, 'VWAP_Distance': False, 'hl': False, 'hc': True, 'lc': False, 'tr': False, 'atr': False, 'ATR_Percentage': False, 'Pivot': False, 'Pivot_Distance': False, 'Support_Distance': True, 'Resistance_Distance': False, 'weekly_return': True, 'adj_close_lag_1w': True, 'volume_lag_1w': False, 'weekly_return_lag_1w': False, 'adj_close_lag_2w': True, 'volume_lag_2w': False, 'weekly_return_lag_2w': True, 'adj_close_lag_3w': True, 'volume_lag_3w': True, 'weekly_return_lag_3w': False, 'adj_close_lag_4w': False, 'volume_lag_4w': False, 'weekly_return_lag_4w': False, 'price_to_range_ratio': False, 'volume_change': False, 'adj_close_change': False, 'momentum_2w': False, 'weekly_return_lag_5w': False, 'weekly_return_lag_6w': True, 'weekly_return_lag_7w': False, 'weekly_return_lag_8w': True, 'rolling_mean_4w': True, 'rolling_std_4w': False, 'bollinger_upper': True, 'bollinger_lower': False, 'bollinger_bandwidth': False, 'rolling_skew_4w': False, 'rolling_kurt_4w': False, 'sharpe_ratio': False, 'day_of_week': False, 'week_of_year': False, 'month': True, 'iterations': 314, 'learning_rate': 0.040758086783867165, 'depth': 11, 'l2_leaf_reg': 0.002743049127500488, 'bagging_temperature': 0.34098179093900094, 'random_strength': 0.01738877900100471}. Best is trial 0 with value: -416.0777867521822.\n",
      "[I 2025-01-10 12:45:13,366] Trial 1 finished with value: -352.5734470586492 and parameters: {'adj_close': True, 'volume': False, 'weekly_price_diff': False, 'range': True, 'gap': True, 'volatility': True, 'volume_ma': False, 'volume_ratio': True, 'rsi_2w': False, 'normalized_rsi_2w': False, 'momentum_4w': True, 'momentum_8w': True, 'ema12': True, 'ema26': True, 'macd': False, 'signal_line': True, 'MACD_Distance': True, 'macd_short': True, 'macd_long': False, 'macd_diff': False, 'low14': False, 'high14': True, '%K': False, '%D': False, 'Stochastic_K_D_Distance': True, 'obv': True, 'vwap': False, 'VWAP_Distance': True, 'hl': False, 'hc': False, 'lc': False, 'tr': True, 'atr': True, 'ATR_Percentage': True, 'Pivot': False, 'Pivot_Distance': False, 'Support_Distance': False, 'Resistance_Distance': False, 'weekly_return': False, 'adj_close_lag_1w': True, 'volume_lag_1w': True, 'weekly_return_lag_1w': True, 'adj_close_lag_2w': True, 'volume_lag_2w': False, 'weekly_return_lag_2w': True, 'adj_close_lag_3w': True, 'volume_lag_3w': True, 'weekly_return_lag_3w': True, 'adj_close_lag_4w': True, 'volume_lag_4w': True, 'weekly_return_lag_4w': False, 'price_to_range_ratio': False, 'volume_change': False, 'adj_close_change': False, 'momentum_2w': False, 'weekly_return_lag_5w': False, 'weekly_return_lag_6w': True, 'weekly_return_lag_7w': False, 'weekly_return_lag_8w': True, 'rolling_mean_4w': False, 'rolling_std_4w': False, 'bollinger_upper': False, 'bollinger_lower': True, 'bollinger_bandwidth': False, 'rolling_skew_4w': True, 'rolling_kurt_4w': True, 'sharpe_ratio': True, 'day_of_week': False, 'week_of_year': True, 'month': False, 'iterations': 320, 'learning_rate': 0.02154598820679789, 'depth': 6, 'l2_leaf_reg': 0.10887103973008184, 'bagging_temperature': 0.11389590551568574, 'random_strength': 2.112097730055834}. Best is trial 0 with value: -416.0777867521822.\n",
      "[I 2025-01-10 12:45:16,217] Trial 2 finished with value: -254.28983527466647 and parameters: {'adj_close': True, 'volume': True, 'weekly_price_diff': True, 'range': True, 'gap': False, 'volatility': False, 'volume_ma': False, 'volume_ratio': False, 'rsi_2w': True, 'normalized_rsi_2w': False, 'momentum_4w': True, 'momentum_8w': False, 'ema12': False, 'ema26': True, 'macd': False, 'signal_line': False, 'MACD_Distance': False, 'macd_short': False, 'macd_long': True, 'macd_diff': False, 'low14': False, 'high14': False, '%K': True, '%D': True, 'Stochastic_K_D_Distance': False, 'obv': True, 'vwap': True, 'VWAP_Distance': False, 'hl': True, 'hc': False, 'lc': True, 'tr': False, 'atr': False, 'ATR_Percentage': False, 'Pivot': False, 'Pivot_Distance': True, 'Support_Distance': True, 'Resistance_Distance': True, 'weekly_return': False, 'adj_close_lag_1w': False, 'volume_lag_1w': False, 'weekly_return_lag_1w': False, 'adj_close_lag_2w': True, 'volume_lag_2w': True, 'weekly_return_lag_2w': False, 'adj_close_lag_3w': False, 'volume_lag_3w': True, 'weekly_return_lag_3w': False, 'adj_close_lag_4w': False, 'volume_lag_4w': False, 'weekly_return_lag_4w': True, 'price_to_range_ratio': False, 'volume_change': True, 'adj_close_change': True, 'momentum_2w': True, 'weekly_return_lag_5w': False, 'weekly_return_lag_6w': True, 'weekly_return_lag_7w': False, 'weekly_return_lag_8w': False, 'rolling_mean_4w': False, 'rolling_std_4w': False, 'bollinger_upper': False, 'bollinger_lower': False, 'bollinger_bandwidth': True, 'rolling_skew_4w': True, 'rolling_kurt_4w': True, 'sharpe_ratio': False, 'day_of_week': False, 'week_of_year': True, 'month': True, 'iterations': 664, 'learning_rate': 0.13609202951042204, 'depth': 6, 'l2_leaf_reg': 0.015709091972506934, 'bagging_temperature': 0.39605439749986626, 'random_strength': 0.03171341188917059}. Best is trial 0 with value: -416.0777867521822.\n",
      "[I 2025-01-10 12:45:21,093] Trial 3 finished with value: -324.1008579564583 and parameters: {'adj_close': False, 'volume': False, 'weekly_price_diff': True, 'range': False, 'gap': False, 'volatility': False, 'volume_ma': True, 'volume_ratio': True, 'rsi_2w': True, 'normalized_rsi_2w': False, 'momentum_4w': False, 'momentum_8w': True, 'ema12': False, 'ema26': True, 'macd': True, 'signal_line': True, 'MACD_Distance': False, 'macd_short': False, 'macd_long': False, 'macd_diff': False, 'low14': True, 'high14': True, '%K': False, '%D': False, 'Stochastic_K_D_Distance': True, 'obv': True, 'vwap': True, 'VWAP_Distance': True, 'hl': False, 'hc': True, 'lc': False, 'tr': False, 'atr': True, 'ATR_Percentage': False, 'Pivot': False, 'Pivot_Distance': False, 'Support_Distance': False, 'Resistance_Distance': False, 'weekly_return': False, 'adj_close_lag_1w': False, 'volume_lag_1w': True, 'weekly_return_lag_1w': True, 'adj_close_lag_2w': True, 'volume_lag_2w': False, 'weekly_return_lag_2w': False, 'adj_close_lag_3w': False, 'volume_lag_3w': True, 'weekly_return_lag_3w': False, 'adj_close_lag_4w': True, 'volume_lag_4w': False, 'weekly_return_lag_4w': False, 'price_to_range_ratio': False, 'volume_change': False, 'adj_close_change': True, 'momentum_2w': False, 'weekly_return_lag_5w': False, 'weekly_return_lag_6w': True, 'weekly_return_lag_7w': True, 'weekly_return_lag_8w': False, 'rolling_mean_4w': True, 'rolling_std_4w': False, 'bollinger_upper': True, 'bollinger_lower': False, 'bollinger_bandwidth': False, 'rolling_skew_4w': False, 'rolling_kurt_4w': False, 'sharpe_ratio': False, 'day_of_week': False, 'week_of_year': False, 'month': False, 'iterations': 309, 'learning_rate': 0.012615736773245583, 'depth': 11, 'l2_leaf_reg': 0.004158135970115469, 'bagging_temperature': 0.44229359676375435, 'random_strength': 0.8185739360567718}. Best is trial 0 with value: -416.0777867521822.\n",
      "[I 2025-01-10 12:45:23,829] Trial 4 finished with value: -302.37181312297076 and parameters: {'adj_close': True, 'volume': True, 'weekly_price_diff': True, 'range': False, 'gap': True, 'volatility': False, 'volume_ma': True, 'volume_ratio': False, 'rsi_2w': False, 'normalized_rsi_2w': True, 'momentum_4w': True, 'momentum_8w': True, 'ema12': False, 'ema26': False, 'macd': True, 'signal_line': True, 'MACD_Distance': False, 'macd_short': True, 'macd_long': True, 'macd_diff': True, 'low14': True, 'high14': True, '%K': True, '%D': True, 'Stochastic_K_D_Distance': True, 'obv': True, 'vwap': True, 'VWAP_Distance': True, 'hl': False, 'hc': True, 'lc': True, 'tr': False, 'atr': False, 'ATR_Percentage': True, 'Pivot': True, 'Pivot_Distance': False, 'Support_Distance': False, 'Resistance_Distance': True, 'weekly_return': True, 'adj_close_lag_1w': True, 'volume_lag_1w': False, 'weekly_return_lag_1w': True, 'adj_close_lag_2w': True, 'volume_lag_2w': True, 'weekly_return_lag_2w': False, 'adj_close_lag_3w': True, 'volume_lag_3w': False, 'weekly_return_lag_3w': True, 'adj_close_lag_4w': True, 'volume_lag_4w': False, 'weekly_return_lag_4w': True, 'price_to_range_ratio': True, 'volume_change': True, 'adj_close_change': True, 'momentum_2w': True, 'weekly_return_lag_5w': False, 'weekly_return_lag_6w': False, 'weekly_return_lag_7w': True, 'weekly_return_lag_8w': True, 'rolling_mean_4w': False, 'rolling_std_4w': True, 'bollinger_upper': True, 'bollinger_lower': True, 'bollinger_bandwidth': False, 'rolling_skew_4w': True, 'rolling_kurt_4w': True, 'sharpe_ratio': False, 'day_of_week': False, 'week_of_year': True, 'month': True, 'iterations': 259, 'learning_rate': 0.10219598222212363, 'depth': 4, 'l2_leaf_reg': 0.4498537054651579, 'bagging_temperature': 0.1988684075019843, 'random_strength': 1.852769994771521}. Best is trial 0 with value: -416.0777867521822.\n",
      "[I 2025-01-10 12:45:26,661] Trial 5 finished with value: -436.7845153181392 and parameters: {'adj_close': True, 'volume': False, 'weekly_price_diff': True, 'range': True, 'gap': True, 'volatility': False, 'volume_ma': False, 'volume_ratio': True, 'rsi_2w': False, 'normalized_rsi_2w': False, 'momentum_4w': False, 'momentum_8w': True, 'ema12': False, 'ema26': True, 'macd': True, 'signal_line': True, 'MACD_Distance': True, 'macd_short': True, 'macd_long': True, 'macd_diff': True, 'low14': True, 'high14': True, '%K': True, '%D': True, 'Stochastic_K_D_Distance': False, 'obv': False, 'vwap': False, 'VWAP_Distance': True, 'hl': True, 'hc': False, 'lc': False, 'tr': False, 'atr': True, 'ATR_Percentage': True, 'Pivot': False, 'Pivot_Distance': False, 'Support_Distance': True, 'Resistance_Distance': False, 'weekly_return': True, 'adj_close_lag_1w': False, 'volume_lag_1w': True, 'weekly_return_lag_1w': True, 'adj_close_lag_2w': False, 'volume_lag_2w': True, 'weekly_return_lag_2w': True, 'adj_close_lag_3w': False, 'volume_lag_3w': False, 'weekly_return_lag_3w': False, 'adj_close_lag_4w': True, 'volume_lag_4w': False, 'weekly_return_lag_4w': False, 'price_to_range_ratio': True, 'volume_change': False, 'adj_close_change': False, 'momentum_2w': False, 'weekly_return_lag_5w': True, 'weekly_return_lag_6w': True, 'weekly_return_lag_7w': False, 'weekly_return_lag_8w': True, 'rolling_mean_4w': False, 'rolling_std_4w': False, 'bollinger_upper': False, 'bollinger_lower': False, 'bollinger_bandwidth': False, 'rolling_skew_4w': True, 'rolling_kurt_4w': True, 'sharpe_ratio': False, 'day_of_week': False, 'week_of_year': False, 'month': False, 'iterations': 945, 'learning_rate': 0.014195609006068866, 'depth': 6, 'l2_leaf_reg': 0.05055518966332895, 'bagging_temperature': 0.5490453692677587, 'random_strength': 0.0015414604000032112}. Best is trial 5 with value: -436.7845153181392.\n",
      "[I 2025-01-10 12:45:31,609] Trial 6 finished with value: -401.0962430513441 and parameters: {'adj_close': False, 'volume': True, 'weekly_price_diff': True, 'range': False, 'gap': False, 'volatility': True, 'volume_ma': False, 'volume_ratio': False, 'rsi_2w': True, 'normalized_rsi_2w': False, 'momentum_4w': False, 'momentum_8w': False, 'ema12': True, 'ema26': True, 'macd': True, 'signal_line': False, 'MACD_Distance': False, 'macd_short': True, 'macd_long': True, 'macd_diff': False, 'low14': False, 'high14': True, '%K': False, '%D': False, 'Stochastic_K_D_Distance': True, 'obv': False, 'vwap': False, 'VWAP_Distance': False, 'hl': False, 'hc': True, 'lc': False, 'tr': True, 'atr': False, 'ATR_Percentage': False, 'Pivot': True, 'Pivot_Distance': False, 'Support_Distance': False, 'Resistance_Distance': False, 'weekly_return': True, 'adj_close_lag_1w': False, 'volume_lag_1w': False, 'weekly_return_lag_1w': False, 'adj_close_lag_2w': True, 'volume_lag_2w': True, 'weekly_return_lag_2w': True, 'adj_close_lag_3w': True, 'volume_lag_3w': True, 'weekly_return_lag_3w': False, 'adj_close_lag_4w': False, 'volume_lag_4w': True, 'weekly_return_lag_4w': False, 'price_to_range_ratio': False, 'volume_change': False, 'adj_close_change': False, 'momentum_2w': True, 'weekly_return_lag_5w': False, 'weekly_return_lag_6w': True, 'weekly_return_lag_7w': True, 'weekly_return_lag_8w': False, 'rolling_mean_4w': True, 'rolling_std_4w': True, 'bollinger_upper': True, 'bollinger_lower': True, 'bollinger_bandwidth': True, 'rolling_skew_4w': False, 'rolling_kurt_4w': False, 'sharpe_ratio': False, 'day_of_week': False, 'week_of_year': False, 'month': True, 'iterations': 826, 'learning_rate': 0.043617550848663804, 'depth': 11, 'l2_leaf_reg': 0.9437159471765828, 'bagging_temperature': 0.5178795868688187, 'random_strength': 0.021446928988526674}. Best is trial 5 with value: -436.7845153181392.\n",
      "[I 2025-01-10 12:45:34,966] Trial 7 finished with value: -435.0712822241194 and parameters: {'adj_close': False, 'volume': False, 'weekly_price_diff': True, 'range': True, 'gap': False, 'volatility': True, 'volume_ma': False, 'volume_ratio': True, 'rsi_2w': False, 'normalized_rsi_2w': True, 'momentum_4w': True, 'momentum_8w': False, 'ema12': True, 'ema26': True, 'macd': True, 'signal_line': False, 'MACD_Distance': True, 'macd_short': True, 'macd_long': True, 'macd_diff': False, 'low14': True, 'high14': True, '%K': False, '%D': False, 'Stochastic_K_D_Distance': False, 'obv': False, 'vwap': True, 'VWAP_Distance': False, 'hl': True, 'hc': False, 'lc': False, 'tr': True, 'atr': True, 'ATR_Percentage': False, 'Pivot': False, 'Pivot_Distance': False, 'Support_Distance': False, 'Resistance_Distance': False, 'weekly_return': False, 'adj_close_lag_1w': True, 'volume_lag_1w': False, 'weekly_return_lag_1w': True, 'adj_close_lag_2w': False, 'volume_lag_2w': False, 'weekly_return_lag_2w': False, 'adj_close_lag_3w': True, 'volume_lag_3w': False, 'weekly_return_lag_3w': True, 'adj_close_lag_4w': False, 'volume_lag_4w': True, 'weekly_return_lag_4w': True, 'price_to_range_ratio': False, 'volume_change': True, 'adj_close_change': False, 'momentum_2w': True, 'weekly_return_lag_5w': True, 'weekly_return_lag_6w': False, 'weekly_return_lag_7w': False, 'weekly_return_lag_8w': True, 'rolling_mean_4w': True, 'rolling_std_4w': False, 'bollinger_upper': False, 'bollinger_lower': False, 'bollinger_bandwidth': False, 'rolling_skew_4w': False, 'rolling_kurt_4w': True, 'sharpe_ratio': True, 'day_of_week': True, 'week_of_year': False, 'month': True, 'iterations': 308, 'learning_rate': 0.03465391002828532, 'depth': 9, 'l2_leaf_reg': 0.057968076350110684, 'bagging_temperature': 0.04102594311300112, 'random_strength': 0.0023582265197450453}. Best is trial 5 with value: -436.7845153181392.\n",
      "[I 2025-01-10 12:46:37,172] Trial 8 finished with value: -423.62839839247283 and parameters: {'adj_close': False, 'volume': True, 'weekly_price_diff': True, 'range': True, 'gap': True, 'volatility': True, 'volume_ma': False, 'volume_ratio': False, 'rsi_2w': False, 'normalized_rsi_2w': True, 'momentum_4w': True, 'momentum_8w': False, 'ema12': True, 'ema26': True, 'macd': True, 'signal_line': False, 'MACD_Distance': True, 'macd_short': False, 'macd_long': True, 'macd_diff': False, 'low14': False, 'high14': False, '%K': True, '%D': True, 'Stochastic_K_D_Distance': True, 'obv': True, 'vwap': True, 'VWAP_Distance': False, 'hl': False, 'hc': False, 'lc': False, 'tr': True, 'atr': False, 'ATR_Percentage': False, 'Pivot': False, 'Pivot_Distance': False, 'Support_Distance': True, 'Resistance_Distance': True, 'weekly_return': True, 'adj_close_lag_1w': False, 'volume_lag_1w': True, 'weekly_return_lag_1w': False, 'adj_close_lag_2w': False, 'volume_lag_2w': False, 'weekly_return_lag_2w': False, 'adj_close_lag_3w': True, 'volume_lag_3w': True, 'weekly_return_lag_3w': True, 'adj_close_lag_4w': False, 'volume_lag_4w': False, 'weekly_return_lag_4w': True, 'price_to_range_ratio': True, 'volume_change': False, 'adj_close_change': False, 'momentum_2w': False, 'weekly_return_lag_5w': True, 'weekly_return_lag_6w': True, 'weekly_return_lag_7w': True, 'weekly_return_lag_8w': False, 'rolling_mean_4w': False, 'rolling_std_4w': True, 'bollinger_upper': False, 'bollinger_lower': False, 'bollinger_bandwidth': False, 'rolling_skew_4w': False, 'rolling_kurt_4w': False, 'sharpe_ratio': False, 'day_of_week': True, 'week_of_year': False, 'month': True, 'iterations': 575, 'learning_rate': 0.06879458989338143, 'depth': 15, 'l2_leaf_reg': 0.6026877311982288, 'bagging_temperature': 0.07567320346759832, 'random_strength': 1.5213589602151654}. Best is trial 5 with value: -436.7845153181392.\n",
      "[I 2025-01-10 12:46:40,731] Trial 9 finished with value: -340.2657232472803 and parameters: {'adj_close': True, 'volume': False, 'weekly_price_diff': True, 'range': True, 'gap': False, 'volatility': True, 'volume_ma': True, 'volume_ratio': False, 'rsi_2w': True, 'normalized_rsi_2w': True, 'momentum_4w': True, 'momentum_8w': False, 'ema12': False, 'ema26': True, 'macd': True, 'signal_line': True, 'MACD_Distance': True, 'macd_short': False, 'macd_long': True, 'macd_diff': False, 'low14': False, 'high14': True, '%K': False, '%D': False, 'Stochastic_K_D_Distance': True, 'obv': True, 'vwap': False, 'VWAP_Distance': True, 'hl': False, 'hc': True, 'lc': False, 'tr': False, 'atr': True, 'ATR_Percentage': False, 'Pivot': True, 'Pivot_Distance': True, 'Support_Distance': True, 'Resistance_Distance': False, 'weekly_return': True, 'adj_close_lag_1w': False, 'volume_lag_1w': False, 'weekly_return_lag_1w': True, 'adj_close_lag_2w': True, 'volume_lag_2w': False, 'weekly_return_lag_2w': True, 'adj_close_lag_3w': True, 'volume_lag_3w': True, 'weekly_return_lag_3w': True, 'adj_close_lag_4w': True, 'volume_lag_4w': True, 'weekly_return_lag_4w': False, 'price_to_range_ratio': False, 'volume_change': False, 'adj_close_change': True, 'momentum_2w': False, 'weekly_return_lag_5w': False, 'weekly_return_lag_6w': True, 'weekly_return_lag_7w': False, 'weekly_return_lag_8w': True, 'rolling_mean_4w': False, 'rolling_std_4w': False, 'bollinger_upper': True, 'bollinger_lower': False, 'bollinger_bandwidth': True, 'rolling_skew_4w': True, 'rolling_kurt_4w': False, 'sharpe_ratio': True, 'day_of_week': True, 'week_of_year': True, 'month': True, 'iterations': 961, 'learning_rate': 0.01874541722075244, 'depth': 9, 'l2_leaf_reg': 0.0024096863965975377, 'bagging_temperature': 0.37841556803858634, 'random_strength': 4.527109388367168}. Best is trial 5 with value: -436.7845153181392.\n",
      "[I 2025-01-10 12:46:40,732] A new study created in memory with name: no-name-b9ce40d7-f70e-432a-8159-f908bda9e9ed\n"
     ]
    },
    {
     "name": "stdout",
     "output_type": "stream",
     "text": [
      "Optimizing catboost for Sharpe Ratio...\n"
     ]
    },
    {
     "name": "stderr",
     "output_type": "stream",
     "text": [
      "[I 2025-01-10 12:47:35,699] Trial 0 finished with value: -1.2730808409025052 and parameters: {'adj_close': False, 'volume': True, 'weekly_price_diff': True, 'range': False, 'gap': False, 'volatility': False, 'volume_ma': False, 'volume_ratio': False, 'rsi_2w': True, 'normalized_rsi_2w': True, 'momentum_4w': True, 'momentum_8w': False, 'ema12': True, 'ema26': False, 'macd': False, 'signal_line': False, 'MACD_Distance': True, 'macd_short': False, 'macd_long': False, 'macd_diff': False, 'low14': False, 'high14': False, '%K': True, '%D': False, 'Stochastic_K_D_Distance': True, 'obv': False, 'vwap': False, 'VWAP_Distance': False, 'hl': False, 'hc': True, 'lc': False, 'tr': True, 'atr': False, 'ATR_Percentage': True, 'Pivot': True, 'Pivot_Distance': False, 'Support_Distance': True, 'Resistance_Distance': False, 'weekly_return': False, 'adj_close_lag_1w': True, 'volume_lag_1w': True, 'weekly_return_lag_1w': True, 'adj_close_lag_2w': True, 'volume_lag_2w': False, 'weekly_return_lag_2w': True, 'adj_close_lag_3w': False, 'volume_lag_3w': False, 'weekly_return_lag_3w': False, 'adj_close_lag_4w': True, 'volume_lag_4w': True, 'weekly_return_lag_4w': False, 'price_to_range_ratio': True, 'volume_change': True, 'adj_close_change': True, 'momentum_2w': False, 'weekly_return_lag_5w': True, 'weekly_return_lag_6w': False, 'weekly_return_lag_7w': False, 'weekly_return_lag_8w': False, 'rolling_mean_4w': False, 'rolling_std_4w': True, 'bollinger_upper': False, 'bollinger_lower': False, 'bollinger_bandwidth': True, 'rolling_skew_4w': True, 'rolling_kurt_4w': False, 'sharpe_ratio': False, 'day_of_week': False, 'week_of_year': True, 'month': True, 'iterations': 788, 'learning_rate': 0.052977681527605895, 'depth': 15, 'l2_leaf_reg': 1.9306672944999346, 'bagging_temperature': 0.6077319849263035, 'random_strength': 0.0026095634065683476}. Best is trial 0 with value: -1.2730808409025052.\n",
      "[I 2025-01-10 12:47:50,624] Trial 1 finished with value: -1.1486672364417767 and parameters: {'adj_close': True, 'volume': False, 'weekly_price_diff': False, 'range': False, 'gap': False, 'volatility': True, 'volume_ma': True, 'volume_ratio': True, 'rsi_2w': True, 'normalized_rsi_2w': True, 'momentum_4w': False, 'momentum_8w': True, 'ema12': False, 'ema26': False, 'macd': True, 'signal_line': True, 'MACD_Distance': True, 'macd_short': False, 'macd_long': False, 'macd_diff': False, 'low14': False, 'high14': True, '%K': True, '%D': False, 'Stochastic_K_D_Distance': False, 'obv': False, 'vwap': False, 'VWAP_Distance': False, 'hl': True, 'hc': True, 'lc': False, 'tr': False, 'atr': False, 'ATR_Percentage': True, 'Pivot': True, 'Pivot_Distance': True, 'Support_Distance': True, 'Resistance_Distance': True, 'weekly_return': False, 'adj_close_lag_1w': False, 'volume_lag_1w': True, 'weekly_return_lag_1w': True, 'adj_close_lag_2w': True, 'volume_lag_2w': True, 'weekly_return_lag_2w': True, 'adj_close_lag_3w': True, 'volume_lag_3w': True, 'weekly_return_lag_3w': False, 'adj_close_lag_4w': False, 'volume_lag_4w': True, 'weekly_return_lag_4w': False, 'price_to_range_ratio': False, 'volume_change': True, 'adj_close_change': False, 'momentum_2w': True, 'weekly_return_lag_5w': False, 'weekly_return_lag_6w': True, 'weekly_return_lag_7w': False, 'weekly_return_lag_8w': False, 'rolling_mean_4w': True, 'rolling_std_4w': True, 'bollinger_upper': True, 'bollinger_lower': False, 'bollinger_bandwidth': True, 'rolling_skew_4w': True, 'rolling_kurt_4w': False, 'sharpe_ratio': True, 'day_of_week': False, 'week_of_year': True, 'month': False, 'iterations': 834, 'learning_rate': 0.012032800605486525, 'depth': 13, 'l2_leaf_reg': 0.48911301117045874, 'bagging_temperature': 0.17328259804444457, 'random_strength': 0.14804597669082656}. Best is trial 0 with value: -1.2730808409025052.\n",
      "[I 2025-01-10 12:47:53,320] Trial 2 finished with value: -0.8073249023661266 and parameters: {'adj_close': False, 'volume': True, 'weekly_price_diff': True, 'range': True, 'gap': True, 'volatility': True, 'volume_ma': False, 'volume_ratio': False, 'rsi_2w': False, 'normalized_rsi_2w': False, 'momentum_4w': False, 'momentum_8w': True, 'ema12': True, 'ema26': False, 'macd': True, 'signal_line': False, 'MACD_Distance': False, 'macd_short': True, 'macd_long': True, 'macd_diff': False, 'low14': False, 'high14': False, '%K': False, '%D': True, 'Stochastic_K_D_Distance': False, 'obv': False, 'vwap': True, 'VWAP_Distance': False, 'hl': False, 'hc': True, 'lc': True, 'tr': False, 'atr': True, 'ATR_Percentage': False, 'Pivot': True, 'Pivot_Distance': False, 'Support_Distance': True, 'Resistance_Distance': True, 'weekly_return': False, 'adj_close_lag_1w': False, 'volume_lag_1w': False, 'weekly_return_lag_1w': False, 'adj_close_lag_2w': True, 'volume_lag_2w': True, 'weekly_return_lag_2w': False, 'adj_close_lag_3w': False, 'volume_lag_3w': True, 'weekly_return_lag_3w': True, 'adj_close_lag_4w': True, 'volume_lag_4w': False, 'weekly_return_lag_4w': True, 'price_to_range_ratio': False, 'volume_change': True, 'adj_close_change': False, 'momentum_2w': False, 'weekly_return_lag_5w': False, 'weekly_return_lag_6w': False, 'weekly_return_lag_7w': False, 'weekly_return_lag_8w': True, 'rolling_mean_4w': False, 'rolling_std_4w': True, 'bollinger_upper': False, 'bollinger_lower': False, 'bollinger_bandwidth': False, 'rolling_skew_4w': False, 'rolling_kurt_4w': False, 'sharpe_ratio': False, 'day_of_week': True, 'week_of_year': True, 'month': True, 'iterations': 923, 'learning_rate': 0.18712854447717164, 'depth': 3, 'l2_leaf_reg': 8.820623682546435, 'bagging_temperature': 0.5731600157879773, 'random_strength': 1.4374730455366709}. Best is trial 0 with value: -1.2730808409025052.\n",
      "[I 2025-01-10 12:47:56,433] Trial 3 finished with value: -1.205966686889303 and parameters: {'adj_close': False, 'volume': True, 'weekly_price_diff': True, 'range': False, 'gap': True, 'volatility': False, 'volume_ma': True, 'volume_ratio': False, 'rsi_2w': True, 'normalized_rsi_2w': True, 'momentum_4w': False, 'momentum_8w': False, 'ema12': False, 'ema26': False, 'macd': True, 'signal_line': False, 'MACD_Distance': False, 'macd_short': True, 'macd_long': False, 'macd_diff': True, 'low14': False, 'high14': True, '%K': True, '%D': True, 'Stochastic_K_D_Distance': True, 'obv': False, 'vwap': True, 'VWAP_Distance': True, 'hl': True, 'hc': True, 'lc': True, 'tr': False, 'atr': True, 'ATR_Percentage': True, 'Pivot': False, 'Pivot_Distance': True, 'Support_Distance': False, 'Resistance_Distance': False, 'weekly_return': False, 'adj_close_lag_1w': True, 'volume_lag_1w': False, 'weekly_return_lag_1w': False, 'adj_close_lag_2w': True, 'volume_lag_2w': False, 'weekly_return_lag_2w': True, 'adj_close_lag_3w': False, 'volume_lag_3w': True, 'weekly_return_lag_3w': True, 'adj_close_lag_4w': True, 'volume_lag_4w': False, 'weekly_return_lag_4w': False, 'price_to_range_ratio': False, 'volume_change': False, 'adj_close_change': False, 'momentum_2w': False, 'weekly_return_lag_5w': True, 'weekly_return_lag_6w': False, 'weekly_return_lag_7w': False, 'weekly_return_lag_8w': True, 'rolling_mean_4w': False, 'rolling_std_4w': False, 'bollinger_upper': True, 'bollinger_lower': True, 'bollinger_bandwidth': False, 'rolling_skew_4w': False, 'rolling_kurt_4w': True, 'sharpe_ratio': False, 'day_of_week': True, 'week_of_year': False, 'month': True, 'iterations': 511, 'learning_rate': 0.19698402704585474, 'depth': 8, 'l2_leaf_reg': 0.15821313205656906, 'bagging_temperature': 0.8923464422525387, 'random_strength': 0.0930954397517561}. Best is trial 0 with value: -1.2730808409025052.\n",
      "[I 2025-01-10 12:47:59,335] Trial 4 finished with value: -1.2072838775153751 and parameters: {'adj_close': False, 'volume': False, 'weekly_price_diff': False, 'range': False, 'gap': False, 'volatility': True, 'volume_ma': False, 'volume_ratio': True, 'rsi_2w': True, 'normalized_rsi_2w': True, 'momentum_4w': True, 'momentum_8w': False, 'ema12': False, 'ema26': False, 'macd': True, 'signal_line': True, 'MACD_Distance': False, 'macd_short': False, 'macd_long': False, 'macd_diff': False, 'low14': True, 'high14': False, '%K': False, '%D': True, 'Stochastic_K_D_Distance': False, 'obv': True, 'vwap': False, 'VWAP_Distance': False, 'hl': False, 'hc': True, 'lc': True, 'tr': False, 'atr': False, 'ATR_Percentage': True, 'Pivot': True, 'Pivot_Distance': True, 'Support_Distance': True, 'Resistance_Distance': False, 'weekly_return': False, 'adj_close_lag_1w': True, 'volume_lag_1w': False, 'weekly_return_lag_1w': True, 'adj_close_lag_2w': True, 'volume_lag_2w': True, 'weekly_return_lag_2w': True, 'adj_close_lag_3w': True, 'volume_lag_3w': False, 'weekly_return_lag_3w': True, 'adj_close_lag_4w': False, 'volume_lag_4w': False, 'weekly_return_lag_4w': False, 'price_to_range_ratio': False, 'volume_change': False, 'adj_close_change': False, 'momentum_2w': False, 'weekly_return_lag_5w': False, 'weekly_return_lag_6w': False, 'weekly_return_lag_7w': False, 'weekly_return_lag_8w': True, 'rolling_mean_4w': False, 'rolling_std_4w': False, 'bollinger_upper': False, 'bollinger_lower': True, 'bollinger_bandwidth': False, 'rolling_skew_4w': True, 'rolling_kurt_4w': True, 'sharpe_ratio': False, 'day_of_week': True, 'week_of_year': True, 'month': True, 'iterations': 443, 'learning_rate': 0.015215267604820669, 'depth': 7, 'l2_leaf_reg': 2.2198613384061536, 'bagging_temperature': 0.529989845484225, 'random_strength': 0.42971867724487245}. Best is trial 0 with value: -1.2730808409025052.\n",
      "[I 2025-01-10 12:49:26,812] Trial 5 finished with value: -1.1212399718577601 and parameters: {'adj_close': False, 'volume': False, 'weekly_price_diff': True, 'range': True, 'gap': False, 'volatility': True, 'volume_ma': True, 'volume_ratio': True, 'rsi_2w': True, 'normalized_rsi_2w': True, 'momentum_4w': True, 'momentum_8w': True, 'ema12': True, 'ema26': True, 'macd': True, 'signal_line': False, 'MACD_Distance': True, 'macd_short': False, 'macd_long': True, 'macd_diff': False, 'low14': False, 'high14': False, '%K': False, '%D': False, 'Stochastic_K_D_Distance': False, 'obv': False, 'vwap': False, 'VWAP_Distance': True, 'hl': True, 'hc': False, 'lc': True, 'tr': False, 'atr': True, 'ATR_Percentage': False, 'Pivot': False, 'Pivot_Distance': False, 'Support_Distance': False, 'Resistance_Distance': False, 'weekly_return': True, 'adj_close_lag_1w': True, 'volume_lag_1w': True, 'weekly_return_lag_1w': True, 'adj_close_lag_2w': False, 'volume_lag_2w': False, 'weekly_return_lag_2w': False, 'adj_close_lag_3w': True, 'volume_lag_3w': False, 'weekly_return_lag_3w': False, 'adj_close_lag_4w': False, 'volume_lag_4w': True, 'weekly_return_lag_4w': False, 'price_to_range_ratio': True, 'volume_change': True, 'adj_close_change': True, 'momentum_2w': True, 'weekly_return_lag_5w': True, 'weekly_return_lag_6w': True, 'weekly_return_lag_7w': True, 'weekly_return_lag_8w': True, 'rolling_mean_4w': True, 'rolling_std_4w': False, 'bollinger_upper': True, 'bollinger_lower': True, 'bollinger_bandwidth': True, 'rolling_skew_4w': True, 'rolling_kurt_4w': False, 'sharpe_ratio': True, 'day_of_week': True, 'week_of_year': True, 'month': True, 'iterations': 326, 'learning_rate': 0.011480332917690236, 'depth': 15, 'l2_leaf_reg': 4.51163429773773, 'bagging_temperature': 0.1108079319618861, 'random_strength': 0.026927202657427044}. Best is trial 0 with value: -1.2730808409025052.\n",
      "[I 2025-01-10 12:49:30,501] Trial 6 finished with value: -1.1606384186512477 and parameters: {'adj_close': True, 'volume': True, 'weekly_price_diff': True, 'range': False, 'gap': False, 'volatility': False, 'volume_ma': False, 'volume_ratio': False, 'rsi_2w': True, 'normalized_rsi_2w': False, 'momentum_4w': True, 'momentum_8w': True, 'ema12': False, 'ema26': True, 'macd': False, 'signal_line': True, 'MACD_Distance': True, 'macd_short': True, 'macd_long': True, 'macd_diff': False, 'low14': True, 'high14': True, '%K': False, '%D': False, 'Stochastic_K_D_Distance': False, 'obv': False, 'vwap': True, 'VWAP_Distance': True, 'hl': True, 'hc': True, 'lc': True, 'tr': True, 'atr': False, 'ATR_Percentage': True, 'Pivot': True, 'Pivot_Distance': False, 'Support_Distance': True, 'Resistance_Distance': True, 'weekly_return': True, 'adj_close_lag_1w': True, 'volume_lag_1w': True, 'weekly_return_lag_1w': False, 'adj_close_lag_2w': True, 'volume_lag_2w': False, 'weekly_return_lag_2w': False, 'adj_close_lag_3w': True, 'volume_lag_3w': True, 'weekly_return_lag_3w': True, 'adj_close_lag_4w': False, 'volume_lag_4w': True, 'weekly_return_lag_4w': True, 'price_to_range_ratio': False, 'volume_change': False, 'adj_close_change': False, 'momentum_2w': False, 'weekly_return_lag_5w': True, 'weekly_return_lag_6w': True, 'weekly_return_lag_7w': True, 'weekly_return_lag_8w': False, 'rolling_mean_4w': False, 'rolling_std_4w': True, 'bollinger_upper': True, 'bollinger_lower': False, 'bollinger_bandwidth': False, 'rolling_skew_4w': False, 'rolling_kurt_4w': False, 'sharpe_ratio': False, 'day_of_week': True, 'week_of_year': True, 'month': True, 'iterations': 927, 'learning_rate': 0.05172686946861378, 'depth': 9, 'l2_leaf_reg': 0.6245407377116202, 'bagging_temperature': 0.6517168480146613, 'random_strength': 0.0018692362236942726}. Best is trial 0 with value: -1.2730808409025052.\n",
      "[I 2025-01-10 12:49:33,351] Trial 7 finished with value: -0.7959408643315005 and parameters: {'adj_close': True, 'volume': False, 'weekly_price_diff': True, 'range': True, 'gap': False, 'volatility': True, 'volume_ma': False, 'volume_ratio': False, 'rsi_2w': True, 'normalized_rsi_2w': False, 'momentum_4w': False, 'momentum_8w': False, 'ema12': True, 'ema26': True, 'macd': False, 'signal_line': True, 'MACD_Distance': True, 'macd_short': False, 'macd_long': False, 'macd_diff': False, 'low14': True, 'high14': True, '%K': False, '%D': True, 'Stochastic_K_D_Distance': False, 'obv': True, 'vwap': False, 'VWAP_Distance': True, 'hl': True, 'hc': False, 'lc': True, 'tr': True, 'atr': True, 'ATR_Percentage': False, 'Pivot': True, 'Pivot_Distance': False, 'Support_Distance': True, 'Resistance_Distance': False, 'weekly_return': True, 'adj_close_lag_1w': True, 'volume_lag_1w': False, 'weekly_return_lag_1w': False, 'adj_close_lag_2w': True, 'volume_lag_2w': False, 'weekly_return_lag_2w': True, 'adj_close_lag_3w': False, 'volume_lag_3w': False, 'weekly_return_lag_3w': False, 'adj_close_lag_4w': True, 'volume_lag_4w': False, 'weekly_return_lag_4w': False, 'price_to_range_ratio': True, 'volume_change': True, 'adj_close_change': True, 'momentum_2w': True, 'weekly_return_lag_5w': False, 'weekly_return_lag_6w': True, 'weekly_return_lag_7w': False, 'weekly_return_lag_8w': True, 'rolling_mean_4w': True, 'rolling_std_4w': True, 'bollinger_upper': True, 'bollinger_lower': False, 'bollinger_bandwidth': False, 'rolling_skew_4w': True, 'rolling_kurt_4w': False, 'sharpe_ratio': False, 'day_of_week': False, 'week_of_year': False, 'month': False, 'iterations': 399, 'learning_rate': 0.018593031102276048, 'depth': 6, 'l2_leaf_reg': 6.688120637094594, 'bagging_temperature': 0.43973923449965036, 'random_strength': 2.0754630564421217}. Best is trial 0 with value: -1.2730808409025052.\n",
      "[I 2025-01-10 12:50:47,379] Trial 8 finished with value: -1.1620650362049112 and parameters: {'adj_close': False, 'volume': True, 'weekly_price_diff': False, 'range': False, 'gap': False, 'volatility': True, 'volume_ma': True, 'volume_ratio': False, 'rsi_2w': True, 'normalized_rsi_2w': False, 'momentum_4w': False, 'momentum_8w': True, 'ema12': False, 'ema26': True, 'macd': False, 'signal_line': True, 'MACD_Distance': True, 'macd_short': True, 'macd_long': False, 'macd_diff': False, 'low14': False, 'high14': True, '%K': True, '%D': True, 'Stochastic_K_D_Distance': True, 'obv': True, 'vwap': True, 'VWAP_Distance': True, 'hl': False, 'hc': False, 'lc': True, 'tr': False, 'atr': False, 'ATR_Percentage': False, 'Pivot': False, 'Pivot_Distance': False, 'Support_Distance': True, 'Resistance_Distance': False, 'weekly_return': False, 'adj_close_lag_1w': True, 'volume_lag_1w': True, 'weekly_return_lag_1w': True, 'adj_close_lag_2w': True, 'volume_lag_2w': True, 'weekly_return_lag_2w': True, 'adj_close_lag_3w': True, 'volume_lag_3w': False, 'weekly_return_lag_3w': False, 'adj_close_lag_4w': True, 'volume_lag_4w': True, 'weekly_return_lag_4w': True, 'price_to_range_ratio': False, 'volume_change': False, 'adj_close_change': True, 'momentum_2w': False, 'weekly_return_lag_5w': False, 'weekly_return_lag_6w': False, 'weekly_return_lag_7w': False, 'weekly_return_lag_8w': True, 'rolling_mean_4w': True, 'rolling_std_4w': True, 'bollinger_upper': False, 'bollinger_lower': True, 'bollinger_bandwidth': True, 'rolling_skew_4w': False, 'rolling_kurt_4w': True, 'sharpe_ratio': False, 'day_of_week': True, 'week_of_year': True, 'month': False, 'iterations': 814, 'learning_rate': 0.03638392584937483, 'depth': 15, 'l2_leaf_reg': 0.022139238141670823, 'bagging_temperature': 0.5644843027526784, 'random_strength': 0.022288129095885137}. Best is trial 0 with value: -1.2730808409025052.\n",
      "[I 2025-01-10 12:50:50,277] Trial 9 finished with value: -1.28816496212352 and parameters: {'adj_close': False, 'volume': False, 'weekly_price_diff': True, 'range': False, 'gap': False, 'volatility': True, 'volume_ma': True, 'volume_ratio': False, 'rsi_2w': False, 'normalized_rsi_2w': True, 'momentum_4w': False, 'momentum_8w': False, 'ema12': False, 'ema26': True, 'macd': True, 'signal_line': False, 'MACD_Distance': False, 'macd_short': False, 'macd_long': False, 'macd_diff': False, 'low14': True, 'high14': False, '%K': False, '%D': False, 'Stochastic_K_D_Distance': True, 'obv': False, 'vwap': False, 'VWAP_Distance': False, 'hl': True, 'hc': True, 'lc': False, 'tr': False, 'atr': False, 'ATR_Percentage': False, 'Pivot': True, 'Pivot_Distance': True, 'Support_Distance': False, 'Resistance_Distance': False, 'weekly_return': False, 'adj_close_lag_1w': True, 'volume_lag_1w': False, 'weekly_return_lag_1w': False, 'adj_close_lag_2w': True, 'volume_lag_2w': True, 'weekly_return_lag_2w': False, 'adj_close_lag_3w': True, 'volume_lag_3w': True, 'weekly_return_lag_3w': False, 'adj_close_lag_4w': True, 'volume_lag_4w': False, 'weekly_return_lag_4w': True, 'price_to_range_ratio': True, 'volume_change': False, 'adj_close_change': False, 'momentum_2w': True, 'weekly_return_lag_5w': False, 'weekly_return_lag_6w': False, 'weekly_return_lag_7w': False, 'weekly_return_lag_8w': False, 'rolling_mean_4w': False, 'rolling_std_4w': False, 'bollinger_upper': False, 'bollinger_lower': True, 'bollinger_bandwidth': True, 'rolling_skew_4w': True, 'rolling_kurt_4w': False, 'sharpe_ratio': False, 'day_of_week': False, 'week_of_year': False, 'month': False, 'iterations': 620, 'learning_rate': 0.021507089632301798, 'depth': 7, 'l2_leaf_reg': 7.150461451711119, 'bagging_temperature': 0.4252816015940095, 'random_strength': 0.033118220642397375}. Best is trial 9 with value: -1.28816496212352.\n"
     ]
    }
   ],
   "execution_count": 10
  },
  {
   "cell_type": "code",
   "metadata": {
    "ExecuteTime": {
     "end_time": "2025-01-10T09:51:10.764950Z",
     "start_time": "2025-01-10T09:50:50.292842Z"
    }
   },
   "source": [
    "for model_type, params in results.items():\n",
    "    # Save the best features for ROI\n",
    "    roi_features = [feature for feature in features if params['best_roi_params'].get(feature)]\n",
    "    X_train_roi = train_df[roi_features]\n",
    "    y_train_roi = train_df['next_weekly_return']\n",
    "    X_test_roi = test_df[roi_features]\n",
    "    y_test_roi = test_df['next_weekly_return']\n",
    "\n",
    "    # Extract hyperparameters for ROI model\n",
    "    roi_hyperparams = {k: v for k, v in params['best_roi_params'].items() if k not in features}\n",
    "\n",
    "    # Train and evaluate the ROI model\n",
    "    if model_type == \"lightgbm\":\n",
    "        roi_model = lgb.train(roi_hyperparams, lgb.Dataset(X_train_roi, label=y_train_roi), num_boost_round=1000)\n",
    "        predictions = roi_model.predict(X_test_roi)\n",
    "    elif model_type == \"xgboost\":\n",
    "        train_data = xgb.DMatrix(X_train_roi, label=y_train_roi)\n",
    "        test_data = xgb.DMatrix(X_test_roi)\n",
    "        roi_model = xgb.train(roi_hyperparams, train_data, num_boost_round=1000, verbose_eval=False)\n",
    "        predictions = roi_model.predict(test_data)\n",
    "    elif model_type == \"catboost\":\n",
    "        roi_model = CatBoostRegressor(**roi_hyperparams)  # Pass only hyperparameters\n",
    "        roi_model.fit(X_train_roi, y_train_roi, eval_set=(X_test_roi, y_test_roi), early_stopping_rounds=100, verbose=False)\n",
    "        predictions = roi_model.predict(X_test_roi)\n",
    "\n",
    "    # Save the ROI model and features\n",
    "    joblib.dump(roi_model, os.path.join(models_directory, f\"{model_type}_roi_model.pkl\"))\n",
    "    joblib.dump(roi_features, os.path.join(models_directory, f\"{model_type}_roi_features.pkl\"))\n",
    "\n",
    "    # Calculate and print metrics for ROI model\n",
    "    rmse = np.sqrt(mean_squared_error(y_test_roi, predictions))\n",
    "    mae = mean_absolute_error(y_test_roi, predictions)\n",
    "    predictions_df = pd.DataFrame({\n",
    "        'date': test_df['date'],\n",
    "        'stock_name': test_df['stock_name'],\n",
    "        'predicted_return': predictions\n",
    "    })\n",
    "    unique_stocks = test_df['stock_name'].unique().tolist()\n",
    "    final_portfolio_value, net_profit, roi, sharpe_ratio, _ = backtest_top3_with_sharpe(predictions_df, test_df, unique_stocks)\n",
    "\n",
    "    print(f\"{model_type} ROI Model Metrics:\")\n",
    "    print(f\"  RMSE: {rmse:.4f}\")\n",
    "    print(f\"  MAE: {mae:.4f}\")\n",
    "    print(f\"  ROI: {roi:.2f}%\")\n",
    "    print(f\"  Sharpe Ratio: {sharpe_ratio:.4f}\")\n",
    "    print(f\"  Net Profit: {net_profit:.2f}\")\n",
    "\n",
    "    # Save the best features for Sharpe Ratio\n",
    "    sharpe_features = [feature for feature in features if params['best_sharpe_params'].get(feature)]\n",
    "    X_train_sharpe = train_df[sharpe_features]\n",
    "    y_train_sharpe = train_df['next_weekly_return']\n",
    "    X_test_sharpe = test_df[sharpe_features]\n",
    "    y_test_sharpe = test_df['next_weekly_return']\n",
    "\n",
    "    # Extract hyperparameters for Sharpe Ratio model\n",
    "    sharpe_hyperparams = {k: v for k, v in params['best_sharpe_params'].items() if k not in features}\n",
    "\n",
    "    # Train and evaluate the Sharpe Ratio model\n",
    "    if model_type == \"lightgbm\":\n",
    "        sharpe_model = lgb.train(sharpe_hyperparams, lgb.Dataset(X_train_sharpe, label=y_train_sharpe), num_boost_round=1000)\n",
    "        predictions = sharpe_model.predict(X_test_sharpe)\n",
    "    elif model_type == \"xgboost\":\n",
    "        train_data = xgb.DMatrix(X_train_sharpe, label=y_train_sharpe)\n",
    "        test_data = xgb.DMatrix(X_test_sharpe)\n",
    "        sharpe_model = xgb.train(sharpe_hyperparams, train_data, num_boost_round=1000, verbose_eval=False)\n",
    "        predictions = sharpe_model.predict(test_data)\n",
    "    elif model_type == \"catboost\":\n",
    "        sharpe_model = CatBoostRegressor(**sharpe_hyperparams)\n",
    "        sharpe_model.fit(X_train_sharpe, y_train_sharpe, eval_set=(X_test_sharpe, y_test_sharpe), early_stopping_rounds=100, verbose=False)\n",
    "        predictions = sharpe_model.predict(X_test_sharpe)\n",
    "\n",
    "    # Save the Sharpe Ratio model and features\n",
    "    joblib.dump(sharpe_model, os.path.join(models_directory, f\"{model_type}_sharpe_model.pkl\"))\n",
    "    joblib.dump(sharpe_features, os.path.join(models_directory, f\"{model_type}_sharpe_features.pkl\"))\n",
    "\n",
    "    # Calculate and print metrics for Sharpe Ratio model\n",
    "    rmse = np.sqrt(mean_squared_error(y_test_sharpe, predictions))\n",
    "    mae = mean_absolute_error(y_test_sharpe, predictions)\n",
    "    predictions_df = pd.DataFrame({\n",
    "        'date': test_df['date'],\n",
    "        'stock_name': test_df['stock_name'],\n",
    "        'predicted_return': predictions\n",
    "    })\n",
    "    unique_stocks = test_df['stock_name'].unique().tolist()\n",
    "    final_portfolio_value, net_profit, roi, sharpe_ratio, _ = backtest_top3_with_sharpe(predictions_df, test_df, unique_stocks)\n",
    "\n",
    "    print(f\"{model_type} Sharpe Ratio Model Metrics:\")\n",
    "    print(f\"  RMSE: {rmse:.4f}\")\n",
    "    print(f\"  MAE: {mae:.4f}\")\n",
    "    print(f\"  ROI: {roi:.2f}%\")\n",
    "    print(f\"  Sharpe Ratio: {sharpe_ratio:.4f}\")\n",
    "    print(f\"  Net Profit: {net_profit:.2f}\")\n"
   ],
   "outputs": [
    {
     "name": "stdout",
     "output_type": "stream",
     "text": [
      "lightgbm ROI Model Metrics:\n",
      "  RMSE: 0.0567\n",
      "  MAE: 0.0403\n",
      "  ROI: 46.14%\n",
      "  Sharpe Ratio: 1.5428\n",
      "  Net Profit: 46139.69\n",
      "lightgbm Sharpe Ratio Model Metrics:\n",
      "  RMSE: 0.0560\n",
      "  MAE: 0.0399\n",
      "  ROI: 61.35%\n",
      "  Sharpe Ratio: 1.1377\n",
      "  Net Profit: 61352.75\n",
      "xgboost ROI Model Metrics:\n",
      "  RMSE: 0.0548\n",
      "  MAE: 0.0384\n",
      "  ROI: 75.35%\n",
      "  Sharpe Ratio: 1.2173\n",
      "  Net Profit: 75346.19\n",
      "xgboost Sharpe Ratio Model Metrics:\n",
      "  RMSE: 0.0583\n",
      "  MAE: 0.0417\n",
      "  ROI: 38.82%\n",
      "  Sharpe Ratio: 1.0935\n",
      "  Net Profit: 38823.16\n",
      "catboost ROI Model Metrics:\n",
      "  RMSE: 0.0539\n",
      "  MAE: 0.0377\n",
      "  ROI: 31.12%\n",
      "  Sharpe Ratio: 0.4462\n",
      "  Net Profit: 31119.26\n",
      "catboost Sharpe Ratio Model Metrics:\n",
      "  RMSE: 0.0539\n",
      "  MAE: 0.0377\n",
      "  ROI: 36.53%\n",
      "  Sharpe Ratio: 1.3917\n",
      "  Net Profit: 36527.85\n"
     ]
    }
   ],
   "execution_count": 11
  },
  {
   "cell_type": "code",
   "metadata": {
    "ExecuteTime": {
     "end_time": "2025-01-10T09:51:10.805688Z",
     "start_time": "2025-01-10T09:51:10.803005Z"
    }
   },
   "source": [],
   "outputs": [],
   "execution_count": null
  }
 ],
 "metadata": {
  "kernelspec": {
   "display_name": "Python 3",
   "language": "python",
   "name": "python3"
  },
  "language_info": {
   "codemirror_mode": {
    "name": "ipython",
    "version": 3
   },
   "file_extension": ".py",
   "mimetype": "text/x-python",
   "name": "python",
   "nbconvert_exporter": "python",
   "pygments_lexer": "ipython3",
   "version": "3.11.7"
  }
 },
 "nbformat": 4,
 "nbformat_minor": 2
}
