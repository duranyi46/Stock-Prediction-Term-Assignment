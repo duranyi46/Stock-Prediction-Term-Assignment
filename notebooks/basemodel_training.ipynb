{
 "cells": [
  {
   "cell_type": "markdown",
   "metadata": {},
   "source": [
    "## Read Data from Postgres"
   ]
  },
  {
   "cell_type": "code",
   "execution_count": 13,
   "metadata": {},
   "outputs": [
    {
     "name": "stdout",
     "output_type": "stream",
     "text": [
      "Models will be saved in: c:\\Users\\deadp\\OneDrive\\Masaüstü\\PredictStock_TA\\models\n"
     ]
    }
   ],
   "source": [
    "import pandas as pd\n",
    "import numpy as np\n",
    "import warnings\n",
    "import joblib\n",
    "warnings.filterwarnings('ignore')\n",
    "import matplotlib.pyplot as plt\n",
    "import seaborn as sns\n",
    "\n",
    "from catboost import CatBoostRegressor\n",
    "import optuna\n",
    "import lightgbm as lgb\n",
    "import xgboost as xgb\n",
    "from sklearn.metrics import mean_squared_error\n",
    "from sklearn.metrics import mean_absolute_error\n",
    "import numpy as np\n",
    "\n",
    "from dotenv import load_dotenv\n",
    "load_dotenv()\n",
    "\n",
    "import os\n",
    "import joblib\n",
    "import sys\n",
    "sys.path.append('../scripts')\n",
    "\n",
    "from process import process_data, split_dataframe_by_period, read_data\n",
    "\n",
    "models_directory = \"../models\"\n",
    "\n",
    "os.makedirs(models_directory, exist_ok=True)\n",
    "print(f\"Models will be saved in: {os.path.abspath(models_directory)}\")"
   ]
  },
  {
   "cell_type": "code",
   "execution_count": 10,
   "metadata": {},
   "outputs": [],
   "source": [
    "df = read_data(\"historical_stock_data\")\n",
    "train_df, test_df, validation_df, prediction_df = process_data(df, split_periods=True)\n",
    "df = read_data(\"historical_stock_data\")"
   ]
  },
  {
   "cell_type": "code",
   "execution_count": 11,
   "metadata": {},
   "outputs": [
    {
     "data": {
      "text/plain": [
       "(3719, 77)"
      ]
     },
     "execution_count": 11,
     "metadata": {},
     "output_type": "execute_result"
    }
   ],
   "source": [
    "train_df.shape"
   ]
  },
  {
   "cell_type": "code",
   "execution_count": 12,
   "metadata": {},
   "outputs": [
    {
     "name": "stdout",
     "output_type": "stream",
     "text": [
      "(3719, 77)\n",
      "(1413, 77)\n",
      "(468, 77)\n",
      "(468, 77)\n"
     ]
    }
   ],
   "source": [
    "print(train_df.shape)\n",
    "print(test_df.shape)\n",
    "print(validation_df.shape)\n",
    "print(prediction_df.shape)"
   ]
  },
  {
   "cell_type": "code",
   "execution_count": 6,
   "metadata": {},
   "outputs": [
    {
     "data": {
      "text/plain": [
       "Index(['date', 'stock_name', 'open', 'high', 'low', 'close', 'adj_close',\n",
       "       'volume', 'weekly_price_diff', 'range', 'gap', 'volatility',\n",
       "       'volume_ma', 'volume_ratio', 'rsi_2w', 'normalized_rsi_2w',\n",
       "       'momentum_4w', 'momentum_8w', 'ema12', 'ema26', 'macd', 'signal_line',\n",
       "       'MACD_Distance', 'macd_short', 'macd_long', 'macd_diff', 'low14',\n",
       "       'high14', '%K', '%D', 'Stochastic_K_D_Distance', 'obv', 'vwap',\n",
       "       'VWAP_Distance', 'hl', 'hc', 'lc', 'tr', 'atr', 'ATR_Percentage',\n",
       "       'Pivot', 'Pivot_Distance', 'Support_Distance', 'Resistance_Distance',\n",
       "       'weekly_return', 'next_weekly_return', 'adj_close_lag_1w',\n",
       "       'volume_lag_1w', 'weekly_return_lag_1w', 'adj_close_lag_2w',\n",
       "       'volume_lag_2w', 'weekly_return_lag_2w', 'adj_close_lag_3w',\n",
       "       'volume_lag_3w', 'weekly_return_lag_3w', 'adj_close_lag_4w',\n",
       "       'volume_lag_4w', 'weekly_return_lag_4w', 'price_to_range_ratio',\n",
       "       'volume_change', 'adj_close_change', 'momentum_2w',\n",
       "       'weekly_return_lag_5w', 'weekly_return_lag_6w', 'weekly_return_lag_7w',\n",
       "       'weekly_return_lag_8w', 'rolling_mean_4w', 'rolling_std_4w',\n",
       "       'bollinger_upper', 'bollinger_lower', 'bollinger_bandwidth',\n",
       "       'rolling_skew_4w', 'rolling_kurt_4w', 'sharpe_ratio', 'day_of_week',\n",
       "       'week_of_year', 'month'],\n",
       "      dtype='object')"
      ]
     },
     "execution_count": 6,
     "metadata": {},
     "output_type": "execute_result"
    }
   ],
   "source": [
    "unique_stocks = train_df['stock_name'].unique().tolist()\n",
    "train_df.columns"
   ]
  },
  {
   "cell_type": "code",
   "execution_count": 6,
   "metadata": {},
   "outputs": [
    {
     "data": {
      "text/plain": [
       "date          datetime64[ns]\n",
       "open                 float64\n",
       "high                 float64\n",
       "low                  float64\n",
       "close                float64\n",
       "adj_close            float64\n",
       "volume                 int64\n",
       "stock_name            object\n",
       "dtype: object"
      ]
     },
     "execution_count": 6,
     "metadata": {},
     "output_type": "execute_result"
    }
   ],
   "source": [
    "df.dtypes"
   ]
  },
  {
   "cell_type": "code",
   "execution_count": 7,
   "metadata": {},
   "outputs": [],
   "source": [
    "features = ['adj_close',\n",
    "       'volume', 'weekly_price_diff', 'range', 'gap', 'volatility',\n",
    "       'volume_ma', 'volume_ratio', 'rsi_2w', 'normalized_rsi_2w',\n",
    "       'momentum_4w', 'momentum_8w', 'ema12', 'ema26', 'macd', 'signal_line',\n",
    "       'MACD_Distance', 'macd_short', 'macd_long', 'macd_diff', 'low14',\n",
    "       'high14', '%K', '%D', 'Stochastic_K_D_Distance', 'obv', 'vwap',\n",
    "       'VWAP_Distance', 'hl', 'hc', 'lc', 'tr', 'atr', 'ATR_Percentage',\n",
    "       'Pivot', 'Pivot_Distance', 'Support_Distance', 'Resistance_Distance',\n",
    "       'weekly_return', 'adj_close_lag_1w',\n",
    "       'volume_lag_1w', 'weekly_return_lag_1w', 'adj_close_lag_2w',\n",
    "       'volume_lag_2w', 'weekly_return_lag_2w', 'adj_close_lag_3w',\n",
    "       'volume_lag_3w', 'weekly_return_lag_3w', 'adj_close_lag_4w',\n",
    "       'volume_lag_4w', 'weekly_return_lag_4w', 'price_to_range_ratio',\n",
    "       'volume_change', 'adj_close_change', 'momentum_2w',\n",
    "       'weekly_return_lag_5w', 'weekly_return_lag_6w', 'weekly_return_lag_7w',\n",
    "       'weekly_return_lag_8w', 'rolling_mean_4w', 'rolling_std_4w',\n",
    "       'bollinger_upper', 'bollinger_lower', 'bollinger_bandwidth',\n",
    "       'rolling_skew_4w', 'rolling_kurt_4w', 'sharpe_ratio', 'day_of_week',\n",
    "       'week_of_year', 'month']"
   ]
  },
  {
   "cell_type": "code",
   "execution_count": 8,
   "metadata": {},
   "outputs": [],
   "source": [
    "def backtest_top3_with_sharpe(\n",
    "    predictions_df, data, unique_stocks, initial_balance=100000, action_fee=0.001,\n",
    "    risk_free_rate=0.0, take_profit=0.04):\n",
    "    \n",
    "    total_cash = initial_balance\n",
    "    holdings = {stock: 0 for stock in unique_stocks}\n",
    "    purchase_prices = {stock: 0 for stock in unique_stocks}\n",
    "    actions = []  # List to store actions\n",
    "    trade_returns = []  # List to store trade returns\n",
    "\n",
    "    predictions_df = predictions_df.sort_values(by='date')\n",
    "\n",
    "    for date in predictions_df['date'].unique():\n",
    "        daily_predictions = predictions_df[predictions_df['date'] == date]\n",
    "        top_3_stocks = daily_predictions.nlargest(5, 'predicted_return')['stock_name'].tolist()\n",
    "\n",
    "        for stock in unique_stocks:\n",
    "            stock_data = data[data['stock_name'] == stock].reset_index(drop=True)\n",
    "            current_day_data = stock_data[stock_data['date'] == date]\n",
    "\n",
    "            if len(current_day_data) == 0 or stock not in top_3_stocks:\n",
    "                continue\n",
    "\n",
    "            current_price = current_day_data.iloc[0]['open']\n",
    "            next_day_data = stock_data[stock_data['date'] > date].iloc[:1]\n",
    "            if next_day_data.empty:\n",
    "                continue\n",
    "\n",
    "            next_open_price = next_day_data.iloc[0]['open']\n",
    "\n",
    "            # Buy logic\n",
    "            if stock in top_3_stocks and holdings[stock] == 0:\n",
    "                investment_amount = total_cash / 3\n",
    "                shares_to_buy = max(1, investment_amount // next_open_price)\n",
    "\n",
    "                if shares_to_buy > 0:\n",
    "                    total_cash -= shares_to_buy * next_open_price * (1 + action_fee)\n",
    "                    holdings[stock] += shares_to_buy\n",
    "                    purchase_prices[stock] = next_open_price\n",
    "                    actions.append({\n",
    "                        'signal_date': date,\n",
    "                        'trade_date': next_day_data.iloc[0]['date'],\n",
    "                        'stock': stock,\n",
    "                        'action': 'buy',\n",
    "                        'price': next_open_price,\n",
    "                        'shares': shares_to_buy,\n",
    "                        'total_cash': total_cash,\n",
    "                        'portfolio_value': total_cash + sum(\n",
    "                            holdings[s] * stock_data[stock_data['date'] <= date].iloc[-1]['close']\n",
    "                            for s in unique_stocks\n",
    "                        ),\n",
    "                        'profit_percentage': 0  # No profit percentage on buy\n",
    "                    })\n",
    "\n",
    "            # Sell logic with take profit and stop loss\n",
    "            if holdings[stock] > 0:\n",
    "                # Calculate return\n",
    "                trade_return = (next_open_price - purchase_prices[stock]) / purchase_prices[stock]\n",
    "\n",
    "                # Check thresholds\n",
    "                if trade_return >= take_profit:\n",
    "                    total_cash += holdings[stock] * next_open_price * (1 - action_fee)\n",
    "                    trade_returns.append(trade_return)\n",
    "                    actions.append({\n",
    "                        'signal_date': date,\n",
    "                        'trade_date': next_day_data.iloc[0]['date'],\n",
    "                        'stock': stock,\n",
    "                        'action': 'sell',\n",
    "                        'price': next_open_price,\n",
    "                        'shares': holdings[stock],\n",
    "                        'total_cash': total_cash,\n",
    "                        'portfolio_value': total_cash + sum(\n",
    "                            holdings[s] * stock_data[stock_data['date'] <= date].iloc[-1]['close']\n",
    "                            for s in unique_stocks\n",
    "                        ),\n",
    "                        'profit_percentage': trade_return * 100\n",
    "                    })\n",
    "                    holdings[stock] = 0  # Reset holdings\n",
    "\n",
    "    # Convert actions to a DataFrame\n",
    "    actions_df = pd.DataFrame(actions)\n",
    "\n",
    "    # Calculate final portfolio value\n",
    "    final_portfolio_value = total_cash + sum(\n",
    "        holdings[stock] * data[data['stock_name'] == stock].iloc[-1]['close']\n",
    "        for stock in unique_stocks\n",
    "    )\n",
    "    net_profit = final_portfolio_value - initial_balance\n",
    "    roi = (net_profit / initial_balance) * 100\n",
    "\n",
    "    # Calculate Sharpe Ratio\n",
    "    if trade_returns:\n",
    "        average_return = np.mean(trade_returns)\n",
    "        std_dev_return = np.std(trade_returns)\n",
    "        sharpe_ratio = (average_return - risk_free_rate) / (std_dev_return + 1e-8)\n",
    "    else:\n",
    "        sharpe_ratio = 0\n",
    "\n",
    "    return final_portfolio_value, net_profit, roi, sharpe_ratio, actions_df\n"
   ]
  },
  {
   "cell_type": "code",
   "execution_count": 9,
   "metadata": {},
   "outputs": [],
   "source": [
    "def generic_objective(trial, model_type, optimize_metric):\n",
    "    \"\"\"\n",
    "    Generic objective function to optimize ROI or Sharpe Ratio for different model types.\n",
    "    \n",
    "    Args:\n",
    "        trial: Optuna trial object.\n",
    "        model_type: One of 'lightgbm', 'xgboost', 'catboost'.\n",
    "        optimize_metric: 'roi' or 'sharpe_ratio'.\n",
    "    \n",
    "    Returns:\n",
    "        Negative of the selected metric (to maximize).\n",
    "    \"\"\"\n",
    "    # Fix the trailing comma issue\n",
    "    X_train = train_df[features]  # Ensure this is a DataFrame\n",
    "    X_test = test_df[features]  # Ensure this is a DataFrame\n",
    "    y_train = train_df['next_weekly_return']\n",
    "    y_test = test_df['next_weekly_return']\n",
    "\n",
    "    selected_features = []\n",
    "    for feature in features:\n",
    "        if trial.suggest_categorical(feature, (True, False)):\n",
    "            selected_features.append(feature)\n",
    "\n",
    "    if model_type == \"lightgbm\":\n",
    "        params = {\n",
    "            'n_estimators': trial.suggest_int('n_estimators', 100, 1000),\n",
    "            'learning_rate': trial.suggest_loguniform('learning_rate', 0.01, 0.3),\n",
    "            'max_depth': trial.suggest_int('max_depth', 3, 15),\n",
    "            'reg_alpha': trial.suggest_loguniform('reg_alpha', 1e-3, 10),  \n",
    "            'reg_lambda': trial.suggest_loguniform('reg_lambda', 1e-3, 10),  \n",
    "            'bagging_fraction': trial.suggest_uniform('bagging_fraction', 0.1, 1.0),\n",
    "            'feature_fraction': trial.suggest_uniform('feature_fraction', 0.1, 1.0),\n",
    "            'objective': 'regression',\n",
    "            'metric': 'rmse',\n",
    "            'verbosity': -1,\n",
    "            'random_state': 42\n",
    "        }\n",
    "\n",
    "        train_data = lgb.Dataset(X_train[selected_features], label=y_train)\n",
    "        valid_data = lgb.Dataset(X_test[selected_features], label=y_test, reference=train_data)\n",
    "        callbacks = [lgb.early_stopping(stopping_rounds=100, verbose=False)]\n",
    "        model = lgb.train(params, train_data, valid_sets=[valid_data], num_boost_round=1000, callbacks=callbacks)\n",
    "\n",
    "        predictions = model.predict(X_test[selected_features])\n",
    "\n",
    "    elif model_type == \"xgboost\":\n",
    "        params = {\n",
    "            'n_estimators': trial.suggest_int('n_estimators', 100, 1000),\n",
    "            'learning_rate': trial.suggest_loguniform('learning_rate', 0.01, 0.3),\n",
    "            'max_depth': trial.suggest_int('max_depth', 3, 15),\n",
    "            'reg_alpha': trial.suggest_loguniform('reg_alpha', 1e-3, 10),  \n",
    "            'reg_lambda': trial.suggest_loguniform('reg_lambda', 1e-3, 10),  \n",
    "            'subsample': trial.suggest_uniform('subsample', 0.1, 1.0),\n",
    "            'colsample_bytree': trial.suggest_uniform('colsample_bytree', 0.1, 1.0),\n",
    "            'objective': 'reg:squarederror',\n",
    "            'eval_metric': 'rmse',\n",
    "            'random_state': 42\n",
    "        }\n",
    "\n",
    "        X_train_selected = X_train[selected_features]\n",
    "        X_test_selected = X_test[selected_features]\n",
    "\n",
    "        train_data = xgb.DMatrix(X_train_selected, label=y_train)\n",
    "        test_data = xgb.DMatrix(X_test_selected, label=y_test)\n",
    "\n",
    "        model = xgb.train(\n",
    "            params,\n",
    "            train_data,\n",
    "            num_boost_round=1000,\n",
    "            evals=[(test_data, 'validation')],\n",
    "            early_stopping_rounds=100,\n",
    "            verbose_eval=False\n",
    "        )\n",
    "\n",
    "        predictions = model.predict(test_data)\n",
    "\n",
    "    elif model_type == \"catboost\":\n",
    "        params = {\n",
    "            'iterations': trial.suggest_int('iterations', 100, 1000),\n",
    "            'learning_rate': trial.suggest_loguniform('learning_rate', 0.01, 0.3),\n",
    "            'depth': trial.suggest_int('depth', 3, 15),\n",
    "            'l2_leaf_reg': trial.suggest_loguniform('l2_leaf_reg', 1e-3, 10),\n",
    "            'bagging_temperature': trial.suggest_uniform('bagging_temperature', 0, 1),\n",
    "            'random_strength': trial.suggest_loguniform('random_strength', 1e-3, 10),\n",
    "            'verbose': 0,\n",
    "            'loss_function': 'RMSE',\n",
    "            'random_seed': 42\n",
    "        }\n",
    "\n",
    "        X_train_selected = X_train[selected_features]\n",
    "        X_test_selected = X_test[selected_features]\n",
    "\n",
    "        model = CatBoostRegressor(**params)\n",
    "        model.fit(X_train_selected, y_train, eval_set=(X_test_selected, y_test), early_stopping_rounds=100, verbose=False)\n",
    "\n",
    "        predictions = model.predict(X_test_selected)\n",
    "\n",
    "    else:\n",
    "        raise ValueError(\"Invalid model_type. Choose from 'lightgbm', 'xgboost', 'catboost'.\")\n",
    "\n",
    "    # Generate predictions and backtest\n",
    "    predictions_df = pd.DataFrame({\n",
    "        'date': test_df['date'],\n",
    "        'stock_name': test_df['stock_name'],\n",
    "        'predicted_return': predictions\n",
    "    })\n",
    "\n",
    "    unique_stocks = test_df['stock_name'].unique().tolist()\n",
    "    _, _, roi, sharpe_ratio, _ = backtest_top3_with_sharpe(predictions_df, df, unique_stocks)\n",
    "\n",
    "    if optimize_metric == \"roi\":\n",
    "        return -roi  # Minimize negative ROI to maximize ROI\n",
    "    elif optimize_metric == \"sharpe_ratio\":\n",
    "        return -sharpe_ratio  # Minimize negative Sharpe Ratio to maximize Sharpe Ratio\n",
    "    else:\n",
    "        raise ValueError(\"Invalid optimize_metric. Choose from 'roi', 'sharpe_ratio'.\")"
   ]
  },
  {
   "cell_type": "code",
   "execution_count": 10,
   "metadata": {},
   "outputs": [
    {
     "name": "stderr",
     "output_type": "stream",
     "text": [
      "[I 2025-01-09 10:51:12,710] A new study created in memory with name: no-name-73d91508-0ae3-479d-8992-a04e6fe71d87\n"
     ]
    },
    {
     "name": "stdout",
     "output_type": "stream",
     "text": [
      "Optimizing lightgbm for ROI...\n"
     ]
    },
    {
     "name": "stderr",
     "output_type": "stream",
     "text": [
      "[I 2025-01-09 10:51:17,088] Trial 0 finished with value: -367.56029431363413 and parameters: {'adj_close': True, 'volume': True, 'weekly_price_diff': False, 'range': False, 'gap': True, 'volatility': True, 'volume_ma': True, 'volume_ratio': False, 'rsi_2w': True, 'normalized_rsi_2w': False, 'momentum_4w': True, 'momentum_8w': False, 'ema12': True, 'ema26': False, 'macd': True, 'signal_line': False, 'MACD_Distance': False, 'macd_short': False, 'macd_long': False, 'macd_diff': True, 'low14': True, 'high14': False, '%K': False, '%D': False, 'Stochastic_K_D_Distance': True, 'obv': True, 'vwap': True, 'VWAP_Distance': False, 'hl': False, 'hc': False, 'lc': False, 'tr': True, 'atr': True, 'ATR_Percentage': True, 'Pivot': False, 'Pivot_Distance': False, 'Support_Distance': False, 'Resistance_Distance': True, 'weekly_return': True, 'adj_close_lag_1w': False, 'volume_lag_1w': True, 'weekly_return_lag_1w': False, 'adj_close_lag_2w': True, 'volume_lag_2w': False, 'weekly_return_lag_2w': True, 'adj_close_lag_3w': True, 'volume_lag_3w': True, 'weekly_return_lag_3w': True, 'adj_close_lag_4w': True, 'volume_lag_4w': True, 'weekly_return_lag_4w': False, 'price_to_range_ratio': False, 'volume_change': True, 'adj_close_change': True, 'momentum_2w': True, 'weekly_return_lag_5w': True, 'weekly_return_lag_6w': False, 'weekly_return_lag_7w': True, 'weekly_return_lag_8w': False, 'rolling_mean_4w': True, 'rolling_std_4w': True, 'bollinger_upper': True, 'bollinger_lower': True, 'bollinger_bandwidth': True, 'rolling_skew_4w': False, 'rolling_kurt_4w': True, 'sharpe_ratio': True, 'day_of_week': False, 'week_of_year': False, 'month': False, 'n_estimators': 976, 'learning_rate': 0.033559396726358014, 'max_depth': 6, 'reg_alpha': 2.7025834740888652, 'reg_lambda': 0.27281438462724433, 'bagging_fraction': 0.7085066589009051, 'feature_fraction': 0.10420725014631935}. Best is trial 0 with value: -367.56029431363413.\n",
      "[I 2025-01-09 10:51:21,582] Trial 1 finished with value: -263.16341576428624 and parameters: {'adj_close': False, 'volume': False, 'weekly_price_diff': False, 'range': True, 'gap': False, 'volatility': True, 'volume_ma': False, 'volume_ratio': True, 'rsi_2w': False, 'normalized_rsi_2w': True, 'momentum_4w': False, 'momentum_8w': False, 'ema12': False, 'ema26': False, 'macd': True, 'signal_line': False, 'MACD_Distance': True, 'macd_short': False, 'macd_long': False, 'macd_diff': True, 'low14': False, 'high14': True, '%K': False, '%D': True, 'Stochastic_K_D_Distance': True, 'obv': False, 'vwap': False, 'VWAP_Distance': False, 'hl': False, 'hc': True, 'lc': False, 'tr': True, 'atr': True, 'ATR_Percentage': False, 'Pivot': True, 'Pivot_Distance': True, 'Support_Distance': True, 'Resistance_Distance': False, 'weekly_return': True, 'adj_close_lag_1w': False, 'volume_lag_1w': False, 'weekly_return_lag_1w': False, 'adj_close_lag_2w': False, 'volume_lag_2w': True, 'weekly_return_lag_2w': True, 'adj_close_lag_3w': False, 'volume_lag_3w': False, 'weekly_return_lag_3w': False, 'adj_close_lag_4w': True, 'volume_lag_4w': True, 'weekly_return_lag_4w': False, 'price_to_range_ratio': False, 'volume_change': False, 'adj_close_change': True, 'momentum_2w': False, 'weekly_return_lag_5w': True, 'weekly_return_lag_6w': True, 'weekly_return_lag_7w': True, 'weekly_return_lag_8w': False, 'rolling_mean_4w': False, 'rolling_std_4w': False, 'bollinger_upper': True, 'bollinger_lower': False, 'bollinger_bandwidth': True, 'rolling_skew_4w': True, 'rolling_kurt_4w': False, 'sharpe_ratio': True, 'day_of_week': True, 'week_of_year': True, 'month': True, 'n_estimators': 936, 'learning_rate': 0.18125535354750233, 'max_depth': 8, 'reg_alpha': 0.09407417443485445, 'reg_lambda': 0.022618400161652008, 'bagging_fraction': 0.3625921253771732, 'feature_fraction': 0.9023963802267971}. Best is trial 0 with value: -367.56029431363413.\n",
      "[I 2025-01-09 10:51:26,040] Trial 2 finished with value: -423.7783612930672 and parameters: {'adj_close': False, 'volume': False, 'weekly_price_diff': True, 'range': True, 'gap': False, 'volatility': False, 'volume_ma': False, 'volume_ratio': True, 'rsi_2w': True, 'normalized_rsi_2w': True, 'momentum_4w': True, 'momentum_8w': True, 'ema12': False, 'ema26': False, 'macd': True, 'signal_line': False, 'MACD_Distance': True, 'macd_short': False, 'macd_long': True, 'macd_diff': False, 'low14': True, 'high14': True, '%K': False, '%D': True, 'Stochastic_K_D_Distance': True, 'obv': False, 'vwap': True, 'VWAP_Distance': True, 'hl': False, 'hc': False, 'lc': True, 'tr': True, 'atr': True, 'ATR_Percentage': False, 'Pivot': True, 'Pivot_Distance': False, 'Support_Distance': False, 'Resistance_Distance': False, 'weekly_return': True, 'adj_close_lag_1w': False, 'volume_lag_1w': True, 'weekly_return_lag_1w': True, 'adj_close_lag_2w': True, 'volume_lag_2w': False, 'weekly_return_lag_2w': False, 'adj_close_lag_3w': False, 'volume_lag_3w': False, 'weekly_return_lag_3w': False, 'adj_close_lag_4w': True, 'volume_lag_4w': False, 'weekly_return_lag_4w': True, 'price_to_range_ratio': True, 'volume_change': True, 'adj_close_change': True, 'momentum_2w': False, 'weekly_return_lag_5w': False, 'weekly_return_lag_6w': False, 'weekly_return_lag_7w': True, 'weekly_return_lag_8w': True, 'rolling_mean_4w': True, 'rolling_std_4w': False, 'bollinger_upper': False, 'bollinger_lower': False, 'bollinger_bandwidth': False, 'rolling_skew_4w': False, 'rolling_kurt_4w': True, 'sharpe_ratio': False, 'day_of_week': False, 'week_of_year': False, 'month': False, 'n_estimators': 678, 'learning_rate': 0.07592801432847336, 'max_depth': 6, 'reg_alpha': 0.2156363557718128, 'reg_lambda': 0.0010455821084331587, 'bagging_fraction': 0.516559886132673, 'feature_fraction': 0.4414777743971936}. Best is trial 2 with value: -423.7783612930672.\n",
      "[I 2025-01-09 10:51:30,336] Trial 3 finished with value: -378.7496110380107 and parameters: {'adj_close': False, 'volume': True, 'weekly_price_diff': False, 'range': True, 'gap': False, 'volatility': False, 'volume_ma': False, 'volume_ratio': True, 'rsi_2w': True, 'normalized_rsi_2w': False, 'momentum_4w': False, 'momentum_8w': False, 'ema12': False, 'ema26': False, 'macd': False, 'signal_line': True, 'MACD_Distance': False, 'macd_short': False, 'macd_long': True, 'macd_diff': True, 'low14': True, 'high14': False, '%K': False, '%D': False, 'Stochastic_K_D_Distance': True, 'obv': False, 'vwap': True, 'VWAP_Distance': True, 'hl': True, 'hc': True, 'lc': False, 'tr': False, 'atr': True, 'ATR_Percentage': False, 'Pivot': True, 'Pivot_Distance': False, 'Support_Distance': False, 'Resistance_Distance': False, 'weekly_return': True, 'adj_close_lag_1w': True, 'volume_lag_1w': True, 'weekly_return_lag_1w': True, 'adj_close_lag_2w': True, 'volume_lag_2w': True, 'weekly_return_lag_2w': True, 'adj_close_lag_3w': False, 'volume_lag_3w': False, 'weekly_return_lag_3w': False, 'adj_close_lag_4w': True, 'volume_lag_4w': True, 'weekly_return_lag_4w': True, 'price_to_range_ratio': True, 'volume_change': True, 'adj_close_change': True, 'momentum_2w': False, 'weekly_return_lag_5w': True, 'weekly_return_lag_6w': False, 'weekly_return_lag_7w': True, 'weekly_return_lag_8w': True, 'rolling_mean_4w': True, 'rolling_std_4w': True, 'bollinger_upper': True, 'bollinger_lower': True, 'bollinger_bandwidth': True, 'rolling_skew_4w': False, 'rolling_kurt_4w': False, 'sharpe_ratio': False, 'day_of_week': False, 'week_of_year': False, 'month': False, 'n_estimators': 674, 'learning_rate': 0.03918989119902568, 'max_depth': 15, 'reg_alpha': 6.747421875303534, 'reg_lambda': 0.25052899459445327, 'bagging_fraction': 0.37252980483685905, 'feature_fraction': 0.9917355675367269}. Best is trial 2 with value: -423.7783612930672.\n",
      "[I 2025-01-09 10:51:34,915] Trial 4 finished with value: -414.25055922059937 and parameters: {'adj_close': True, 'volume': True, 'weekly_price_diff': False, 'range': True, 'gap': False, 'volatility': True, 'volume_ma': False, 'volume_ratio': True, 'rsi_2w': False, 'normalized_rsi_2w': False, 'momentum_4w': False, 'momentum_8w': True, 'ema12': False, 'ema26': True, 'macd': True, 'signal_line': True, 'MACD_Distance': True, 'macd_short': True, 'macd_long': True, 'macd_diff': False, 'low14': True, 'high14': True, '%K': True, '%D': False, 'Stochastic_K_D_Distance': True, 'obv': True, 'vwap': True, 'VWAP_Distance': False, 'hl': False, 'hc': False, 'lc': False, 'tr': True, 'atr': False, 'ATR_Percentage': False, 'Pivot': True, 'Pivot_Distance': True, 'Support_Distance': False, 'Resistance_Distance': True, 'weekly_return': True, 'adj_close_lag_1w': True, 'volume_lag_1w': False, 'weekly_return_lag_1w': True, 'adj_close_lag_2w': True, 'volume_lag_2w': True, 'weekly_return_lag_2w': True, 'adj_close_lag_3w': True, 'volume_lag_3w': False, 'weekly_return_lag_3w': True, 'adj_close_lag_4w': True, 'volume_lag_4w': False, 'weekly_return_lag_4w': False, 'price_to_range_ratio': False, 'volume_change': False, 'adj_close_change': False, 'momentum_2w': False, 'weekly_return_lag_5w': False, 'weekly_return_lag_6w': False, 'weekly_return_lag_7w': True, 'weekly_return_lag_8w': True, 'rolling_mean_4w': False, 'rolling_std_4w': True, 'bollinger_upper': True, 'bollinger_lower': True, 'bollinger_bandwidth': True, 'rolling_skew_4w': False, 'rolling_kurt_4w': True, 'sharpe_ratio': True, 'day_of_week': False, 'week_of_year': True, 'month': True, 'n_estimators': 647, 'learning_rate': 0.1510806812273344, 'max_depth': 14, 'reg_alpha': 0.4768562858293283, 'reg_lambda': 0.031028490434667613, 'bagging_fraction': 0.10204748966753474, 'feature_fraction': 0.6053623471549799}. Best is trial 2 with value: -423.7783612930672.\n",
      "[I 2025-01-09 10:51:39,292] Trial 5 finished with value: -291.1322053860985 and parameters: {'adj_close': True, 'volume': False, 'weekly_price_diff': True, 'range': True, 'gap': True, 'volatility': False, 'volume_ma': True, 'volume_ratio': True, 'rsi_2w': False, 'normalized_rsi_2w': True, 'momentum_4w': True, 'momentum_8w': False, 'ema12': True, 'ema26': True, 'macd': True, 'signal_line': True, 'MACD_Distance': True, 'macd_short': False, 'macd_long': False, 'macd_diff': False, 'low14': True, 'high14': True, '%K': False, '%D': False, 'Stochastic_K_D_Distance': True, 'obv': False, 'vwap': True, 'VWAP_Distance': False, 'hl': False, 'hc': False, 'lc': False, 'tr': False, 'atr': False, 'ATR_Percentage': True, 'Pivot': False, 'Pivot_Distance': True, 'Support_Distance': False, 'Resistance_Distance': True, 'weekly_return': False, 'adj_close_lag_1w': True, 'volume_lag_1w': False, 'weekly_return_lag_1w': False, 'adj_close_lag_2w': False, 'volume_lag_2w': False, 'weekly_return_lag_2w': False, 'adj_close_lag_3w': True, 'volume_lag_3w': False, 'weekly_return_lag_3w': False, 'adj_close_lag_4w': True, 'volume_lag_4w': True, 'weekly_return_lag_4w': True, 'price_to_range_ratio': True, 'volume_change': False, 'adj_close_change': True, 'momentum_2w': True, 'weekly_return_lag_5w': False, 'weekly_return_lag_6w': True, 'weekly_return_lag_7w': True, 'weekly_return_lag_8w': False, 'rolling_mean_4w': True, 'rolling_std_4w': True, 'bollinger_upper': True, 'bollinger_lower': False, 'bollinger_bandwidth': False, 'rolling_skew_4w': True, 'rolling_kurt_4w': True, 'sharpe_ratio': False, 'day_of_week': True, 'week_of_year': False, 'month': True, 'n_estimators': 296, 'learning_rate': 0.010476813559635261, 'max_depth': 5, 'reg_alpha': 0.019982160662683712, 'reg_lambda': 0.010145179640637264, 'bagging_fraction': 0.9461499324607312, 'feature_fraction': 0.4030101033868966}. Best is trial 2 with value: -423.7783612930672.\n",
      "[I 2025-01-09 10:51:43,466] Trial 6 finished with value: -317.123569422291 and parameters: {'adj_close': True, 'volume': True, 'weekly_price_diff': False, 'range': False, 'gap': False, 'volatility': False, 'volume_ma': True, 'volume_ratio': True, 'rsi_2w': True, 'normalized_rsi_2w': True, 'momentum_4w': False, 'momentum_8w': False, 'ema12': True, 'ema26': False, 'macd': True, 'signal_line': True, 'MACD_Distance': True, 'macd_short': True, 'macd_long': False, 'macd_diff': False, 'low14': False, 'high14': True, '%K': True, '%D': False, 'Stochastic_K_D_Distance': False, 'obv': True, 'vwap': True, 'VWAP_Distance': True, 'hl': True, 'hc': False, 'lc': True, 'tr': False, 'atr': False, 'ATR_Percentage': False, 'Pivot': False, 'Pivot_Distance': False, 'Support_Distance': False, 'Resistance_Distance': False, 'weekly_return': True, 'adj_close_lag_1w': True, 'volume_lag_1w': True, 'weekly_return_lag_1w': True, 'adj_close_lag_2w': False, 'volume_lag_2w': True, 'weekly_return_lag_2w': True, 'adj_close_lag_3w': False, 'volume_lag_3w': True, 'weekly_return_lag_3w': False, 'adj_close_lag_4w': True, 'volume_lag_4w': True, 'weekly_return_lag_4w': True, 'price_to_range_ratio': True, 'volume_change': False, 'adj_close_change': True, 'momentum_2w': False, 'weekly_return_lag_5w': False, 'weekly_return_lag_6w': False, 'weekly_return_lag_7w': False, 'weekly_return_lag_8w': True, 'rolling_mean_4w': True, 'rolling_std_4w': False, 'bollinger_upper': False, 'bollinger_lower': False, 'bollinger_bandwidth': True, 'rolling_skew_4w': False, 'rolling_kurt_4w': True, 'sharpe_ratio': True, 'day_of_week': False, 'week_of_year': True, 'month': True, 'n_estimators': 353, 'learning_rate': 0.18755359494267182, 'max_depth': 3, 'reg_alpha': 3.755385515494469, 'reg_lambda': 0.6026056989519931, 'bagging_fraction': 0.43179664861266753, 'feature_fraction': 0.9892754109333523}. Best is trial 2 with value: -423.7783612930672.\n",
      "[I 2025-01-09 10:51:47,611] Trial 7 finished with value: -266.3120458115455 and parameters: {'adj_close': True, 'volume': False, 'weekly_price_diff': False, 'range': False, 'gap': False, 'volatility': True, 'volume_ma': False, 'volume_ratio': True, 'rsi_2w': False, 'normalized_rsi_2w': True, 'momentum_4w': True, 'momentum_8w': True, 'ema12': True, 'ema26': True, 'macd': False, 'signal_line': True, 'MACD_Distance': True, 'macd_short': False, 'macd_long': False, 'macd_diff': True, 'low14': True, 'high14': False, '%K': True, '%D': True, 'Stochastic_K_D_Distance': True, 'obv': False, 'vwap': False, 'VWAP_Distance': True, 'hl': False, 'hc': False, 'lc': False, 'tr': True, 'atr': False, 'ATR_Percentage': True, 'Pivot': True, 'Pivot_Distance': False, 'Support_Distance': False, 'Resistance_Distance': True, 'weekly_return': False, 'adj_close_lag_1w': True, 'volume_lag_1w': False, 'weekly_return_lag_1w': True, 'adj_close_lag_2w': False, 'volume_lag_2w': True, 'weekly_return_lag_2w': False, 'adj_close_lag_3w': True, 'volume_lag_3w': True, 'weekly_return_lag_3w': True, 'adj_close_lag_4w': True, 'volume_lag_4w': False, 'weekly_return_lag_4w': True, 'price_to_range_ratio': True, 'volume_change': False, 'adj_close_change': False, 'momentum_2w': True, 'weekly_return_lag_5w': True, 'weekly_return_lag_6w': False, 'weekly_return_lag_7w': False, 'weekly_return_lag_8w': False, 'rolling_mean_4w': True, 'rolling_std_4w': True, 'bollinger_upper': False, 'bollinger_lower': False, 'bollinger_bandwidth': True, 'rolling_skew_4w': False, 'rolling_kurt_4w': True, 'sharpe_ratio': False, 'day_of_week': True, 'week_of_year': True, 'month': False, 'n_estimators': 535, 'learning_rate': 0.05931986218330499, 'max_depth': 10, 'reg_alpha': 1.8470945436193078, 'reg_lambda': 0.9903411492139302, 'bagging_fraction': 0.29503352892010964, 'feature_fraction': 0.13095513908685238}. Best is trial 2 with value: -423.7783612930672.\n",
      "[I 2025-01-09 10:51:51,952] Trial 8 finished with value: -389.9370510289772 and parameters: {'adj_close': True, 'volume': True, 'weekly_price_diff': False, 'range': True, 'gap': False, 'volatility': False, 'volume_ma': False, 'volume_ratio': True, 'rsi_2w': False, 'normalized_rsi_2w': False, 'momentum_4w': False, 'momentum_8w': False, 'ema12': True, 'ema26': True, 'macd': True, 'signal_line': False, 'MACD_Distance': True, 'macd_short': False, 'macd_long': False, 'macd_diff': True, 'low14': False, 'high14': False, '%K': True, '%D': False, 'Stochastic_K_D_Distance': False, 'obv': True, 'vwap': True, 'VWAP_Distance': True, 'hl': False, 'hc': False, 'lc': True, 'tr': False, 'atr': True, 'ATR_Percentage': True, 'Pivot': False, 'Pivot_Distance': False, 'Support_Distance': False, 'Resistance_Distance': True, 'weekly_return': False, 'adj_close_lag_1w': False, 'volume_lag_1w': True, 'weekly_return_lag_1w': False, 'adj_close_lag_2w': True, 'volume_lag_2w': True, 'weekly_return_lag_2w': False, 'adj_close_lag_3w': True, 'volume_lag_3w': False, 'weekly_return_lag_3w': False, 'adj_close_lag_4w': False, 'volume_lag_4w': False, 'weekly_return_lag_4w': True, 'price_to_range_ratio': False, 'volume_change': True, 'adj_close_change': False, 'momentum_2w': False, 'weekly_return_lag_5w': True, 'weekly_return_lag_6w': True, 'weekly_return_lag_7w': False, 'weekly_return_lag_8w': True, 'rolling_mean_4w': True, 'rolling_std_4w': False, 'bollinger_upper': True, 'bollinger_lower': False, 'bollinger_bandwidth': False, 'rolling_skew_4w': False, 'rolling_kurt_4w': False, 'sharpe_ratio': False, 'day_of_week': False, 'week_of_year': True, 'month': True, 'n_estimators': 549, 'learning_rate': 0.03309652000336908, 'max_depth': 9, 'reg_alpha': 0.007548037109122993, 'reg_lambda': 0.0038434124526037774, 'bagging_fraction': 0.2522621688612728, 'feature_fraction': 0.7770976476453899}. Best is trial 2 with value: -423.7783612930672.\n",
      "[I 2025-01-09 10:51:56,399] Trial 9 finished with value: -288.682521052962 and parameters: {'adj_close': True, 'volume': True, 'weekly_price_diff': True, 'range': False, 'gap': True, 'volatility': True, 'volume_ma': False, 'volume_ratio': False, 'rsi_2w': True, 'normalized_rsi_2w': True, 'momentum_4w': False, 'momentum_8w': False, 'ema12': False, 'ema26': False, 'macd': True, 'signal_line': False, 'MACD_Distance': True, 'macd_short': True, 'macd_long': False, 'macd_diff': True, 'low14': False, 'high14': False, '%K': True, '%D': False, 'Stochastic_K_D_Distance': True, 'obv': False, 'vwap': False, 'VWAP_Distance': False, 'hl': True, 'hc': True, 'lc': False, 'tr': True, 'atr': False, 'ATR_Percentage': True, 'Pivot': False, 'Pivot_Distance': False, 'Support_Distance': True, 'Resistance_Distance': False, 'weekly_return': False, 'adj_close_lag_1w': False, 'volume_lag_1w': False, 'weekly_return_lag_1w': True, 'adj_close_lag_2w': True, 'volume_lag_2w': False, 'weekly_return_lag_2w': False, 'adj_close_lag_3w': False, 'volume_lag_3w': False, 'weekly_return_lag_3w': True, 'adj_close_lag_4w': False, 'volume_lag_4w': False, 'weekly_return_lag_4w': False, 'price_to_range_ratio': True, 'volume_change': False, 'adj_close_change': False, 'momentum_2w': True, 'weekly_return_lag_5w': False, 'weekly_return_lag_6w': False, 'weekly_return_lag_7w': False, 'weekly_return_lag_8w': False, 'rolling_mean_4w': False, 'rolling_std_4w': False, 'bollinger_upper': False, 'bollinger_lower': False, 'bollinger_bandwidth': True, 'rolling_skew_4w': False, 'rolling_kurt_4w': False, 'sharpe_ratio': False, 'day_of_week': True, 'week_of_year': True, 'month': True, 'n_estimators': 344, 'learning_rate': 0.017174973823591944, 'max_depth': 12, 'reg_alpha': 0.6042363730250219, 'reg_lambda': 0.023504685964933696, 'bagging_fraction': 0.3809460557738925, 'feature_fraction': 0.419891188329375}. Best is trial 2 with value: -423.7783612930672.\n",
      "[I 2025-01-09 10:51:56,399] A new study created in memory with name: no-name-f4119425-b1ca-4d78-8fa8-5d57dd8f918d\n"
     ]
    },
    {
     "name": "stdout",
     "output_type": "stream",
     "text": [
      "Optimizing lightgbm for Sharpe Ratio...\n"
     ]
    },
    {
     "name": "stderr",
     "output_type": "stream",
     "text": [
      "[I 2025-01-09 10:52:00,721] Trial 0 finished with value: -1.031160011624633 and parameters: {'adj_close': True, 'volume': False, 'weekly_price_diff': True, 'range': False, 'gap': False, 'volatility': True, 'volume_ma': True, 'volume_ratio': True, 'rsi_2w': False, 'normalized_rsi_2w': True, 'momentum_4w': True, 'momentum_8w': True, 'ema12': False, 'ema26': False, 'macd': True, 'signal_line': False, 'MACD_Distance': True, 'macd_short': False, 'macd_long': False, 'macd_diff': True, 'low14': True, 'high14': False, '%K': True, '%D': True, 'Stochastic_K_D_Distance': False, 'obv': False, 'vwap': True, 'VWAP_Distance': False, 'hl': False, 'hc': True, 'lc': True, 'tr': False, 'atr': True, 'ATR_Percentage': True, 'Pivot': False, 'Pivot_Distance': True, 'Support_Distance': True, 'Resistance_Distance': True, 'weekly_return': True, 'adj_close_lag_1w': False, 'volume_lag_1w': False, 'weekly_return_lag_1w': False, 'adj_close_lag_2w': True, 'volume_lag_2w': True, 'weekly_return_lag_2w': True, 'adj_close_lag_3w': True, 'volume_lag_3w': True, 'weekly_return_lag_3w': False, 'adj_close_lag_4w': False, 'volume_lag_4w': True, 'weekly_return_lag_4w': True, 'price_to_range_ratio': False, 'volume_change': True, 'adj_close_change': True, 'momentum_2w': False, 'weekly_return_lag_5w': False, 'weekly_return_lag_6w': False, 'weekly_return_lag_7w': True, 'weekly_return_lag_8w': False, 'rolling_mean_4w': True, 'rolling_std_4w': False, 'bollinger_upper': True, 'bollinger_lower': False, 'bollinger_bandwidth': False, 'rolling_skew_4w': True, 'rolling_kurt_4w': False, 'sharpe_ratio': False, 'day_of_week': False, 'week_of_year': False, 'month': False, 'n_estimators': 764, 'learning_rate': 0.024003279307691434, 'max_depth': 10, 'reg_alpha': 1.758205386745028, 'reg_lambda': 0.008560167008488825, 'bagging_fraction': 0.2976475347270689, 'feature_fraction': 0.6043872157644041}. Best is trial 0 with value: -1.031160011624633.\n",
      "[I 2025-01-09 10:52:05,327] Trial 1 finished with value: -1.191799537338531 and parameters: {'adj_close': True, 'volume': True, 'weekly_price_diff': True, 'range': True, 'gap': True, 'volatility': True, 'volume_ma': False, 'volume_ratio': True, 'rsi_2w': False, 'normalized_rsi_2w': True, 'momentum_4w': False, 'momentum_8w': True, 'ema12': False, 'ema26': False, 'macd': False, 'signal_line': True, 'MACD_Distance': True, 'macd_short': True, 'macd_long': True, 'macd_diff': True, 'low14': True, 'high14': False, '%K': False, '%D': True, 'Stochastic_K_D_Distance': True, 'obv': False, 'vwap': True, 'VWAP_Distance': True, 'hl': True, 'hc': False, 'lc': False, 'tr': True, 'atr': False, 'ATR_Percentage': True, 'Pivot': True, 'Pivot_Distance': False, 'Support_Distance': False, 'Resistance_Distance': False, 'weekly_return': False, 'adj_close_lag_1w': True, 'volume_lag_1w': False, 'weekly_return_lag_1w': True, 'adj_close_lag_2w': False, 'volume_lag_2w': False, 'weekly_return_lag_2w': False, 'adj_close_lag_3w': True, 'volume_lag_3w': True, 'weekly_return_lag_3w': True, 'adj_close_lag_4w': True, 'volume_lag_4w': False, 'weekly_return_lag_4w': True, 'price_to_range_ratio': False, 'volume_change': True, 'adj_close_change': True, 'momentum_2w': False, 'weekly_return_lag_5w': True, 'weekly_return_lag_6w': True, 'weekly_return_lag_7w': False, 'weekly_return_lag_8w': True, 'rolling_mean_4w': False, 'rolling_std_4w': True, 'bollinger_upper': False, 'bollinger_lower': False, 'bollinger_bandwidth': False, 'rolling_skew_4w': True, 'rolling_kurt_4w': False, 'sharpe_ratio': False, 'day_of_week': False, 'week_of_year': True, 'month': False, 'n_estimators': 474, 'learning_rate': 0.03552275948927523, 'max_depth': 3, 'reg_alpha': 0.3596423860358422, 'reg_lambda': 0.009861385744483503, 'bagging_fraction': 0.7445750008054968, 'feature_fraction': 0.8291964148049804}. Best is trial 1 with value: -1.191799537338531.\n",
      "[I 2025-01-09 10:52:09,527] Trial 2 finished with value: -0.6801233856255341 and parameters: {'adj_close': True, 'volume': False, 'weekly_price_diff': True, 'range': False, 'gap': False, 'volatility': True, 'volume_ma': False, 'volume_ratio': True, 'rsi_2w': False, 'normalized_rsi_2w': True, 'momentum_4w': True, 'momentum_8w': True, 'ema12': True, 'ema26': True, 'macd': False, 'signal_line': False, 'MACD_Distance': False, 'macd_short': False, 'macd_long': False, 'macd_diff': True, 'low14': False, 'high14': False, '%K': False, '%D': False, 'Stochastic_K_D_Distance': True, 'obv': True, 'vwap': True, 'VWAP_Distance': False, 'hl': True, 'hc': False, 'lc': True, 'tr': True, 'atr': False, 'ATR_Percentage': False, 'Pivot': False, 'Pivot_Distance': False, 'Support_Distance': True, 'Resistance_Distance': False, 'weekly_return': False, 'adj_close_lag_1w': True, 'volume_lag_1w': False, 'weekly_return_lag_1w': True, 'adj_close_lag_2w': False, 'volume_lag_2w': True, 'weekly_return_lag_2w': False, 'adj_close_lag_3w': False, 'volume_lag_3w': False, 'weekly_return_lag_3w': False, 'adj_close_lag_4w': False, 'volume_lag_4w': False, 'weekly_return_lag_4w': False, 'price_to_range_ratio': True, 'volume_change': False, 'adj_close_change': True, 'momentum_2w': True, 'weekly_return_lag_5w': False, 'weekly_return_lag_6w': False, 'weekly_return_lag_7w': False, 'weekly_return_lag_8w': False, 'rolling_mean_4w': False, 'rolling_std_4w': False, 'bollinger_upper': True, 'bollinger_lower': True, 'bollinger_bandwidth': False, 'rolling_skew_4w': False, 'rolling_kurt_4w': False, 'sharpe_ratio': False, 'day_of_week': True, 'week_of_year': True, 'month': True, 'n_estimators': 745, 'learning_rate': 0.28757281617535546, 'max_depth': 3, 'reg_alpha': 0.0020170240287794277, 'reg_lambda': 9.631806363118312, 'bagging_fraction': 0.3431746356033759, 'feature_fraction': 0.9252399796193511}. Best is trial 1 with value: -1.191799537338531.\n",
      "[I 2025-01-09 10:52:13,880] Trial 3 finished with value: -0.7802608432503992 and parameters: {'adj_close': True, 'volume': False, 'weekly_price_diff': True, 'range': False, 'gap': False, 'volatility': False, 'volume_ma': True, 'volume_ratio': False, 'rsi_2w': False, 'normalized_rsi_2w': False, 'momentum_4w': True, 'momentum_8w': True, 'ema12': True, 'ema26': False, 'macd': False, 'signal_line': True, 'MACD_Distance': False, 'macd_short': True, 'macd_long': True, 'macd_diff': False, 'low14': False, 'high14': True, '%K': True, '%D': False, 'Stochastic_K_D_Distance': True, 'obv': True, 'vwap': False, 'VWAP_Distance': False, 'hl': False, 'hc': True, 'lc': False, 'tr': True, 'atr': False, 'ATR_Percentage': False, 'Pivot': False, 'Pivot_Distance': True, 'Support_Distance': True, 'Resistance_Distance': False, 'weekly_return': False, 'adj_close_lag_1w': True, 'volume_lag_1w': True, 'weekly_return_lag_1w': False, 'adj_close_lag_2w': False, 'volume_lag_2w': False, 'weekly_return_lag_2w': True, 'adj_close_lag_3w': False, 'volume_lag_3w': True, 'weekly_return_lag_3w': False, 'adj_close_lag_4w': True, 'volume_lag_4w': False, 'weekly_return_lag_4w': False, 'price_to_range_ratio': True, 'volume_change': False, 'adj_close_change': False, 'momentum_2w': False, 'weekly_return_lag_5w': True, 'weekly_return_lag_6w': False, 'weekly_return_lag_7w': False, 'weekly_return_lag_8w': False, 'rolling_mean_4w': False, 'rolling_std_4w': False, 'bollinger_upper': False, 'bollinger_lower': True, 'bollinger_bandwidth': True, 'rolling_skew_4w': False, 'rolling_kurt_4w': True, 'sharpe_ratio': False, 'day_of_week': False, 'week_of_year': True, 'month': True, 'n_estimators': 294, 'learning_rate': 0.18523526372194984, 'max_depth': 8, 'reg_alpha': 4.552969458040117, 'reg_lambda': 1.6754335353715795, 'bagging_fraction': 0.40585450836045245, 'feature_fraction': 0.16112650819242932}. Best is trial 1 with value: -1.191799537338531.\n",
      "[I 2025-01-09 10:52:18,210] Trial 4 finished with value: -1.0797406531460294 and parameters: {'adj_close': True, 'volume': False, 'weekly_price_diff': True, 'range': True, 'gap': True, 'volatility': True, 'volume_ma': False, 'volume_ratio': False, 'rsi_2w': True, 'normalized_rsi_2w': False, 'momentum_4w': False, 'momentum_8w': False, 'ema12': True, 'ema26': True, 'macd': True, 'signal_line': False, 'MACD_Distance': False, 'macd_short': False, 'macd_long': False, 'macd_diff': False, 'low14': True, 'high14': True, '%K': True, '%D': False, 'Stochastic_K_D_Distance': True, 'obv': False, 'vwap': True, 'VWAP_Distance': True, 'hl': True, 'hc': True, 'lc': False, 'tr': False, 'atr': True, 'ATR_Percentage': True, 'Pivot': False, 'Pivot_Distance': True, 'Support_Distance': False, 'Resistance_Distance': False, 'weekly_return': False, 'adj_close_lag_1w': False, 'volume_lag_1w': False, 'weekly_return_lag_1w': True, 'adj_close_lag_2w': True, 'volume_lag_2w': True, 'weekly_return_lag_2w': True, 'adj_close_lag_3w': True, 'volume_lag_3w': False, 'weekly_return_lag_3w': True, 'adj_close_lag_4w': True, 'volume_lag_4w': False, 'weekly_return_lag_4w': True, 'price_to_range_ratio': True, 'volume_change': True, 'adj_close_change': True, 'momentum_2w': True, 'weekly_return_lag_5w': True, 'weekly_return_lag_6w': True, 'weekly_return_lag_7w': False, 'weekly_return_lag_8w': False, 'rolling_mean_4w': False, 'rolling_std_4w': False, 'bollinger_upper': False, 'bollinger_lower': True, 'bollinger_bandwidth': False, 'rolling_skew_4w': True, 'rolling_kurt_4w': True, 'sharpe_ratio': False, 'day_of_week': True, 'week_of_year': False, 'month': True, 'n_estimators': 626, 'learning_rate': 0.14301120821887822, 'max_depth': 10, 'reg_alpha': 3.4271309170955218, 'reg_lambda': 5.554173237893133, 'bagging_fraction': 0.9788268675572998, 'feature_fraction': 0.6998999484212164}. Best is trial 1 with value: -1.191799537338531.\n",
      "[I 2025-01-09 10:52:22,588] Trial 5 finished with value: -0.9444248579553469 and parameters: {'adj_close': False, 'volume': False, 'weekly_price_diff': False, 'range': False, 'gap': True, 'volatility': False, 'volume_ma': True, 'volume_ratio': False, 'rsi_2w': True, 'normalized_rsi_2w': False, 'momentum_4w': False, 'momentum_8w': True, 'ema12': False, 'ema26': True, 'macd': True, 'signal_line': True, 'MACD_Distance': False, 'macd_short': True, 'macd_long': True, 'macd_diff': False, 'low14': False, 'high14': False, '%K': True, '%D': True, 'Stochastic_K_D_Distance': False, 'obv': False, 'vwap': False, 'VWAP_Distance': True, 'hl': True, 'hc': False, 'lc': True, 'tr': True, 'atr': False, 'ATR_Percentage': False, 'Pivot': False, 'Pivot_Distance': False, 'Support_Distance': False, 'Resistance_Distance': False, 'weekly_return': True, 'adj_close_lag_1w': False, 'volume_lag_1w': True, 'weekly_return_lag_1w': True, 'adj_close_lag_2w': True, 'volume_lag_2w': True, 'weekly_return_lag_2w': True, 'adj_close_lag_3w': True, 'volume_lag_3w': False, 'weekly_return_lag_3w': True, 'adj_close_lag_4w': True, 'volume_lag_4w': False, 'weekly_return_lag_4w': True, 'price_to_range_ratio': False, 'volume_change': False, 'adj_close_change': False, 'momentum_2w': False, 'weekly_return_lag_5w': True, 'weekly_return_lag_6w': False, 'weekly_return_lag_7w': False, 'weekly_return_lag_8w': True, 'rolling_mean_4w': False, 'rolling_std_4w': False, 'bollinger_upper': False, 'bollinger_lower': False, 'bollinger_bandwidth': False, 'rolling_skew_4w': False, 'rolling_kurt_4w': False, 'sharpe_ratio': False, 'day_of_week': True, 'week_of_year': True, 'month': True, 'n_estimators': 904, 'learning_rate': 0.11948693546992734, 'max_depth': 12, 'reg_alpha': 0.13970650348663413, 'reg_lambda': 0.2860634326895191, 'bagging_fraction': 0.4381977410450626, 'feature_fraction': 0.76974507876324}. Best is trial 1 with value: -1.191799537338531.\n",
      "[I 2025-01-09 10:52:26,880] Trial 6 finished with value: -0.7551042434011008 and parameters: {'adj_close': True, 'volume': True, 'weekly_price_diff': True, 'range': True, 'gap': False, 'volatility': True, 'volume_ma': False, 'volume_ratio': True, 'rsi_2w': False, 'normalized_rsi_2w': True, 'momentum_4w': False, 'momentum_8w': False, 'ema12': False, 'ema26': True, 'macd': True, 'signal_line': True, 'MACD_Distance': False, 'macd_short': True, 'macd_long': False, 'macd_diff': False, 'low14': False, 'high14': False, '%K': False, '%D': False, 'Stochastic_K_D_Distance': False, 'obv': False, 'vwap': False, 'VWAP_Distance': True, 'hl': True, 'hc': True, 'lc': True, 'tr': True, 'atr': True, 'ATR_Percentage': True, 'Pivot': True, 'Pivot_Distance': False, 'Support_Distance': True, 'Resistance_Distance': True, 'weekly_return': False, 'adj_close_lag_1w': False, 'volume_lag_1w': True, 'weekly_return_lag_1w': False, 'adj_close_lag_2w': False, 'volume_lag_2w': False, 'weekly_return_lag_2w': True, 'adj_close_lag_3w': True, 'volume_lag_3w': False, 'weekly_return_lag_3w': False, 'adj_close_lag_4w': True, 'volume_lag_4w': True, 'weekly_return_lag_4w': False, 'price_to_range_ratio': False, 'volume_change': False, 'adj_close_change': False, 'momentum_2w': True, 'weekly_return_lag_5w': True, 'weekly_return_lag_6w': False, 'weekly_return_lag_7w': False, 'weekly_return_lag_8w': False, 'rolling_mean_4w': False, 'rolling_std_4w': False, 'bollinger_upper': False, 'bollinger_lower': False, 'bollinger_bandwidth': False, 'rolling_skew_4w': False, 'rolling_kurt_4w': True, 'sharpe_ratio': True, 'day_of_week': True, 'week_of_year': True, 'month': False, 'n_estimators': 267, 'learning_rate': 0.011999707513762, 'max_depth': 15, 'reg_alpha': 1.7328690413432926, 'reg_lambda': 0.01597697446209865, 'bagging_fraction': 0.8347032269495797, 'feature_fraction': 0.1650609385068647}. Best is trial 1 with value: -1.191799537338531.\n",
      "[I 2025-01-09 10:52:31,199] Trial 7 finished with value: -0.7866004643404705 and parameters: {'adj_close': True, 'volume': True, 'weekly_price_diff': False, 'range': False, 'gap': False, 'volatility': False, 'volume_ma': True, 'volume_ratio': False, 'rsi_2w': False, 'normalized_rsi_2w': True, 'momentum_4w': False, 'momentum_8w': True, 'ema12': True, 'ema26': False, 'macd': False, 'signal_line': True, 'MACD_Distance': False, 'macd_short': False, 'macd_long': True, 'macd_diff': False, 'low14': True, 'high14': True, '%K': True, '%D': True, 'Stochastic_K_D_Distance': False, 'obv': False, 'vwap': True, 'VWAP_Distance': True, 'hl': True, 'hc': True, 'lc': True, 'tr': True, 'atr': True, 'ATR_Percentage': False, 'Pivot': True, 'Pivot_Distance': True, 'Support_Distance': False, 'Resistance_Distance': True, 'weekly_return': False, 'adj_close_lag_1w': True, 'volume_lag_1w': False, 'weekly_return_lag_1w': True, 'adj_close_lag_2w': True, 'volume_lag_2w': True, 'weekly_return_lag_2w': True, 'adj_close_lag_3w': True, 'volume_lag_3w': True, 'weekly_return_lag_3w': True, 'adj_close_lag_4w': False, 'volume_lag_4w': True, 'weekly_return_lag_4w': False, 'price_to_range_ratio': False, 'volume_change': True, 'adj_close_change': False, 'momentum_2w': False, 'weekly_return_lag_5w': True, 'weekly_return_lag_6w': True, 'weekly_return_lag_7w': False, 'weekly_return_lag_8w': False, 'rolling_mean_4w': True, 'rolling_std_4w': True, 'bollinger_upper': False, 'bollinger_lower': True, 'bollinger_bandwidth': False, 'rolling_skew_4w': True, 'rolling_kurt_4w': False, 'sharpe_ratio': False, 'day_of_week': True, 'week_of_year': False, 'month': False, 'n_estimators': 172, 'learning_rate': 0.2369633103672006, 'max_depth': 4, 'reg_alpha': 5.3132914405906995, 'reg_lambda': 0.013962731307162529, 'bagging_fraction': 0.9276765647498121, 'feature_fraction': 0.7914007860958026}. Best is trial 1 with value: -1.191799537338531.\n",
      "[I 2025-01-09 10:52:35,619] Trial 8 finished with value: -0.7866004643404705 and parameters: {'adj_close': False, 'volume': True, 'weekly_price_diff': False, 'range': False, 'gap': True, 'volatility': False, 'volume_ma': True, 'volume_ratio': True, 'rsi_2w': True, 'normalized_rsi_2w': True, 'momentum_4w': True, 'momentum_8w': False, 'ema12': True, 'ema26': False, 'macd': False, 'signal_line': False, 'MACD_Distance': True, 'macd_short': False, 'macd_long': False, 'macd_diff': False, 'low14': True, 'high14': False, '%K': False, '%D': True, 'Stochastic_K_D_Distance': False, 'obv': False, 'vwap': True, 'VWAP_Distance': True, 'hl': False, 'hc': True, 'lc': False, 'tr': False, 'atr': False, 'ATR_Percentage': False, 'Pivot': False, 'Pivot_Distance': False, 'Support_Distance': False, 'Resistance_Distance': False, 'weekly_return': False, 'adj_close_lag_1w': True, 'volume_lag_1w': False, 'weekly_return_lag_1w': False, 'adj_close_lag_2w': True, 'volume_lag_2w': False, 'weekly_return_lag_2w': False, 'adj_close_lag_3w': False, 'volume_lag_3w': True, 'weekly_return_lag_3w': True, 'adj_close_lag_4w': True, 'volume_lag_4w': False, 'weekly_return_lag_4w': False, 'price_to_range_ratio': True, 'volume_change': True, 'adj_close_change': True, 'momentum_2w': False, 'weekly_return_lag_5w': True, 'weekly_return_lag_6w': False, 'weekly_return_lag_7w': True, 'weekly_return_lag_8w': False, 'rolling_mean_4w': True, 'rolling_std_4w': False, 'bollinger_upper': True, 'bollinger_lower': False, 'bollinger_bandwidth': True, 'rolling_skew_4w': True, 'rolling_kurt_4w': False, 'sharpe_ratio': False, 'day_of_week': False, 'week_of_year': True, 'month': False, 'n_estimators': 689, 'learning_rate': 0.2573534245964906, 'max_depth': 8, 'reg_alpha': 5.518802179732147, 'reg_lambda': 5.157001503082128, 'bagging_fraction': 0.23797557718073334, 'feature_fraction': 0.35521794475967183}. Best is trial 1 with value: -1.191799537338531.\n",
      "[I 2025-01-09 10:52:40,004] Trial 9 finished with value: -0.7866004643404705 and parameters: {'adj_close': True, 'volume': False, 'weekly_price_diff': True, 'range': True, 'gap': False, 'volatility': True, 'volume_ma': False, 'volume_ratio': True, 'rsi_2w': False, 'normalized_rsi_2w': False, 'momentum_4w': True, 'momentum_8w': False, 'ema12': False, 'ema26': False, 'macd': True, 'signal_line': True, 'MACD_Distance': True, 'macd_short': False, 'macd_long': False, 'macd_diff': True, 'low14': True, 'high14': True, '%K': True, '%D': False, 'Stochastic_K_D_Distance': False, 'obv': True, 'vwap': False, 'VWAP_Distance': False, 'hl': True, 'hc': True, 'lc': False, 'tr': True, 'atr': False, 'ATR_Percentage': False, 'Pivot': False, 'Pivot_Distance': False, 'Support_Distance': False, 'Resistance_Distance': True, 'weekly_return': True, 'adj_close_lag_1w': False, 'volume_lag_1w': True, 'weekly_return_lag_1w': True, 'adj_close_lag_2w': False, 'volume_lag_2w': False, 'weekly_return_lag_2w': True, 'adj_close_lag_3w': True, 'volume_lag_3w': False, 'weekly_return_lag_3w': False, 'adj_close_lag_4w': True, 'volume_lag_4w': True, 'weekly_return_lag_4w': True, 'price_to_range_ratio': False, 'volume_change': False, 'adj_close_change': False, 'momentum_2w': False, 'weekly_return_lag_5w': True, 'weekly_return_lag_6w': True, 'weekly_return_lag_7w': True, 'weekly_return_lag_8w': False, 'rolling_mean_4w': False, 'rolling_std_4w': False, 'bollinger_upper': False, 'bollinger_lower': False, 'bollinger_bandwidth': False, 'rolling_skew_4w': False, 'rolling_kurt_4w': False, 'sharpe_ratio': True, 'day_of_week': False, 'week_of_year': False, 'month': True, 'n_estimators': 427, 'learning_rate': 0.22869794131244608, 'max_depth': 4, 'reg_alpha': 5.494536683539, 'reg_lambda': 0.09189629098708431, 'bagging_fraction': 0.2357404231276758, 'feature_fraction': 0.5422062368672975}. Best is trial 1 with value: -1.191799537338531.\n",
      "[I 2025-01-09 10:52:40,004] A new study created in memory with name: no-name-14a640bb-77c6-4375-9598-af7f6d07c717\n"
     ]
    },
    {
     "name": "stdout",
     "output_type": "stream",
     "text": [
      "Optimizing xgboost for ROI...\n"
     ]
    },
    {
     "name": "stderr",
     "output_type": "stream",
     "text": [
      "[I 2025-01-09 10:52:44,753] Trial 0 finished with value: -264.3948041313192 and parameters: {'adj_close': False, 'volume': True, 'weekly_price_diff': False, 'range': False, 'gap': False, 'volatility': False, 'volume_ma': True, 'volume_ratio': False, 'rsi_2w': True, 'normalized_rsi_2w': True, 'momentum_4w': True, 'momentum_8w': False, 'ema12': False, 'ema26': True, 'macd': True, 'signal_line': True, 'MACD_Distance': False, 'macd_short': True, 'macd_long': True, 'macd_diff': False, 'low14': False, 'high14': False, '%K': False, '%D': False, 'Stochastic_K_D_Distance': True, 'obv': True, 'vwap': False, 'VWAP_Distance': False, 'hl': False, 'hc': True, 'lc': True, 'tr': False, 'atr': True, 'ATR_Percentage': False, 'Pivot': True, 'Pivot_Distance': False, 'Support_Distance': True, 'Resistance_Distance': True, 'weekly_return': True, 'adj_close_lag_1w': False, 'volume_lag_1w': False, 'weekly_return_lag_1w': True, 'adj_close_lag_2w': False, 'volume_lag_2w': False, 'weekly_return_lag_2w': False, 'adj_close_lag_3w': True, 'volume_lag_3w': False, 'weekly_return_lag_3w': False, 'adj_close_lag_4w': True, 'volume_lag_4w': False, 'weekly_return_lag_4w': False, 'price_to_range_ratio': False, 'volume_change': False, 'adj_close_change': True, 'momentum_2w': True, 'weekly_return_lag_5w': True, 'weekly_return_lag_6w': False, 'weekly_return_lag_7w': True, 'weekly_return_lag_8w': False, 'rolling_mean_4w': False, 'rolling_std_4w': True, 'bollinger_upper': True, 'bollinger_lower': True, 'bollinger_bandwidth': True, 'rolling_skew_4w': True, 'rolling_kurt_4w': False, 'sharpe_ratio': False, 'day_of_week': False, 'week_of_year': False, 'month': False, 'n_estimators': 855, 'learning_rate': 0.057067691884608494, 'max_depth': 7, 'reg_alpha': 0.010856468805153192, 'reg_lambda': 5.924703716220213, 'subsample': 0.20075969292142806, 'colsample_bytree': 0.38532966244556155}. Best is trial 0 with value: -264.3948041313192.\n",
      "[I 2025-01-09 10:52:49,621] Trial 1 finished with value: -361.7369033014901 and parameters: {'adj_close': True, 'volume': True, 'weekly_price_diff': False, 'range': False, 'gap': False, 'volatility': False, 'volume_ma': False, 'volume_ratio': False, 'rsi_2w': False, 'normalized_rsi_2w': False, 'momentum_4w': True, 'momentum_8w': False, 'ema12': True, 'ema26': False, 'macd': False, 'signal_line': True, 'MACD_Distance': True, 'macd_short': True, 'macd_long': True, 'macd_diff': False, 'low14': True, 'high14': True, '%K': False, '%D': False, 'Stochastic_K_D_Distance': True, 'obv': True, 'vwap': False, 'VWAP_Distance': True, 'hl': True, 'hc': False, 'lc': False, 'tr': True, 'atr': False, 'ATR_Percentage': True, 'Pivot': True, 'Pivot_Distance': False, 'Support_Distance': True, 'Resistance_Distance': False, 'weekly_return': False, 'adj_close_lag_1w': True, 'volume_lag_1w': True, 'weekly_return_lag_1w': True, 'adj_close_lag_2w': False, 'volume_lag_2w': False, 'weekly_return_lag_2w': True, 'adj_close_lag_3w': False, 'volume_lag_3w': True, 'weekly_return_lag_3w': False, 'adj_close_lag_4w': False, 'volume_lag_4w': True, 'weekly_return_lag_4w': True, 'price_to_range_ratio': False, 'volume_change': True, 'adj_close_change': False, 'momentum_2w': False, 'weekly_return_lag_5w': False, 'weekly_return_lag_6w': False, 'weekly_return_lag_7w': True, 'weekly_return_lag_8w': False, 'rolling_mean_4w': False, 'rolling_std_4w': False, 'bollinger_upper': False, 'bollinger_lower': True, 'bollinger_bandwidth': True, 'rolling_skew_4w': True, 'rolling_kurt_4w': False, 'sharpe_ratio': False, 'day_of_week': True, 'week_of_year': False, 'month': True, 'n_estimators': 447, 'learning_rate': 0.18849331401208014, 'max_depth': 11, 'reg_alpha': 0.30384513548316755, 'reg_lambda': 2.24133712605291, 'subsample': 0.5924470356921374, 'colsample_bytree': 0.7516842769270189}. Best is trial 1 with value: -361.7369033014901.\n",
      "[I 2025-01-09 10:52:54,319] Trial 2 finished with value: -304.0029996936104 and parameters: {'adj_close': True, 'volume': True, 'weekly_price_diff': True, 'range': True, 'gap': True, 'volatility': True, 'volume_ma': True, 'volume_ratio': False, 'rsi_2w': True, 'normalized_rsi_2w': True, 'momentum_4w': True, 'momentum_8w': False, 'ema12': False, 'ema26': False, 'macd': True, 'signal_line': False, 'MACD_Distance': False, 'macd_short': True, 'macd_long': False, 'macd_diff': True, 'low14': True, 'high14': False, '%K': False, '%D': False, 'Stochastic_K_D_Distance': True, 'obv': False, 'vwap': False, 'VWAP_Distance': True, 'hl': False, 'hc': False, 'lc': False, 'tr': True, 'atr': False, 'ATR_Percentage': False, 'Pivot': False, 'Pivot_Distance': False, 'Support_Distance': False, 'Resistance_Distance': False, 'weekly_return': False, 'adj_close_lag_1w': False, 'volume_lag_1w': False, 'weekly_return_lag_1w': False, 'adj_close_lag_2w': False, 'volume_lag_2w': False, 'weekly_return_lag_2w': False, 'adj_close_lag_3w': False, 'volume_lag_3w': True, 'weekly_return_lag_3w': True, 'adj_close_lag_4w': True, 'volume_lag_4w': True, 'weekly_return_lag_4w': False, 'price_to_range_ratio': True, 'volume_change': True, 'adj_close_change': True, 'momentum_2w': False, 'weekly_return_lag_5w': True, 'weekly_return_lag_6w': True, 'weekly_return_lag_7w': False, 'weekly_return_lag_8w': False, 'rolling_mean_4w': False, 'rolling_std_4w': False, 'bollinger_upper': False, 'bollinger_lower': True, 'bollinger_bandwidth': False, 'rolling_skew_4w': True, 'rolling_kurt_4w': False, 'sharpe_ratio': False, 'day_of_week': False, 'week_of_year': False, 'month': True, 'n_estimators': 227, 'learning_rate': 0.11044357475331529, 'max_depth': 8, 'reg_alpha': 0.01571812549909707, 'reg_lambda': 0.0027756954649290045, 'subsample': 0.5546402213280746, 'colsample_bytree': 0.7299186067731366}. Best is trial 1 with value: -361.7369033014901.\n",
      "[I 2025-01-09 10:52:58,798] Trial 3 finished with value: -427.031360158034 and parameters: {'adj_close': False, 'volume': True, 'weekly_price_diff': True, 'range': False, 'gap': False, 'volatility': True, 'volume_ma': False, 'volume_ratio': False, 'rsi_2w': False, 'normalized_rsi_2w': False, 'momentum_4w': True, 'momentum_8w': False, 'ema12': False, 'ema26': True, 'macd': True, 'signal_line': True, 'MACD_Distance': True, 'macd_short': True, 'macd_long': True, 'macd_diff': False, 'low14': True, 'high14': True, '%K': False, '%D': True, 'Stochastic_K_D_Distance': True, 'obv': False, 'vwap': False, 'VWAP_Distance': True, 'hl': False, 'hc': False, 'lc': True, 'tr': True, 'atr': False, 'ATR_Percentage': True, 'Pivot': False, 'Pivot_Distance': False, 'Support_Distance': False, 'Resistance_Distance': True, 'weekly_return': False, 'adj_close_lag_1w': True, 'volume_lag_1w': False, 'weekly_return_lag_1w': True, 'adj_close_lag_2w': False, 'volume_lag_2w': False, 'weekly_return_lag_2w': True, 'adj_close_lag_3w': False, 'volume_lag_3w': False, 'weekly_return_lag_3w': False, 'adj_close_lag_4w': False, 'volume_lag_4w': False, 'weekly_return_lag_4w': True, 'price_to_range_ratio': True, 'volume_change': True, 'adj_close_change': False, 'momentum_2w': True, 'weekly_return_lag_5w': True, 'weekly_return_lag_6w': False, 'weekly_return_lag_7w': True, 'weekly_return_lag_8w': True, 'rolling_mean_4w': True, 'rolling_std_4w': True, 'bollinger_upper': False, 'bollinger_lower': True, 'bollinger_bandwidth': True, 'rolling_skew_4w': False, 'rolling_kurt_4w': True, 'sharpe_ratio': True, 'day_of_week': False, 'week_of_year': True, 'month': True, 'n_estimators': 247, 'learning_rate': 0.08068381463259684, 'max_depth': 9, 'reg_alpha': 2.2629374140159926, 'reg_lambda': 5.1032427863672405, 'subsample': 0.42629934907311773, 'colsample_bytree': 0.26815692422336795}. Best is trial 3 with value: -427.031360158034.\n",
      "[I 2025-01-09 10:53:03,292] Trial 4 finished with value: -348.9607539430505 and parameters: {'adj_close': False, 'volume': True, 'weekly_price_diff': True, 'range': False, 'gap': True, 'volatility': False, 'volume_ma': False, 'volume_ratio': False, 'rsi_2w': False, 'normalized_rsi_2w': False, 'momentum_4w': False, 'momentum_8w': False, 'ema12': False, 'ema26': False, 'macd': True, 'signal_line': True, 'MACD_Distance': True, 'macd_short': True, 'macd_long': False, 'macd_diff': False, 'low14': False, 'high14': True, '%K': True, '%D': False, 'Stochastic_K_D_Distance': True, 'obv': True, 'vwap': True, 'VWAP_Distance': False, 'hl': True, 'hc': False, 'lc': False, 'tr': False, 'atr': True, 'ATR_Percentage': False, 'Pivot': False, 'Pivot_Distance': False, 'Support_Distance': False, 'Resistance_Distance': False, 'weekly_return': True, 'adj_close_lag_1w': False, 'volume_lag_1w': True, 'weekly_return_lag_1w': False, 'adj_close_lag_2w': True, 'volume_lag_2w': True, 'weekly_return_lag_2w': False, 'adj_close_lag_3w': False, 'volume_lag_3w': False, 'weekly_return_lag_3w': True, 'adj_close_lag_4w': False, 'volume_lag_4w': False, 'weekly_return_lag_4w': False, 'price_to_range_ratio': False, 'volume_change': True, 'adj_close_change': True, 'momentum_2w': True, 'weekly_return_lag_5w': True, 'weekly_return_lag_6w': False, 'weekly_return_lag_7w': True, 'weekly_return_lag_8w': True, 'rolling_mean_4w': True, 'rolling_std_4w': True, 'bollinger_upper': False, 'bollinger_lower': False, 'bollinger_bandwidth': True, 'rolling_skew_4w': False, 'rolling_kurt_4w': True, 'sharpe_ratio': True, 'day_of_week': False, 'week_of_year': False, 'month': False, 'n_estimators': 999, 'learning_rate': 0.17947301797185994, 'max_depth': 6, 'reg_alpha': 0.02790543064213021, 'reg_lambda': 0.012867891347548422, 'subsample': 0.12559710961907514, 'colsample_bytree': 0.5864056693027623}. Best is trial 3 with value: -427.031360158034.\n",
      "[I 2025-01-09 10:53:07,735] Trial 5 finished with value: -305.8001727461627 and parameters: {'adj_close': True, 'volume': True, 'weekly_price_diff': False, 'range': True, 'gap': False, 'volatility': False, 'volume_ma': True, 'volume_ratio': True, 'rsi_2w': True, 'normalized_rsi_2w': True, 'momentum_4w': False, 'momentum_8w': True, 'ema12': True, 'ema26': True, 'macd': True, 'signal_line': False, 'MACD_Distance': True, 'macd_short': True, 'macd_long': True, 'macd_diff': False, 'low14': True, 'high14': True, '%K': True, '%D': True, 'Stochastic_K_D_Distance': False, 'obv': True, 'vwap': True, 'VWAP_Distance': False, 'hl': False, 'hc': True, 'lc': False, 'tr': True, 'atr': True, 'ATR_Percentage': False, 'Pivot': True, 'Pivot_Distance': True, 'Support_Distance': True, 'Resistance_Distance': False, 'weekly_return': True, 'adj_close_lag_1w': True, 'volume_lag_1w': False, 'weekly_return_lag_1w': True, 'adj_close_lag_2w': False, 'volume_lag_2w': False, 'weekly_return_lag_2w': True, 'adj_close_lag_3w': False, 'volume_lag_3w': True, 'weekly_return_lag_3w': False, 'adj_close_lag_4w': False, 'volume_lag_4w': False, 'weekly_return_lag_4w': False, 'price_to_range_ratio': False, 'volume_change': False, 'adj_close_change': False, 'momentum_2w': False, 'weekly_return_lag_5w': True, 'weekly_return_lag_6w': True, 'weekly_return_lag_7w': True, 'weekly_return_lag_8w': False, 'rolling_mean_4w': True, 'rolling_std_4w': False, 'bollinger_upper': True, 'bollinger_lower': True, 'bollinger_bandwidth': False, 'rolling_skew_4w': True, 'rolling_kurt_4w': True, 'sharpe_ratio': True, 'day_of_week': True, 'week_of_year': False, 'month': True, 'n_estimators': 259, 'learning_rate': 0.01093952001003176, 'max_depth': 15, 'reg_alpha': 2.763274944642162, 'reg_lambda': 0.008445382790871047, 'subsample': 0.12152490368310498, 'colsample_bytree': 0.3167403051626654}. Best is trial 3 with value: -427.031360158034.\n",
      "[I 2025-01-09 10:53:12,157] Trial 6 finished with value: -275.88819184104364 and parameters: {'adj_close': False, 'volume': False, 'weekly_price_diff': False, 'range': False, 'gap': True, 'volatility': False, 'volume_ma': False, 'volume_ratio': True, 'rsi_2w': False, 'normalized_rsi_2w': True, 'momentum_4w': True, 'momentum_8w': False, 'ema12': False, 'ema26': True, 'macd': True, 'signal_line': True, 'MACD_Distance': True, 'macd_short': False, 'macd_long': True, 'macd_diff': False, 'low14': False, 'high14': True, '%K': True, '%D': True, 'Stochastic_K_D_Distance': True, 'obv': False, 'vwap': False, 'VWAP_Distance': False, 'hl': True, 'hc': True, 'lc': True, 'tr': False, 'atr': False, 'ATR_Percentage': True, 'Pivot': False, 'Pivot_Distance': False, 'Support_Distance': False, 'Resistance_Distance': False, 'weekly_return': False, 'adj_close_lag_1w': True, 'volume_lag_1w': True, 'weekly_return_lag_1w': True, 'adj_close_lag_2w': False, 'volume_lag_2w': True, 'weekly_return_lag_2w': True, 'adj_close_lag_3w': True, 'volume_lag_3w': False, 'weekly_return_lag_3w': True, 'adj_close_lag_4w': True, 'volume_lag_4w': False, 'weekly_return_lag_4w': True, 'price_to_range_ratio': True, 'volume_change': False, 'adj_close_change': True, 'momentum_2w': True, 'weekly_return_lag_5w': False, 'weekly_return_lag_6w': False, 'weekly_return_lag_7w': True, 'weekly_return_lag_8w': True, 'rolling_mean_4w': True, 'rolling_std_4w': True, 'bollinger_upper': False, 'bollinger_lower': False, 'bollinger_bandwidth': True, 'rolling_skew_4w': True, 'rolling_kurt_4w': False, 'sharpe_ratio': True, 'day_of_week': True, 'week_of_year': True, 'month': False, 'n_estimators': 567, 'learning_rate': 0.06474000519324898, 'max_depth': 4, 'reg_alpha': 0.08257299653267178, 'reg_lambda': 0.0018210925448365967, 'subsample': 0.19193479621789028, 'colsample_bytree': 0.11864897619882155}. Best is trial 3 with value: -427.031360158034.\n",
      "[I 2025-01-09 10:53:16,531] Trial 7 finished with value: -378.7496110380107 and parameters: {'adj_close': True, 'volume': True, 'weekly_price_diff': False, 'range': True, 'gap': False, 'volatility': False, 'volume_ma': False, 'volume_ratio': True, 'rsi_2w': True, 'normalized_rsi_2w': True, 'momentum_4w': True, 'momentum_8w': False, 'ema12': False, 'ema26': True, 'macd': False, 'signal_line': False, 'MACD_Distance': True, 'macd_short': True, 'macd_long': True, 'macd_diff': True, 'low14': True, 'high14': False, '%K': True, '%D': False, 'Stochastic_K_D_Distance': False, 'obv': False, 'vwap': True, 'VWAP_Distance': False, 'hl': True, 'hc': False, 'lc': True, 'tr': True, 'atr': False, 'ATR_Percentage': False, 'Pivot': True, 'Pivot_Distance': False, 'Support_Distance': True, 'Resistance_Distance': False, 'weekly_return': False, 'adj_close_lag_1w': False, 'volume_lag_1w': False, 'weekly_return_lag_1w': False, 'adj_close_lag_2w': True, 'volume_lag_2w': True, 'weekly_return_lag_2w': False, 'adj_close_lag_3w': False, 'volume_lag_3w': False, 'weekly_return_lag_3w': True, 'adj_close_lag_4w': True, 'volume_lag_4w': True, 'weekly_return_lag_4w': False, 'price_to_range_ratio': True, 'volume_change': False, 'adj_close_change': True, 'momentum_2w': False, 'weekly_return_lag_5w': True, 'weekly_return_lag_6w': True, 'weekly_return_lag_7w': True, 'weekly_return_lag_8w': True, 'rolling_mean_4w': False, 'rolling_std_4w': False, 'bollinger_upper': True, 'bollinger_lower': True, 'bollinger_bandwidth': True, 'rolling_skew_4w': False, 'rolling_kurt_4w': True, 'sharpe_ratio': False, 'day_of_week': True, 'week_of_year': True, 'month': False, 'n_estimators': 401, 'learning_rate': 0.11251827718740015, 'max_depth': 5, 'reg_alpha': 9.24963684580755, 'reg_lambda': 0.0015954915018751845, 'subsample': 0.42451225494948963, 'colsample_bytree': 0.3376324547351147}. Best is trial 3 with value: -427.031360158034.\n",
      "[I 2025-01-09 10:53:22,101] Trial 8 finished with value: -433.3627449760062 and parameters: {'adj_close': False, 'volume': True, 'weekly_price_diff': False, 'range': True, 'gap': False, 'volatility': True, 'volume_ma': False, 'volume_ratio': True, 'rsi_2w': False, 'normalized_rsi_2w': True, 'momentum_4w': True, 'momentum_8w': True, 'ema12': True, 'ema26': False, 'macd': True, 'signal_line': True, 'MACD_Distance': False, 'macd_short': False, 'macd_long': True, 'macd_diff': False, 'low14': False, 'high14': True, '%K': True, '%D': True, 'Stochastic_K_D_Distance': False, 'obv': False, 'vwap': False, 'VWAP_Distance': False, 'hl': False, 'hc': False, 'lc': True, 'tr': True, 'atr': True, 'ATR_Percentage': True, 'Pivot': False, 'Pivot_Distance': False, 'Support_Distance': False, 'Resistance_Distance': False, 'weekly_return': False, 'adj_close_lag_1w': False, 'volume_lag_1w': True, 'weekly_return_lag_1w': True, 'adj_close_lag_2w': False, 'volume_lag_2w': False, 'weekly_return_lag_2w': False, 'adj_close_lag_3w': True, 'volume_lag_3w': True, 'weekly_return_lag_3w': True, 'adj_close_lag_4w': False, 'volume_lag_4w': True, 'weekly_return_lag_4w': True, 'price_to_range_ratio': True, 'volume_change': True, 'adj_close_change': False, 'momentum_2w': False, 'weekly_return_lag_5w': True, 'weekly_return_lag_6w': True, 'weekly_return_lag_7w': False, 'weekly_return_lag_8w': False, 'rolling_mean_4w': False, 'rolling_std_4w': False, 'bollinger_upper': False, 'bollinger_lower': True, 'bollinger_bandwidth': True, 'rolling_skew_4w': True, 'rolling_kurt_4w': False, 'sharpe_ratio': True, 'day_of_week': False, 'week_of_year': False, 'month': False, 'n_estimators': 670, 'learning_rate': 0.1294576888560406, 'max_depth': 15, 'reg_alpha': 0.0011625607377215032, 'reg_lambda': 0.021274184787878434, 'subsample': 0.13956665942920365, 'colsample_bytree': 0.6395901231482171}. Best is trial 8 with value: -433.3627449760062.\n",
      "[I 2025-01-09 10:53:27,406] Trial 9 finished with value: -439.0095342308871 and parameters: {'adj_close': True, 'volume': True, 'weekly_price_diff': False, 'range': False, 'gap': False, 'volatility': False, 'volume_ma': True, 'volume_ratio': True, 'rsi_2w': True, 'normalized_rsi_2w': True, 'momentum_4w': True, 'momentum_8w': False, 'ema12': True, 'ema26': True, 'macd': False, 'signal_line': False, 'MACD_Distance': True, 'macd_short': True, 'macd_long': False, 'macd_diff': False, 'low14': True, 'high14': False, '%K': False, '%D': True, 'Stochastic_K_D_Distance': True, 'obv': False, 'vwap': True, 'VWAP_Distance': True, 'hl': False, 'hc': True, 'lc': False, 'tr': False, 'atr': False, 'ATR_Percentage': False, 'Pivot': True, 'Pivot_Distance': True, 'Support_Distance': False, 'Resistance_Distance': False, 'weekly_return': False, 'adj_close_lag_1w': False, 'volume_lag_1w': False, 'weekly_return_lag_1w': True, 'adj_close_lag_2w': False, 'volume_lag_2w': False, 'weekly_return_lag_2w': False, 'adj_close_lag_3w': True, 'volume_lag_3w': True, 'weekly_return_lag_3w': False, 'adj_close_lag_4w': True, 'volume_lag_4w': True, 'weekly_return_lag_4w': False, 'price_to_range_ratio': False, 'volume_change': False, 'adj_close_change': True, 'momentum_2w': True, 'weekly_return_lag_5w': False, 'weekly_return_lag_6w': False, 'weekly_return_lag_7w': False, 'weekly_return_lag_8w': True, 'rolling_mean_4w': False, 'rolling_std_4w': False, 'bollinger_upper': True, 'bollinger_lower': True, 'bollinger_bandwidth': False, 'rolling_skew_4w': False, 'rolling_kurt_4w': True, 'sharpe_ratio': True, 'day_of_week': False, 'week_of_year': True, 'month': False, 'n_estimators': 239, 'learning_rate': 0.10408849331095156, 'max_depth': 12, 'reg_alpha': 0.2982012726937576, 'reg_lambda': 0.05923650581910027, 'subsample': 0.8300538354201423, 'colsample_bytree': 0.6035183327043022}. Best is trial 9 with value: -439.0095342308871.\n",
      "[I 2025-01-09 10:53:27,406] A new study created in memory with name: no-name-591819a7-a3e5-49ee-b323-82934a4d1524\n"
     ]
    },
    {
     "name": "stdout",
     "output_type": "stream",
     "text": [
      "Optimizing xgboost for Sharpe Ratio...\n"
     ]
    },
    {
     "name": "stderr",
     "output_type": "stream",
     "text": [
      "[I 2025-01-09 10:53:32,004] Trial 0 finished with value: -1.004998109953649 and parameters: {'adj_close': True, 'volume': False, 'weekly_price_diff': True, 'range': True, 'gap': False, 'volatility': True, 'volume_ma': True, 'volume_ratio': True, 'rsi_2w': False, 'normalized_rsi_2w': True, 'momentum_4w': True, 'momentum_8w': True, 'ema12': False, 'ema26': True, 'macd': False, 'signal_line': False, 'MACD_Distance': False, 'macd_short': False, 'macd_long': False, 'macd_diff': True, 'low14': True, 'high14': True, '%K': True, '%D': False, 'Stochastic_K_D_Distance': False, 'obv': False, 'vwap': False, 'VWAP_Distance': False, 'hl': True, 'hc': False, 'lc': True, 'tr': True, 'atr': False, 'ATR_Percentage': False, 'Pivot': False, 'Pivot_Distance': False, 'Support_Distance': False, 'Resistance_Distance': True, 'weekly_return': True, 'adj_close_lag_1w': False, 'volume_lag_1w': False, 'weekly_return_lag_1w': True, 'adj_close_lag_2w': False, 'volume_lag_2w': False, 'weekly_return_lag_2w': True, 'adj_close_lag_3w': False, 'volume_lag_3w': False, 'weekly_return_lag_3w': True, 'adj_close_lag_4w': True, 'volume_lag_4w': True, 'weekly_return_lag_4w': False, 'price_to_range_ratio': True, 'volume_change': False, 'adj_close_change': True, 'momentum_2w': True, 'weekly_return_lag_5w': False, 'weekly_return_lag_6w': True, 'weekly_return_lag_7w': False, 'weekly_return_lag_8w': False, 'rolling_mean_4w': False, 'rolling_std_4w': False, 'bollinger_upper': True, 'bollinger_lower': True, 'bollinger_bandwidth': True, 'rolling_skew_4w': False, 'rolling_kurt_4w': False, 'sharpe_ratio': True, 'day_of_week': True, 'week_of_year': False, 'month': False, 'n_estimators': 493, 'learning_rate': 0.14355963186000503, 'max_depth': 10, 'reg_alpha': 1.9289510033935668, 'reg_lambda': 0.014149215881657263, 'subsample': 0.9187566141390433, 'colsample_bytree': 0.7626430833119422}. Best is trial 0 with value: -1.004998109953649.\n",
      "[I 2025-01-09 10:53:36,672] Trial 1 finished with value: -1.4100976352570882 and parameters: {'adj_close': False, 'volume': False, 'weekly_price_diff': False, 'range': False, 'gap': False, 'volatility': True, 'volume_ma': False, 'volume_ratio': True, 'rsi_2w': True, 'normalized_rsi_2w': False, 'momentum_4w': True, 'momentum_8w': True, 'ema12': False, 'ema26': False, 'macd': False, 'signal_line': True, 'MACD_Distance': False, 'macd_short': True, 'macd_long': False, 'macd_diff': True, 'low14': True, 'high14': False, '%K': True, '%D': False, 'Stochastic_K_D_Distance': False, 'obv': False, 'vwap': True, 'VWAP_Distance': False, 'hl': True, 'hc': True, 'lc': False, 'tr': False, 'atr': False, 'ATR_Percentage': True, 'Pivot': True, 'Pivot_Distance': True, 'Support_Distance': False, 'Resistance_Distance': False, 'weekly_return': True, 'adj_close_lag_1w': False, 'volume_lag_1w': True, 'weekly_return_lag_1w': False, 'adj_close_lag_2w': True, 'volume_lag_2w': False, 'weekly_return_lag_2w': True, 'adj_close_lag_3w': True, 'volume_lag_3w': True, 'weekly_return_lag_3w': True, 'adj_close_lag_4w': False, 'volume_lag_4w': True, 'weekly_return_lag_4w': True, 'price_to_range_ratio': False, 'volume_change': True, 'adj_close_change': True, 'momentum_2w': False, 'weekly_return_lag_5w': False, 'weekly_return_lag_6w': False, 'weekly_return_lag_7w': False, 'weekly_return_lag_8w': True, 'rolling_mean_4w': True, 'rolling_std_4w': True, 'bollinger_upper': False, 'bollinger_lower': True, 'bollinger_bandwidth': False, 'rolling_skew_4w': True, 'rolling_kurt_4w': False, 'sharpe_ratio': False, 'day_of_week': True, 'week_of_year': True, 'month': False, 'n_estimators': 388, 'learning_rate': 0.025613545149671266, 'max_depth': 6, 'reg_alpha': 0.12206348709239312, 'reg_lambda': 0.005811014600389245, 'subsample': 0.967481658819603, 'colsample_bytree': 0.9573026822220909}. Best is trial 1 with value: -1.4100976352570882.\n",
      "[I 2025-01-09 10:53:41,228] Trial 2 finished with value: -1.3823155395475515 and parameters: {'adj_close': False, 'volume': True, 'weekly_price_diff': False, 'range': False, 'gap': False, 'volatility': True, 'volume_ma': False, 'volume_ratio': True, 'rsi_2w': True, 'normalized_rsi_2w': False, 'momentum_4w': False, 'momentum_8w': True, 'ema12': False, 'ema26': True, 'macd': False, 'signal_line': True, 'MACD_Distance': True, 'macd_short': False, 'macd_long': False, 'macd_diff': False, 'low14': False, 'high14': True, '%K': True, '%D': True, 'Stochastic_K_D_Distance': True, 'obv': True, 'vwap': False, 'VWAP_Distance': True, 'hl': False, 'hc': True, 'lc': True, 'tr': False, 'atr': True, 'ATR_Percentage': True, 'Pivot': False, 'Pivot_Distance': False, 'Support_Distance': True, 'Resistance_Distance': False, 'weekly_return': True, 'adj_close_lag_1w': False, 'volume_lag_1w': True, 'weekly_return_lag_1w': False, 'adj_close_lag_2w': True, 'volume_lag_2w': False, 'weekly_return_lag_2w': True, 'adj_close_lag_3w': True, 'volume_lag_3w': True, 'weekly_return_lag_3w': False, 'adj_close_lag_4w': False, 'volume_lag_4w': False, 'weekly_return_lag_4w': True, 'price_to_range_ratio': False, 'volume_change': False, 'adj_close_change': True, 'momentum_2w': True, 'weekly_return_lag_5w': True, 'weekly_return_lag_6w': True, 'weekly_return_lag_7w': False, 'weekly_return_lag_8w': False, 'rolling_mean_4w': True, 'rolling_std_4w': True, 'bollinger_upper': True, 'bollinger_lower': False, 'bollinger_bandwidth': False, 'rolling_skew_4w': True, 'rolling_kurt_4w': True, 'sharpe_ratio': False, 'day_of_week': True, 'week_of_year': False, 'month': True, 'n_estimators': 421, 'learning_rate': 0.023466592162134682, 'max_depth': 14, 'reg_alpha': 3.181315710656693, 'reg_lambda': 2.91456755250561, 'subsample': 0.16887365458913628, 'colsample_bytree': 0.23681150571725149}. Best is trial 1 with value: -1.4100976352570882.\n",
      "[I 2025-01-09 10:53:45,559] Trial 3 finished with value: -1.069566812558931 and parameters: {'adj_close': True, 'volume': True, 'weekly_price_diff': False, 'range': True, 'gap': False, 'volatility': False, 'volume_ma': True, 'volume_ratio': False, 'rsi_2w': True, 'normalized_rsi_2w': True, 'momentum_4w': False, 'momentum_8w': True, 'ema12': True, 'ema26': False, 'macd': True, 'signal_line': True, 'MACD_Distance': True, 'macd_short': False, 'macd_long': True, 'macd_diff': True, 'low14': False, 'high14': False, '%K': False, '%D': False, 'Stochastic_K_D_Distance': True, 'obv': False, 'vwap': True, 'VWAP_Distance': False, 'hl': False, 'hc': True, 'lc': True, 'tr': False, 'atr': False, 'ATR_Percentage': False, 'Pivot': True, 'Pivot_Distance': False, 'Support_Distance': False, 'Resistance_Distance': True, 'weekly_return': False, 'adj_close_lag_1w': False, 'volume_lag_1w': False, 'weekly_return_lag_1w': True, 'adj_close_lag_2w': True, 'volume_lag_2w': False, 'weekly_return_lag_2w': True, 'adj_close_lag_3w': True, 'volume_lag_3w': False, 'weekly_return_lag_3w': False, 'adj_close_lag_4w': True, 'volume_lag_4w': True, 'weekly_return_lag_4w': False, 'price_to_range_ratio': False, 'volume_change': False, 'adj_close_change': False, 'momentum_2w': True, 'weekly_return_lag_5w': False, 'weekly_return_lag_6w': True, 'weekly_return_lag_7w': False, 'weekly_return_lag_8w': False, 'rolling_mean_4w': True, 'rolling_std_4w': False, 'bollinger_upper': False, 'bollinger_lower': False, 'bollinger_bandwidth': False, 'rolling_skew_4w': True, 'rolling_kurt_4w': False, 'sharpe_ratio': False, 'day_of_week': True, 'week_of_year': True, 'month': False, 'n_estimators': 766, 'learning_rate': 0.06331780770948729, 'max_depth': 7, 'reg_alpha': 1.6534139804057628, 'reg_lambda': 0.06612873848304256, 'subsample': 0.2165018941838398, 'colsample_bytree': 0.13387284026064444}. Best is trial 1 with value: -1.4100976352570882.\n",
      "[I 2025-01-09 10:53:50,196] Trial 4 finished with value: -1.368905065560528 and parameters: {'adj_close': True, 'volume': False, 'weekly_price_diff': True, 'range': True, 'gap': True, 'volatility': True, 'volume_ma': True, 'volume_ratio': True, 'rsi_2w': True, 'normalized_rsi_2w': False, 'momentum_4w': True, 'momentum_8w': False, 'ema12': False, 'ema26': False, 'macd': True, 'signal_line': True, 'MACD_Distance': False, 'macd_short': True, 'macd_long': True, 'macd_diff': True, 'low14': False, 'high14': False, '%K': False, '%D': False, 'Stochastic_K_D_Distance': True, 'obv': True, 'vwap': True, 'VWAP_Distance': False, 'hl': True, 'hc': True, 'lc': True, 'tr': False, 'atr': True, 'ATR_Percentage': False, 'Pivot': False, 'Pivot_Distance': False, 'Support_Distance': True, 'Resistance_Distance': False, 'weekly_return': False, 'adj_close_lag_1w': False, 'volume_lag_1w': False, 'weekly_return_lag_1w': False, 'adj_close_lag_2w': True, 'volume_lag_2w': True, 'weekly_return_lag_2w': True, 'adj_close_lag_3w': True, 'volume_lag_3w': False, 'weekly_return_lag_3w': False, 'adj_close_lag_4w': True, 'volume_lag_4w': True, 'weekly_return_lag_4w': False, 'price_to_range_ratio': True, 'volume_change': True, 'adj_close_change': False, 'momentum_2w': True, 'weekly_return_lag_5w': False, 'weekly_return_lag_6w': True, 'weekly_return_lag_7w': False, 'weekly_return_lag_8w': True, 'rolling_mean_4w': False, 'rolling_std_4w': False, 'bollinger_upper': True, 'bollinger_lower': False, 'bollinger_bandwidth': False, 'rolling_skew_4w': True, 'rolling_kurt_4w': True, 'sharpe_ratio': False, 'day_of_week': False, 'week_of_year': True, 'month': False, 'n_estimators': 163, 'learning_rate': 0.2800501354171571, 'max_depth': 8, 'reg_alpha': 0.2054510654500246, 'reg_lambda': 0.8146332317732818, 'subsample': 0.33605882801103626, 'colsample_bytree': 0.3843309885288928}. Best is trial 1 with value: -1.4100976352570882.\n",
      "[I 2025-01-09 10:53:54,680] Trial 5 finished with value: -1.462161489692689 and parameters: {'adj_close': False, 'volume': True, 'weekly_price_diff': True, 'range': False, 'gap': True, 'volatility': True, 'volume_ma': False, 'volume_ratio': True, 'rsi_2w': True, 'normalized_rsi_2w': False, 'momentum_4w': False, 'momentum_8w': False, 'ema12': True, 'ema26': True, 'macd': False, 'signal_line': False, 'MACD_Distance': True, 'macd_short': True, 'macd_long': True, 'macd_diff': False, 'low14': True, 'high14': False, '%K': True, '%D': True, 'Stochastic_K_D_Distance': True, 'obv': True, 'vwap': True, 'VWAP_Distance': True, 'hl': True, 'hc': False, 'lc': True, 'tr': True, 'atr': False, 'ATR_Percentage': False, 'Pivot': True, 'Pivot_Distance': False, 'Support_Distance': True, 'Resistance_Distance': True, 'weekly_return': False, 'adj_close_lag_1w': True, 'volume_lag_1w': False, 'weekly_return_lag_1w': False, 'adj_close_lag_2w': True, 'volume_lag_2w': True, 'weekly_return_lag_2w': True, 'adj_close_lag_3w': False, 'volume_lag_3w': True, 'weekly_return_lag_3w': True, 'adj_close_lag_4w': False, 'volume_lag_4w': True, 'weekly_return_lag_4w': True, 'price_to_range_ratio': False, 'volume_change': False, 'adj_close_change': False, 'momentum_2w': True, 'weekly_return_lag_5w': True, 'weekly_return_lag_6w': True, 'weekly_return_lag_7w': True, 'weekly_return_lag_8w': True, 'rolling_mean_4w': False, 'rolling_std_4w': False, 'bollinger_upper': True, 'bollinger_lower': True, 'bollinger_bandwidth': True, 'rolling_skew_4w': False, 'rolling_kurt_4w': True, 'sharpe_ratio': True, 'day_of_week': True, 'week_of_year': False, 'month': False, 'n_estimators': 171, 'learning_rate': 0.025401640379423062, 'max_depth': 3, 'reg_alpha': 0.008705987547552583, 'reg_lambda': 5.5795269953224915, 'subsample': 0.39293154626123983, 'colsample_bytree': 0.3848388776999333}. Best is trial 5 with value: -1.462161489692689.\n",
      "[I 2025-01-09 10:53:59,345] Trial 6 finished with value: -1.1155330735324247 and parameters: {'adj_close': False, 'volume': True, 'weekly_price_diff': False, 'range': True, 'gap': False, 'volatility': False, 'volume_ma': True, 'volume_ratio': True, 'rsi_2w': False, 'normalized_rsi_2w': False, 'momentum_4w': False, 'momentum_8w': False, 'ema12': True, 'ema26': False, 'macd': False, 'signal_line': False, 'MACD_Distance': True, 'macd_short': False, 'macd_long': False, 'macd_diff': False, 'low14': False, 'high14': False, '%K': False, '%D': True, 'Stochastic_K_D_Distance': True, 'obv': False, 'vwap': True, 'VWAP_Distance': True, 'hl': False, 'hc': False, 'lc': False, 'tr': False, 'atr': False, 'ATR_Percentage': False, 'Pivot': False, 'Pivot_Distance': True, 'Support_Distance': False, 'Resistance_Distance': False, 'weekly_return': True, 'adj_close_lag_1w': False, 'volume_lag_1w': False, 'weekly_return_lag_1w': False, 'adj_close_lag_2w': False, 'volume_lag_2w': False, 'weekly_return_lag_2w': True, 'adj_close_lag_3w': True, 'volume_lag_3w': True, 'weekly_return_lag_3w': True, 'adj_close_lag_4w': True, 'volume_lag_4w': True, 'weekly_return_lag_4w': True, 'price_to_range_ratio': True, 'volume_change': False, 'adj_close_change': True, 'momentum_2w': True, 'weekly_return_lag_5w': False, 'weekly_return_lag_6w': True, 'weekly_return_lag_7w': False, 'weekly_return_lag_8w': True, 'rolling_mean_4w': True, 'rolling_std_4w': False, 'bollinger_upper': False, 'bollinger_lower': False, 'bollinger_bandwidth': True, 'rolling_skew_4w': False, 'rolling_kurt_4w': True, 'sharpe_ratio': False, 'day_of_week': False, 'week_of_year': False, 'month': True, 'n_estimators': 739, 'learning_rate': 0.1629502178999319, 'max_depth': 15, 'reg_alpha': 1.0631239857698698, 'reg_lambda': 0.3899400284600726, 'subsample': 0.31151948133581453, 'colsample_bytree': 0.7378271433628515}. Best is trial 5 with value: -1.462161489692689.\n",
      "[I 2025-01-09 10:54:03,738] Trial 7 finished with value: -1.1990145748990082 and parameters: {'adj_close': False, 'volume': True, 'weekly_price_diff': False, 'range': True, 'gap': False, 'volatility': True, 'volume_ma': True, 'volume_ratio': False, 'rsi_2w': True, 'normalized_rsi_2w': False, 'momentum_4w': True, 'momentum_8w': True, 'ema12': False, 'ema26': True, 'macd': False, 'signal_line': True, 'MACD_Distance': False, 'macd_short': True, 'macd_long': True, 'macd_diff': True, 'low14': False, 'high14': False, '%K': True, '%D': True, 'Stochastic_K_D_Distance': True, 'obv': False, 'vwap': True, 'VWAP_Distance': False, 'hl': False, 'hc': False, 'lc': False, 'tr': True, 'atr': True, 'ATR_Percentage': False, 'Pivot': False, 'Pivot_Distance': False, 'Support_Distance': False, 'Resistance_Distance': True, 'weekly_return': False, 'adj_close_lag_1w': False, 'volume_lag_1w': True, 'weekly_return_lag_1w': False, 'adj_close_lag_2w': True, 'volume_lag_2w': False, 'weekly_return_lag_2w': False, 'adj_close_lag_3w': False, 'volume_lag_3w': True, 'weekly_return_lag_3w': False, 'adj_close_lag_4w': True, 'volume_lag_4w': False, 'weekly_return_lag_4w': True, 'price_to_range_ratio': False, 'volume_change': True, 'adj_close_change': False, 'momentum_2w': True, 'weekly_return_lag_5w': True, 'weekly_return_lag_6w': True, 'weekly_return_lag_7w': False, 'weekly_return_lag_8w': False, 'rolling_mean_4w': True, 'rolling_std_4w': False, 'bollinger_upper': True, 'bollinger_lower': False, 'bollinger_bandwidth': False, 'rolling_skew_4w': False, 'rolling_kurt_4w': True, 'sharpe_ratio': False, 'day_of_week': True, 'week_of_year': False, 'month': False, 'n_estimators': 125, 'learning_rate': 0.03542382980303396, 'max_depth': 11, 'reg_alpha': 8.574811018470974, 'reg_lambda': 0.6630759476328367, 'subsample': 0.12410005899817406, 'colsample_bytree': 0.7104840898833992}. Best is trial 5 with value: -1.462161489692689.\n",
      "[I 2025-01-09 10:54:09,550] Trial 8 finished with value: -0.989724924786514 and parameters: {'adj_close': False, 'volume': False, 'weekly_price_diff': False, 'range': False, 'gap': False, 'volatility': False, 'volume_ma': True, 'volume_ratio': False, 'rsi_2w': False, 'normalized_rsi_2w': True, 'momentum_4w': True, 'momentum_8w': True, 'ema12': False, 'ema26': False, 'macd': False, 'signal_line': False, 'MACD_Distance': False, 'macd_short': False, 'macd_long': True, 'macd_diff': True, 'low14': True, 'high14': True, '%K': True, '%D': False, 'Stochastic_K_D_Distance': True, 'obv': False, 'vwap': False, 'VWAP_Distance': False, 'hl': False, 'hc': True, 'lc': False, 'tr': True, 'atr': True, 'ATR_Percentage': True, 'Pivot': True, 'Pivot_Distance': True, 'Support_Distance': False, 'Resistance_Distance': False, 'weekly_return': False, 'adj_close_lag_1w': True, 'volume_lag_1w': True, 'weekly_return_lag_1w': False, 'adj_close_lag_2w': False, 'volume_lag_2w': True, 'weekly_return_lag_2w': False, 'adj_close_lag_3w': False, 'volume_lag_3w': True, 'weekly_return_lag_3w': True, 'adj_close_lag_4w': True, 'volume_lag_4w': False, 'weekly_return_lag_4w': False, 'price_to_range_ratio': False, 'volume_change': False, 'adj_close_change': False, 'momentum_2w': False, 'weekly_return_lag_5w': False, 'weekly_return_lag_6w': False, 'weekly_return_lag_7w': True, 'weekly_return_lag_8w': False, 'rolling_mean_4w': True, 'rolling_std_4w': True, 'bollinger_upper': True, 'bollinger_lower': False, 'bollinger_bandwidth': True, 'rolling_skew_4w': True, 'rolling_kurt_4w': False, 'sharpe_ratio': True, 'day_of_week': False, 'week_of_year': False, 'month': True, 'n_estimators': 593, 'learning_rate': 0.020609911415191386, 'max_depth': 15, 'reg_alpha': 0.002014762021654604, 'reg_lambda': 0.98576385618328, 'subsample': 0.2599468601597871, 'colsample_bytree': 0.20964184318478446}. Best is trial 5 with value: -1.462161489692689.\n",
      "[I 2025-01-09 10:54:14,003] Trial 9 finished with value: -1.103360645361393 and parameters: {'adj_close': True, 'volume': False, 'weekly_price_diff': False, 'range': True, 'gap': False, 'volatility': False, 'volume_ma': False, 'volume_ratio': False, 'rsi_2w': False, 'normalized_rsi_2w': False, 'momentum_4w': True, 'momentum_8w': True, 'ema12': False, 'ema26': True, 'macd': True, 'signal_line': False, 'MACD_Distance': True, 'macd_short': False, 'macd_long': True, 'macd_diff': False, 'low14': False, 'high14': False, '%K': True, '%D': False, 'Stochastic_K_D_Distance': True, 'obv': False, 'vwap': False, 'VWAP_Distance': True, 'hl': False, 'hc': False, 'lc': False, 'tr': False, 'atr': True, 'ATR_Percentage': False, 'Pivot': True, 'Pivot_Distance': False, 'Support_Distance': False, 'Resistance_Distance': False, 'weekly_return': False, 'adj_close_lag_1w': True, 'volume_lag_1w': False, 'weekly_return_lag_1w': True, 'adj_close_lag_2w': True, 'volume_lag_2w': False, 'weekly_return_lag_2w': False, 'adj_close_lag_3w': False, 'volume_lag_3w': False, 'weekly_return_lag_3w': False, 'adj_close_lag_4w': True, 'volume_lag_4w': False, 'weekly_return_lag_4w': False, 'price_to_range_ratio': True, 'volume_change': True, 'adj_close_change': True, 'momentum_2w': True, 'weekly_return_lag_5w': False, 'weekly_return_lag_6w': True, 'weekly_return_lag_7w': False, 'weekly_return_lag_8w': True, 'rolling_mean_4w': True, 'rolling_std_4w': True, 'bollinger_upper': False, 'bollinger_lower': False, 'bollinger_bandwidth': False, 'rolling_skew_4w': False, 'rolling_kurt_4w': True, 'sharpe_ratio': False, 'day_of_week': False, 'week_of_year': False, 'month': False, 'n_estimators': 895, 'learning_rate': 0.052020295927487026, 'max_depth': 14, 'reg_alpha': 0.8906359532212116, 'reg_lambda': 0.009038903291744534, 'subsample': 0.1589090546863603, 'colsample_bytree': 0.22376164378629781}. Best is trial 5 with value: -1.462161489692689.\n",
      "[I 2025-01-09 10:54:14,003] A new study created in memory with name: no-name-3ab29f75-59f1-40b6-b176-ef024a05222d\n"
     ]
    },
    {
     "name": "stdout",
     "output_type": "stream",
     "text": [
      "Optimizing catboost for ROI...\n"
     ]
    },
    {
     "name": "stderr",
     "output_type": "stream",
     "text": [
      "[I 2025-01-09 10:54:19,907] Trial 0 finished with value: -422.2427330412862 and parameters: {'adj_close': True, 'volume': False, 'weekly_price_diff': True, 'range': False, 'gap': True, 'volatility': False, 'volume_ma': False, 'volume_ratio': True, 'rsi_2w': True, 'normalized_rsi_2w': True, 'momentum_4w': False, 'momentum_8w': True, 'ema12': False, 'ema26': False, 'macd': True, 'signal_line': False, 'MACD_Distance': False, 'macd_short': True, 'macd_long': False, 'macd_diff': False, 'low14': True, 'high14': True, '%K': True, '%D': True, 'Stochastic_K_D_Distance': True, 'obv': False, 'vwap': True, 'VWAP_Distance': True, 'hl': False, 'hc': False, 'lc': False, 'tr': True, 'atr': False, 'ATR_Percentage': True, 'Pivot': False, 'Pivot_Distance': True, 'Support_Distance': True, 'Resistance_Distance': True, 'weekly_return': True, 'adj_close_lag_1w': True, 'volume_lag_1w': True, 'weekly_return_lag_1w': False, 'adj_close_lag_2w': True, 'volume_lag_2w': False, 'weekly_return_lag_2w': True, 'adj_close_lag_3w': False, 'volume_lag_3w': True, 'weekly_return_lag_3w': True, 'adj_close_lag_4w': False, 'volume_lag_4w': True, 'weekly_return_lag_4w': True, 'price_to_range_ratio': True, 'volume_change': False, 'adj_close_change': False, 'momentum_2w': False, 'weekly_return_lag_5w': True, 'weekly_return_lag_6w': False, 'weekly_return_lag_7w': True, 'weekly_return_lag_8w': False, 'rolling_mean_4w': False, 'rolling_std_4w': False, 'bollinger_upper': False, 'bollinger_lower': True, 'bollinger_bandwidth': False, 'rolling_skew_4w': False, 'rolling_kurt_4w': True, 'sharpe_ratio': True, 'day_of_week': False, 'week_of_year': False, 'month': True, 'iterations': 719, 'learning_rate': 0.018253884150930072, 'depth': 8, 'l2_leaf_reg': 0.0023552081418548696, 'bagging_temperature': 0.802734267928676, 'random_strength': 5.2767167602199105}. Best is trial 0 with value: -422.2427330412862.\n",
      "[I 2025-01-09 10:54:40,012] Trial 1 finished with value: -321.51118950391594 and parameters: {'adj_close': False, 'volume': False, 'weekly_price_diff': False, 'range': True, 'gap': False, 'volatility': False, 'volume_ma': False, 'volume_ratio': True, 'rsi_2w': False, 'normalized_rsi_2w': False, 'momentum_4w': True, 'momentum_8w': False, 'ema12': False, 'ema26': False, 'macd': False, 'signal_line': True, 'MACD_Distance': False, 'macd_short': True, 'macd_long': False, 'macd_diff': False, 'low14': False, 'high14': False, '%K': False, '%D': False, 'Stochastic_K_D_Distance': False, 'obv': True, 'vwap': False, 'VWAP_Distance': True, 'hl': False, 'hc': True, 'lc': True, 'tr': True, 'atr': False, 'ATR_Percentage': True, 'Pivot': True, 'Pivot_Distance': False, 'Support_Distance': True, 'Resistance_Distance': False, 'weekly_return': False, 'adj_close_lag_1w': False, 'volume_lag_1w': True, 'weekly_return_lag_1w': True, 'adj_close_lag_2w': True, 'volume_lag_2w': False, 'weekly_return_lag_2w': False, 'adj_close_lag_3w': False, 'volume_lag_3w': True, 'weekly_return_lag_3w': False, 'adj_close_lag_4w': True, 'volume_lag_4w': True, 'weekly_return_lag_4w': False, 'price_to_range_ratio': False, 'volume_change': True, 'adj_close_change': True, 'momentum_2w': False, 'weekly_return_lag_5w': True, 'weekly_return_lag_6w': False, 'weekly_return_lag_7w': False, 'weekly_return_lag_8w': False, 'rolling_mean_4w': True, 'rolling_std_4w': False, 'bollinger_upper': True, 'bollinger_lower': True, 'bollinger_bandwidth': False, 'rolling_skew_4w': False, 'rolling_kurt_4w': True, 'sharpe_ratio': True, 'day_of_week': False, 'week_of_year': False, 'month': True, 'iterations': 863, 'learning_rate': 0.18017795783907087, 'depth': 12, 'l2_leaf_reg': 0.69927716814472, 'bagging_temperature': 0.26707698136863034, 'random_strength': 0.11855432493627498}. Best is trial 0 with value: -422.2427330412862.\n",
      "[I 2025-01-09 10:57:29,787] Trial 2 finished with value: -279.0038431441223 and parameters: {'adj_close': False, 'volume': True, 'weekly_price_diff': True, 'range': True, 'gap': True, 'volatility': False, 'volume_ma': True, 'volume_ratio': True, 'rsi_2w': False, 'normalized_rsi_2w': False, 'momentum_4w': True, 'momentum_8w': True, 'ema12': True, 'ema26': False, 'macd': True, 'signal_line': True, 'MACD_Distance': False, 'macd_short': True, 'macd_long': False, 'macd_diff': True, 'low14': False, 'high14': False, '%K': True, '%D': False, 'Stochastic_K_D_Distance': True, 'obv': False, 'vwap': False, 'VWAP_Distance': False, 'hl': True, 'hc': False, 'lc': False, 'tr': False, 'atr': True, 'ATR_Percentage': True, 'Pivot': True, 'Pivot_Distance': False, 'Support_Distance': True, 'Resistance_Distance': False, 'weekly_return': False, 'adj_close_lag_1w': True, 'volume_lag_1w': True, 'weekly_return_lag_1w': False, 'adj_close_lag_2w': False, 'volume_lag_2w': True, 'weekly_return_lag_2w': True, 'adj_close_lag_3w': True, 'volume_lag_3w': False, 'weekly_return_lag_3w': False, 'adj_close_lag_4w': True, 'volume_lag_4w': True, 'weekly_return_lag_4w': True, 'price_to_range_ratio': True, 'volume_change': False, 'adj_close_change': False, 'momentum_2w': True, 'weekly_return_lag_5w': False, 'weekly_return_lag_6w': True, 'weekly_return_lag_7w': False, 'weekly_return_lag_8w': False, 'rolling_mean_4w': True, 'rolling_std_4w': False, 'bollinger_upper': True, 'bollinger_lower': True, 'bollinger_bandwidth': False, 'rolling_skew_4w': False, 'rolling_kurt_4w': True, 'sharpe_ratio': True, 'day_of_week': False, 'week_of_year': False, 'month': False, 'iterations': 915, 'learning_rate': 0.19199824027793594, 'depth': 15, 'l2_leaf_reg': 0.4124026292802843, 'bagging_temperature': 0.23150061289528823, 'random_strength': 0.01937489368938329}. Best is trial 0 with value: -422.2427330412862.\n",
      "[I 2025-01-09 11:00:05,046] Trial 3 finished with value: -319.2150428976762 and parameters: {'adj_close': True, 'volume': False, 'weekly_price_diff': True, 'range': True, 'gap': False, 'volatility': True, 'volume_ma': True, 'volume_ratio': True, 'rsi_2w': False, 'normalized_rsi_2w': False, 'momentum_4w': True, 'momentum_8w': False, 'ema12': True, 'ema26': True, 'macd': True, 'signal_line': True, 'MACD_Distance': True, 'macd_short': True, 'macd_long': False, 'macd_diff': False, 'low14': False, 'high14': False, '%K': True, '%D': False, 'Stochastic_K_D_Distance': True, 'obv': False, 'vwap': False, 'VWAP_Distance': True, 'hl': False, 'hc': False, 'lc': False, 'tr': False, 'atr': True, 'ATR_Percentage': True, 'Pivot': True, 'Pivot_Distance': True, 'Support_Distance': False, 'Resistance_Distance': True, 'weekly_return': False, 'adj_close_lag_1w': False, 'volume_lag_1w': True, 'weekly_return_lag_1w': False, 'adj_close_lag_2w': True, 'volume_lag_2w': False, 'weekly_return_lag_2w': False, 'adj_close_lag_3w': False, 'volume_lag_3w': True, 'weekly_return_lag_3w': False, 'adj_close_lag_4w': False, 'volume_lag_4w': False, 'weekly_return_lag_4w': True, 'price_to_range_ratio': True, 'volume_change': True, 'adj_close_change': False, 'momentum_2w': False, 'weekly_return_lag_5w': False, 'weekly_return_lag_6w': True, 'weekly_return_lag_7w': False, 'weekly_return_lag_8w': True, 'rolling_mean_4w': True, 'rolling_std_4w': False, 'bollinger_upper': False, 'bollinger_lower': False, 'bollinger_bandwidth': False, 'rolling_skew_4w': False, 'rolling_kurt_4w': True, 'sharpe_ratio': True, 'day_of_week': False, 'week_of_year': False, 'month': True, 'iterations': 724, 'learning_rate': 0.14797223995324663, 'depth': 15, 'l2_leaf_reg': 0.12574195193417476, 'bagging_temperature': 0.4899860321953732, 'random_strength': 0.002235000366155628}. Best is trial 0 with value: -422.2427330412862.\n",
      "[I 2025-01-09 11:00:10,259] Trial 4 finished with value: -331.8879531762377 and parameters: {'adj_close': False, 'volume': True, 'weekly_price_diff': True, 'range': False, 'gap': True, 'volatility': True, 'volume_ma': False, 'volume_ratio': False, 'rsi_2w': True, 'normalized_rsi_2w': True, 'momentum_4w': True, 'momentum_8w': False, 'ema12': False, 'ema26': False, 'macd': True, 'signal_line': True, 'MACD_Distance': True, 'macd_short': True, 'macd_long': True, 'macd_diff': True, 'low14': False, 'high14': False, '%K': False, '%D': True, 'Stochastic_K_D_Distance': True, 'obv': False, 'vwap': True, 'VWAP_Distance': True, 'hl': True, 'hc': True, 'lc': False, 'tr': True, 'atr': False, 'ATR_Percentage': True, 'Pivot': False, 'Pivot_Distance': True, 'Support_Distance': False, 'Resistance_Distance': False, 'weekly_return': False, 'adj_close_lag_1w': True, 'volume_lag_1w': False, 'weekly_return_lag_1w': False, 'adj_close_lag_2w': True, 'volume_lag_2w': True, 'weekly_return_lag_2w': False, 'adj_close_lag_3w': True, 'volume_lag_3w': True, 'weekly_return_lag_3w': False, 'adj_close_lag_4w': False, 'volume_lag_4w': False, 'weekly_return_lag_4w': True, 'price_to_range_ratio': True, 'volume_change': False, 'adj_close_change': True, 'momentum_2w': False, 'weekly_return_lag_5w': True, 'weekly_return_lag_6w': False, 'weekly_return_lag_7w': True, 'weekly_return_lag_8w': False, 'rolling_mean_4w': True, 'rolling_std_4w': False, 'bollinger_upper': True, 'bollinger_lower': False, 'bollinger_bandwidth': True, 'rolling_skew_4w': True, 'rolling_kurt_4w': True, 'sharpe_ratio': False, 'day_of_week': True, 'week_of_year': True, 'month': True, 'iterations': 394, 'learning_rate': 0.021226158658797064, 'depth': 6, 'l2_leaf_reg': 0.025826195558592398, 'bagging_temperature': 0.008406776331100652, 'random_strength': 0.06473027611643306}. Best is trial 0 with value: -422.2427330412862.\n",
      "[I 2025-01-09 11:01:28,179] Trial 5 finished with value: -360.8566020427134 and parameters: {'adj_close': False, 'volume': False, 'weekly_price_diff': True, 'range': False, 'gap': True, 'volatility': True, 'volume_ma': True, 'volume_ratio': False, 'rsi_2w': True, 'normalized_rsi_2w': False, 'momentum_4w': False, 'momentum_8w': True, 'ema12': True, 'ema26': True, 'macd': False, 'signal_line': False, 'MACD_Distance': False, 'macd_short': True, 'macd_long': True, 'macd_diff': False, 'low14': False, 'high14': False, '%K': False, '%D': True, 'Stochastic_K_D_Distance': True, 'obv': True, 'vwap': False, 'VWAP_Distance': False, 'hl': False, 'hc': False, 'lc': False, 'tr': True, 'atr': False, 'ATR_Percentage': False, 'Pivot': True, 'Pivot_Distance': False, 'Support_Distance': True, 'Resistance_Distance': False, 'weekly_return': False, 'adj_close_lag_1w': False, 'volume_lag_1w': True, 'weekly_return_lag_1w': True, 'adj_close_lag_2w': False, 'volume_lag_2w': False, 'weekly_return_lag_2w': False, 'adj_close_lag_3w': False, 'volume_lag_3w': True, 'weekly_return_lag_3w': False, 'adj_close_lag_4w': False, 'volume_lag_4w': False, 'weekly_return_lag_4w': False, 'price_to_range_ratio': False, 'volume_change': True, 'adj_close_change': True, 'momentum_2w': True, 'weekly_return_lag_5w': True, 'weekly_return_lag_6w': True, 'weekly_return_lag_7w': True, 'weekly_return_lag_8w': False, 'rolling_mean_4w': True, 'rolling_std_4w': True, 'bollinger_upper': False, 'bollinger_lower': True, 'bollinger_bandwidth': False, 'rolling_skew_4w': True, 'rolling_kurt_4w': True, 'sharpe_ratio': False, 'day_of_week': False, 'week_of_year': True, 'month': True, 'iterations': 282, 'learning_rate': 0.03531356614648031, 'depth': 14, 'l2_leaf_reg': 5.53776773096974, 'bagging_temperature': 0.7341880979931514, 'random_strength': 0.0033872641005485947}. Best is trial 0 with value: -422.2427330412862.\n",
      "[I 2025-01-09 11:02:36,973] Trial 6 finished with value: -284.1462525280558 and parameters: {'adj_close': False, 'volume': True, 'weekly_price_diff': False, 'range': False, 'gap': True, 'volatility': True, 'volume_ma': True, 'volume_ratio': False, 'rsi_2w': True, 'normalized_rsi_2w': True, 'momentum_4w': False, 'momentum_8w': True, 'ema12': False, 'ema26': False, 'macd': False, 'signal_line': False, 'MACD_Distance': False, 'macd_short': False, 'macd_long': True, 'macd_diff': True, 'low14': False, 'high14': False, '%K': True, '%D': False, 'Stochastic_K_D_Distance': False, 'obv': False, 'vwap': False, 'VWAP_Distance': True, 'hl': True, 'hc': False, 'lc': True, 'tr': True, 'atr': False, 'ATR_Percentage': False, 'Pivot': True, 'Pivot_Distance': False, 'Support_Distance': False, 'Resistance_Distance': False, 'weekly_return': True, 'adj_close_lag_1w': False, 'volume_lag_1w': False, 'weekly_return_lag_1w': False, 'adj_close_lag_2w': True, 'volume_lag_2w': True, 'weekly_return_lag_2w': False, 'adj_close_lag_3w': False, 'volume_lag_3w': False, 'weekly_return_lag_3w': False, 'adj_close_lag_4w': True, 'volume_lag_4w': True, 'weekly_return_lag_4w': False, 'price_to_range_ratio': False, 'volume_change': True, 'adj_close_change': False, 'momentum_2w': True, 'weekly_return_lag_5w': True, 'weekly_return_lag_6w': True, 'weekly_return_lag_7w': False, 'weekly_return_lag_8w': True, 'rolling_mean_4w': False, 'rolling_std_4w': True, 'bollinger_upper': False, 'bollinger_lower': False, 'bollinger_bandwidth': True, 'rolling_skew_4w': False, 'rolling_kurt_4w': True, 'sharpe_ratio': False, 'day_of_week': True, 'week_of_year': False, 'month': False, 'iterations': 499, 'learning_rate': 0.011235966884092178, 'depth': 13, 'l2_leaf_reg': 4.49162718456212, 'bagging_temperature': 0.36934096933089644, 'random_strength': 0.03982605517401761}. Best is trial 0 with value: -422.2427330412862.\n",
      "[I 2025-01-09 11:02:42,104] Trial 7 finished with value: -334.2137484213697 and parameters: {'adj_close': False, 'volume': True, 'weekly_price_diff': True, 'range': True, 'gap': True, 'volatility': True, 'volume_ma': False, 'volume_ratio': True, 'rsi_2w': True, 'normalized_rsi_2w': False, 'momentum_4w': True, 'momentum_8w': False, 'ema12': False, 'ema26': True, 'macd': False, 'signal_line': True, 'MACD_Distance': False, 'macd_short': True, 'macd_long': False, 'macd_diff': False, 'low14': True, 'high14': False, '%K': True, '%D': False, 'Stochastic_K_D_Distance': True, 'obv': True, 'vwap': False, 'VWAP_Distance': False, 'hl': False, 'hc': False, 'lc': False, 'tr': False, 'atr': True, 'ATR_Percentage': False, 'Pivot': True, 'Pivot_Distance': True, 'Support_Distance': True, 'Resistance_Distance': False, 'weekly_return': True, 'adj_close_lag_1w': False, 'volume_lag_1w': False, 'weekly_return_lag_1w': True, 'adj_close_lag_2w': True, 'volume_lag_2w': True, 'weekly_return_lag_2w': True, 'adj_close_lag_3w': False, 'volume_lag_3w': False, 'weekly_return_lag_3w': True, 'adj_close_lag_4w': False, 'volume_lag_4w': False, 'weekly_return_lag_4w': True, 'price_to_range_ratio': True, 'volume_change': True, 'adj_close_change': False, 'momentum_2w': True, 'weekly_return_lag_5w': False, 'weekly_return_lag_6w': True, 'weekly_return_lag_7w': True, 'weekly_return_lag_8w': True, 'rolling_mean_4w': True, 'rolling_std_4w': True, 'bollinger_upper': False, 'bollinger_lower': True, 'bollinger_bandwidth': True, 'rolling_skew_4w': True, 'rolling_kurt_4w': False, 'sharpe_ratio': True, 'day_of_week': False, 'week_of_year': True, 'month': False, 'iterations': 347, 'learning_rate': 0.03397285219076015, 'depth': 4, 'l2_leaf_reg': 1.0657176605580925, 'bagging_temperature': 0.450466481926149, 'random_strength': 0.31971915584924326}. Best is trial 0 with value: -422.2427330412862.\n",
      "[I 2025-01-09 11:03:19,821] Trial 8 finished with value: -383.8877964888326 and parameters: {'adj_close': False, 'volume': True, 'weekly_price_diff': False, 'range': True, 'gap': False, 'volatility': True, 'volume_ma': False, 'volume_ratio': True, 'rsi_2w': True, 'normalized_rsi_2w': False, 'momentum_4w': False, 'momentum_8w': False, 'ema12': True, 'ema26': True, 'macd': True, 'signal_line': False, 'MACD_Distance': False, 'macd_short': True, 'macd_long': False, 'macd_diff': False, 'low14': True, 'high14': True, '%K': True, '%D': False, 'Stochastic_K_D_Distance': True, 'obv': False, 'vwap': True, 'VWAP_Distance': False, 'hl': True, 'hc': False, 'lc': False, 'tr': True, 'atr': False, 'ATR_Percentage': True, 'Pivot': False, 'Pivot_Distance': True, 'Support_Distance': False, 'Resistance_Distance': False, 'weekly_return': False, 'adj_close_lag_1w': False, 'volume_lag_1w': False, 'weekly_return_lag_1w': False, 'adj_close_lag_2w': False, 'volume_lag_2w': False, 'weekly_return_lag_2w': False, 'adj_close_lag_3w': True, 'volume_lag_3w': True, 'weekly_return_lag_3w': False, 'adj_close_lag_4w': False, 'volume_lag_4w': True, 'weekly_return_lag_4w': False, 'price_to_range_ratio': False, 'volume_change': False, 'adj_close_change': False, 'momentum_2w': False, 'weekly_return_lag_5w': False, 'weekly_return_lag_6w': True, 'weekly_return_lag_7w': False, 'weekly_return_lag_8w': True, 'rolling_mean_4w': False, 'rolling_std_4w': False, 'bollinger_upper': True, 'bollinger_lower': True, 'bollinger_bandwidth': True, 'rolling_skew_4w': True, 'rolling_kurt_4w': False, 'sharpe_ratio': False, 'day_of_week': True, 'week_of_year': False, 'month': True, 'iterations': 974, 'learning_rate': 0.027582087174979023, 'depth': 13, 'l2_leaf_reg': 0.014057367337097127, 'bagging_temperature': 0.7005276339572806, 'random_strength': 0.04047184229845193}. Best is trial 0 with value: -422.2427330412862.\n",
      "[I 2025-01-09 11:06:35,812] Trial 9 finished with value: -396.442436238311 and parameters: {'adj_close': True, 'volume': True, 'weekly_price_diff': False, 'range': True, 'gap': True, 'volatility': True, 'volume_ma': False, 'volume_ratio': False, 'rsi_2w': True, 'normalized_rsi_2w': True, 'momentum_4w': True, 'momentum_8w': True, 'ema12': True, 'ema26': True, 'macd': True, 'signal_line': False, 'MACD_Distance': True, 'macd_short': True, 'macd_long': False, 'macd_diff': True, 'low14': True, 'high14': False, '%K': False, '%D': False, 'Stochastic_K_D_Distance': True, 'obv': True, 'vwap': True, 'VWAP_Distance': False, 'hl': True, 'hc': True, 'lc': False, 'tr': True, 'atr': True, 'ATR_Percentage': False, 'Pivot': True, 'Pivot_Distance': False, 'Support_Distance': False, 'Resistance_Distance': True, 'weekly_return': True, 'adj_close_lag_1w': False, 'volume_lag_1w': True, 'weekly_return_lag_1w': True, 'adj_close_lag_2w': False, 'volume_lag_2w': True, 'weekly_return_lag_2w': True, 'adj_close_lag_3w': True, 'volume_lag_3w': False, 'weekly_return_lag_3w': True, 'adj_close_lag_4w': True, 'volume_lag_4w': False, 'weekly_return_lag_4w': False, 'price_to_range_ratio': False, 'volume_change': True, 'adj_close_change': False, 'momentum_2w': True, 'weekly_return_lag_5w': True, 'weekly_return_lag_6w': False, 'weekly_return_lag_7w': False, 'weekly_return_lag_8w': False, 'rolling_mean_4w': True, 'rolling_std_4w': True, 'bollinger_upper': True, 'bollinger_lower': False, 'bollinger_bandwidth': True, 'rolling_skew_4w': False, 'rolling_kurt_4w': False, 'sharpe_ratio': False, 'day_of_week': False, 'week_of_year': False, 'month': False, 'iterations': 892, 'learning_rate': 0.2982242225661009, 'depth': 15, 'l2_leaf_reg': 2.148321249150974, 'bagging_temperature': 0.34215820600621694, 'random_strength': 0.2594220035511327}. Best is trial 0 with value: -422.2427330412862.\n",
      "[I 2025-01-09 11:06:35,814] A new study created in memory with name: no-name-5f530609-0317-44f1-b970-f86a577705b5\n"
     ]
    },
    {
     "name": "stdout",
     "output_type": "stream",
     "text": [
      "Optimizing catboost for Sharpe Ratio...\n"
     ]
    },
    {
     "name": "stderr",
     "output_type": "stream",
     "text": [
      "[I 2025-01-09 11:07:18,172] Trial 0 finished with value: -1.1922845602507837 and parameters: {'adj_close': True, 'volume': True, 'weekly_price_diff': False, 'range': False, 'gap': True, 'volatility': False, 'volume_ma': True, 'volume_ratio': True, 'rsi_2w': True, 'normalized_rsi_2w': False, 'momentum_4w': True, 'momentum_8w': False, 'ema12': False, 'ema26': False, 'macd': False, 'signal_line': False, 'MACD_Distance': False, 'macd_short': False, 'macd_long': False, 'macd_diff': False, 'low14': False, 'high14': False, '%K': False, '%D': True, 'Stochastic_K_D_Distance': False, 'obv': True, 'vwap': True, 'VWAP_Distance': True, 'hl': True, 'hc': False, 'lc': True, 'tr': True, 'atr': False, 'ATR_Percentage': False, 'Pivot': False, 'Pivot_Distance': True, 'Support_Distance': True, 'Resistance_Distance': True, 'weekly_return': True, 'adj_close_lag_1w': True, 'volume_lag_1w': True, 'weekly_return_lag_1w': True, 'adj_close_lag_2w': True, 'volume_lag_2w': False, 'weekly_return_lag_2w': False, 'adj_close_lag_3w': False, 'volume_lag_3w': True, 'weekly_return_lag_3w': False, 'adj_close_lag_4w': False, 'volume_lag_4w': False, 'weekly_return_lag_4w': False, 'price_to_range_ratio': True, 'volume_change': False, 'adj_close_change': True, 'momentum_2w': False, 'weekly_return_lag_5w': True, 'weekly_return_lag_6w': False, 'weekly_return_lag_7w': True, 'weekly_return_lag_8w': False, 'rolling_mean_4w': False, 'rolling_std_4w': True, 'bollinger_upper': True, 'bollinger_lower': False, 'bollinger_bandwidth': False, 'rolling_skew_4w': False, 'rolling_kurt_4w': True, 'sharpe_ratio': False, 'day_of_week': False, 'week_of_year': False, 'month': True, 'iterations': 361, 'learning_rate': 0.01269959095732881, 'depth': 12, 'l2_leaf_reg': 0.05785531010378102, 'bagging_temperature': 0.5094453116047492, 'random_strength': 1.2542423453864615}. Best is trial 0 with value: -1.1922845602507837.\n",
      "[I 2025-01-09 11:07:22,913] Trial 1 finished with value: -1.0168916484862833 and parameters: {'adj_close': True, 'volume': False, 'weekly_price_diff': False, 'range': False, 'gap': False, 'volatility': True, 'volume_ma': True, 'volume_ratio': True, 'rsi_2w': False, 'normalized_rsi_2w': False, 'momentum_4w': True, 'momentum_8w': True, 'ema12': False, 'ema26': False, 'macd': False, 'signal_line': True, 'MACD_Distance': True, 'macd_short': True, 'macd_long': False, 'macd_diff': True, 'low14': True, 'high14': False, '%K': True, '%D': False, 'Stochastic_K_D_Distance': True, 'obv': False, 'vwap': False, 'VWAP_Distance': True, 'hl': True, 'hc': True, 'lc': True, 'tr': False, 'atr': False, 'ATR_Percentage': False, 'Pivot': True, 'Pivot_Distance': False, 'Support_Distance': False, 'Resistance_Distance': False, 'weekly_return': False, 'adj_close_lag_1w': True, 'volume_lag_1w': False, 'weekly_return_lag_1w': True, 'adj_close_lag_2w': True, 'volume_lag_2w': True, 'weekly_return_lag_2w': True, 'adj_close_lag_3w': False, 'volume_lag_3w': False, 'weekly_return_lag_3w': True, 'adj_close_lag_4w': False, 'volume_lag_4w': False, 'weekly_return_lag_4w': True, 'price_to_range_ratio': True, 'volume_change': True, 'adj_close_change': False, 'momentum_2w': True, 'weekly_return_lag_5w': False, 'weekly_return_lag_6w': True, 'weekly_return_lag_7w': False, 'weekly_return_lag_8w': True, 'rolling_mean_4w': False, 'rolling_std_4w': False, 'bollinger_upper': True, 'bollinger_lower': False, 'bollinger_bandwidth': False, 'rolling_skew_4w': False, 'rolling_kurt_4w': False, 'sharpe_ratio': False, 'day_of_week': False, 'week_of_year': True, 'month': True, 'iterations': 188, 'learning_rate': 0.020287844262011356, 'depth': 5, 'l2_leaf_reg': 0.176376116022097, 'bagging_temperature': 0.41538188950438204, 'random_strength': 2.447752959153171}. Best is trial 0 with value: -1.1922845602507837.\n",
      "[I 2025-01-09 11:07:27,703] Trial 2 finished with value: -0.7802608432503992 and parameters: {'adj_close': False, 'volume': True, 'weekly_price_diff': False, 'range': False, 'gap': True, 'volatility': False, 'volume_ma': True, 'volume_ratio': False, 'rsi_2w': True, 'normalized_rsi_2w': True, 'momentum_4w': True, 'momentum_8w': True, 'ema12': True, 'ema26': True, 'macd': False, 'signal_line': True, 'MACD_Distance': True, 'macd_short': False, 'macd_long': True, 'macd_diff': True, 'low14': False, 'high14': True, '%K': False, '%D': False, 'Stochastic_K_D_Distance': False, 'obv': True, 'vwap': True, 'VWAP_Distance': False, 'hl': False, 'hc': True, 'lc': False, 'tr': False, 'atr': False, 'ATR_Percentage': False, 'Pivot': False, 'Pivot_Distance': True, 'Support_Distance': False, 'Resistance_Distance': False, 'weekly_return': False, 'adj_close_lag_1w': True, 'volume_lag_1w': True, 'weekly_return_lag_1w': True, 'adj_close_lag_2w': False, 'volume_lag_2w': True, 'weekly_return_lag_2w': False, 'adj_close_lag_3w': False, 'volume_lag_3w': False, 'weekly_return_lag_3w': False, 'adj_close_lag_4w': False, 'volume_lag_4w': False, 'weekly_return_lag_4w': True, 'price_to_range_ratio': True, 'volume_change': True, 'adj_close_change': False, 'momentum_2w': False, 'weekly_return_lag_5w': False, 'weekly_return_lag_6w': True, 'weekly_return_lag_7w': False, 'weekly_return_lag_8w': True, 'rolling_mean_4w': False, 'rolling_std_4w': True, 'bollinger_upper': False, 'bollinger_lower': True, 'bollinger_bandwidth': False, 'rolling_skew_4w': True, 'rolling_kurt_4w': False, 'sharpe_ratio': True, 'day_of_week': False, 'week_of_year': False, 'month': False, 'iterations': 456, 'learning_rate': 0.19326979777526293, 'depth': 4, 'l2_leaf_reg': 0.0010202822771337035, 'bagging_temperature': 0.7917360948827026, 'random_strength': 0.056494021256541786}. Best is trial 0 with value: -1.1922845602507837.\n",
      "[I 2025-01-09 11:07:33,331] Trial 3 finished with value: -1.105776547112646 and parameters: {'adj_close': True, 'volume': True, 'weekly_price_diff': False, 'range': False, 'gap': True, 'volatility': True, 'volume_ma': True, 'volume_ratio': True, 'rsi_2w': False, 'normalized_rsi_2w': False, 'momentum_4w': True, 'momentum_8w': False, 'ema12': True, 'ema26': False, 'macd': True, 'signal_line': False, 'MACD_Distance': False, 'macd_short': True, 'macd_long': True, 'macd_diff': True, 'low14': False, 'high14': True, '%K': False, '%D': True, 'Stochastic_K_D_Distance': True, 'obv': False, 'vwap': True, 'VWAP_Distance': False, 'hl': True, 'hc': False, 'lc': True, 'tr': False, 'atr': True, 'ATR_Percentage': True, 'Pivot': False, 'Pivot_Distance': True, 'Support_Distance': True, 'Resistance_Distance': False, 'weekly_return': True, 'adj_close_lag_1w': True, 'volume_lag_1w': False, 'weekly_return_lag_1w': True, 'adj_close_lag_2w': True, 'volume_lag_2w': True, 'weekly_return_lag_2w': True, 'adj_close_lag_3w': False, 'volume_lag_3w': False, 'weekly_return_lag_3w': True, 'adj_close_lag_4w': True, 'volume_lag_4w': False, 'weekly_return_lag_4w': True, 'price_to_range_ratio': True, 'volume_change': False, 'adj_close_change': False, 'momentum_2w': False, 'weekly_return_lag_5w': False, 'weekly_return_lag_6w': False, 'weekly_return_lag_7w': True, 'weekly_return_lag_8w': False, 'rolling_mean_4w': True, 'rolling_std_4w': True, 'bollinger_upper': True, 'bollinger_lower': True, 'bollinger_bandwidth': False, 'rolling_skew_4w': False, 'rolling_kurt_4w': False, 'sharpe_ratio': False, 'day_of_week': True, 'week_of_year': True, 'month': True, 'iterations': 322, 'learning_rate': 0.02062494335738418, 'depth': 8, 'l2_leaf_reg': 0.07949742403491068, 'bagging_temperature': 0.42271766154918866, 'random_strength': 0.004266997458253008}. Best is trial 0 with value: -1.1922845602507837.\n",
      "[I 2025-01-09 11:07:58,704] Trial 4 finished with value: -1.2884636063026988 and parameters: {'adj_close': True, 'volume': False, 'weekly_price_diff': True, 'range': False, 'gap': False, 'volatility': False, 'volume_ma': False, 'volume_ratio': True, 'rsi_2w': True, 'normalized_rsi_2w': True, 'momentum_4w': False, 'momentum_8w': False, 'ema12': True, 'ema26': True, 'macd': False, 'signal_line': True, 'MACD_Distance': False, 'macd_short': True, 'macd_long': True, 'macd_diff': True, 'low14': True, 'high14': True, '%K': False, '%D': True, 'Stochastic_K_D_Distance': True, 'obv': True, 'vwap': False, 'VWAP_Distance': True, 'hl': False, 'hc': False, 'lc': True, 'tr': False, 'atr': False, 'ATR_Percentage': True, 'Pivot': False, 'Pivot_Distance': False, 'Support_Distance': True, 'Resistance_Distance': True, 'weekly_return': True, 'adj_close_lag_1w': False, 'volume_lag_1w': True, 'weekly_return_lag_1w': True, 'adj_close_lag_2w': True, 'volume_lag_2w': True, 'weekly_return_lag_2w': True, 'adj_close_lag_3w': False, 'volume_lag_3w': True, 'weekly_return_lag_3w': False, 'adj_close_lag_4w': False, 'volume_lag_4w': False, 'weekly_return_lag_4w': False, 'price_to_range_ratio': True, 'volume_change': False, 'adj_close_change': False, 'momentum_2w': True, 'weekly_return_lag_5w': True, 'weekly_return_lag_6w': False, 'weekly_return_lag_7w': True, 'weekly_return_lag_8w': True, 'rolling_mean_4w': True, 'rolling_std_4w': False, 'bollinger_upper': False, 'bollinger_lower': True, 'bollinger_bandwidth': False, 'rolling_skew_4w': True, 'rolling_kurt_4w': False, 'sharpe_ratio': True, 'day_of_week': False, 'week_of_year': False, 'month': False, 'iterations': 135, 'learning_rate': 0.020718091576192015, 'depth': 12, 'l2_leaf_reg': 0.001602581375938252, 'bagging_temperature': 0.6926896187926265, 'random_strength': 1.69490475001444}. Best is trial 4 with value: -1.2884636063026988.\n",
      "[I 2025-01-09 11:08:03,428] Trial 5 finished with value: -1.2392037583691513 and parameters: {'adj_close': False, 'volume': True, 'weekly_price_diff': False, 'range': False, 'gap': False, 'volatility': False, 'volume_ma': False, 'volume_ratio': False, 'rsi_2w': False, 'normalized_rsi_2w': False, 'momentum_4w': True, 'momentum_8w': False, 'ema12': True, 'ema26': True, 'macd': False, 'signal_line': False, 'MACD_Distance': True, 'macd_short': True, 'macd_long': False, 'macd_diff': True, 'low14': False, 'high14': True, '%K': False, '%D': True, 'Stochastic_K_D_Distance': True, 'obv': True, 'vwap': False, 'VWAP_Distance': True, 'hl': False, 'hc': False, 'lc': False, 'tr': False, 'atr': False, 'ATR_Percentage': False, 'Pivot': True, 'Pivot_Distance': False, 'Support_Distance': False, 'Resistance_Distance': True, 'weekly_return': False, 'adj_close_lag_1w': True, 'volume_lag_1w': True, 'weekly_return_lag_1w': False, 'adj_close_lag_2w': False, 'volume_lag_2w': True, 'weekly_return_lag_2w': False, 'adj_close_lag_3w': False, 'volume_lag_3w': False, 'weekly_return_lag_3w': False, 'adj_close_lag_4w': False, 'volume_lag_4w': False, 'weekly_return_lag_4w': True, 'price_to_range_ratio': True, 'volume_change': False, 'adj_close_change': False, 'momentum_2w': False, 'weekly_return_lag_5w': False, 'weekly_return_lag_6w': True, 'weekly_return_lag_7w': False, 'weekly_return_lag_8w': False, 'rolling_mean_4w': False, 'rolling_std_4w': True, 'bollinger_upper': False, 'bollinger_lower': True, 'bollinger_bandwidth': False, 'rolling_skew_4w': True, 'rolling_kurt_4w': False, 'sharpe_ratio': True, 'day_of_week': True, 'week_of_year': True, 'month': False, 'iterations': 715, 'learning_rate': 0.012931926262909687, 'depth': 5, 'l2_leaf_reg': 3.7837353456853196, 'bagging_temperature': 0.5114855943796758, 'random_strength': 0.14806420656248956}. Best is trial 4 with value: -1.2884636063026988.\n",
      "[I 2025-01-09 11:08:33,204] Trial 6 finished with value: -1.183840520679373 and parameters: {'adj_close': True, 'volume': True, 'weekly_price_diff': False, 'range': True, 'gap': False, 'volatility': True, 'volume_ma': True, 'volume_ratio': False, 'rsi_2w': True, 'normalized_rsi_2w': True, 'momentum_4w': False, 'momentum_8w': False, 'ema12': True, 'ema26': True, 'macd': True, 'signal_line': True, 'MACD_Distance': True, 'macd_short': True, 'macd_long': False, 'macd_diff': True, 'low14': False, 'high14': True, '%K': True, '%D': False, 'Stochastic_K_D_Distance': True, 'obv': True, 'vwap': True, 'VWAP_Distance': True, 'hl': False, 'hc': True, 'lc': False, 'tr': False, 'atr': False, 'ATR_Percentage': False, 'Pivot': True, 'Pivot_Distance': False, 'Support_Distance': True, 'Resistance_Distance': False, 'weekly_return': False, 'adj_close_lag_1w': True, 'volume_lag_1w': False, 'weekly_return_lag_1w': False, 'adj_close_lag_2w': True, 'volume_lag_2w': True, 'weekly_return_lag_2w': False, 'adj_close_lag_3w': True, 'volume_lag_3w': False, 'weekly_return_lag_3w': True, 'adj_close_lag_4w': False, 'volume_lag_4w': True, 'weekly_return_lag_4w': False, 'price_to_range_ratio': True, 'volume_change': False, 'adj_close_change': True, 'momentum_2w': False, 'weekly_return_lag_5w': False, 'weekly_return_lag_6w': True, 'weekly_return_lag_7w': False, 'weekly_return_lag_8w': True, 'rolling_mean_4w': True, 'rolling_std_4w': False, 'bollinger_upper': True, 'bollinger_lower': False, 'bollinger_bandwidth': True, 'rolling_skew_4w': True, 'rolling_kurt_4w': True, 'sharpe_ratio': True, 'day_of_week': False, 'week_of_year': False, 'month': False, 'iterations': 939, 'learning_rate': 0.033455484281708664, 'depth': 12, 'l2_leaf_reg': 0.42589714378708843, 'bagging_temperature': 0.055137356667340987, 'random_strength': 2.5206780476723725}. Best is trial 4 with value: -1.2884636063026988.\n",
      "[I 2025-01-09 11:08:42,756] Trial 7 finished with value: -1.0058177931195422 and parameters: {'adj_close': False, 'volume': False, 'weekly_price_diff': False, 'range': False, 'gap': False, 'volatility': False, 'volume_ma': True, 'volume_ratio': True, 'rsi_2w': True, 'normalized_rsi_2w': False, 'momentum_4w': True, 'momentum_8w': False, 'ema12': False, 'ema26': True, 'macd': True, 'signal_line': False, 'MACD_Distance': True, 'macd_short': False, 'macd_long': False, 'macd_diff': True, 'low14': True, 'high14': False, '%K': True, '%D': True, 'Stochastic_K_D_Distance': True, 'obv': False, 'vwap': True, 'VWAP_Distance': True, 'hl': True, 'hc': True, 'lc': False, 'tr': True, 'atr': True, 'ATR_Percentage': False, 'Pivot': True, 'Pivot_Distance': False, 'Support_Distance': False, 'Resistance_Distance': True, 'weekly_return': True, 'adj_close_lag_1w': False, 'volume_lag_1w': True, 'weekly_return_lag_1w': False, 'adj_close_lag_2w': True, 'volume_lag_2w': False, 'weekly_return_lag_2w': False, 'adj_close_lag_3w': False, 'volume_lag_3w': True, 'weekly_return_lag_3w': False, 'adj_close_lag_4w': False, 'volume_lag_4w': False, 'weekly_return_lag_4w': True, 'price_to_range_ratio': False, 'volume_change': True, 'adj_close_change': False, 'momentum_2w': True, 'weekly_return_lag_5w': True, 'weekly_return_lag_6w': True, 'weekly_return_lag_7w': False, 'weekly_return_lag_8w': False, 'rolling_mean_4w': True, 'rolling_std_4w': True, 'bollinger_upper': True, 'bollinger_lower': False, 'bollinger_bandwidth': True, 'rolling_skew_4w': True, 'rolling_kurt_4w': False, 'sharpe_ratio': False, 'day_of_week': False, 'week_of_year': False, 'month': True, 'iterations': 774, 'learning_rate': 0.05288365021797935, 'depth': 10, 'l2_leaf_reg': 0.01367771473831028, 'bagging_temperature': 0.775761361141171, 'random_strength': 0.0193772633078345}. Best is trial 4 with value: -1.2884636063026988.\n",
      "[I 2025-01-09 11:08:57,074] Trial 8 finished with value: -1.0999892411808878 and parameters: {'adj_close': True, 'volume': False, 'weekly_price_diff': False, 'range': False, 'gap': True, 'volatility': False, 'volume_ma': True, 'volume_ratio': False, 'rsi_2w': True, 'normalized_rsi_2w': False, 'momentum_4w': True, 'momentum_8w': False, 'ema12': False, 'ema26': True, 'macd': False, 'signal_line': False, 'MACD_Distance': True, 'macd_short': True, 'macd_long': False, 'macd_diff': True, 'low14': True, 'high14': False, '%K': True, '%D': True, 'Stochastic_K_D_Distance': False, 'obv': False, 'vwap': True, 'VWAP_Distance': True, 'hl': False, 'hc': True, 'lc': True, 'tr': True, 'atr': True, 'ATR_Percentage': False, 'Pivot': False, 'Pivot_Distance': True, 'Support_Distance': False, 'Resistance_Distance': False, 'weekly_return': False, 'adj_close_lag_1w': True, 'volume_lag_1w': False, 'weekly_return_lag_1w': False, 'adj_close_lag_2w': True, 'volume_lag_2w': True, 'weekly_return_lag_2w': True, 'adj_close_lag_3w': False, 'volume_lag_3w': False, 'weekly_return_lag_3w': True, 'adj_close_lag_4w': True, 'volume_lag_4w': True, 'weekly_return_lag_4w': False, 'price_to_range_ratio': False, 'volume_change': False, 'adj_close_change': True, 'momentum_2w': True, 'weekly_return_lag_5w': False, 'weekly_return_lag_6w': True, 'weekly_return_lag_7w': False, 'weekly_return_lag_8w': True, 'rolling_mean_4w': True, 'rolling_std_4w': False, 'bollinger_upper': False, 'bollinger_lower': True, 'bollinger_bandwidth': False, 'rolling_skew_4w': True, 'rolling_kurt_4w': False, 'sharpe_ratio': False, 'day_of_week': True, 'week_of_year': False, 'month': True, 'iterations': 650, 'learning_rate': 0.15795961817119084, 'depth': 11, 'l2_leaf_reg': 1.602937190483453, 'bagging_temperature': 0.8736659944273852, 'random_strength': 0.002884958198575585}. Best is trial 4 with value: -1.2884636063026988.\n",
      "[I 2025-01-09 11:09:35,993] Trial 9 finished with value: -1.5380237396524945 and parameters: {'adj_close': False, 'volume': False, 'weekly_price_diff': False, 'range': True, 'gap': True, 'volatility': False, 'volume_ma': False, 'volume_ratio': True, 'rsi_2w': False, 'normalized_rsi_2w': True, 'momentum_4w': True, 'momentum_8w': True, 'ema12': False, 'ema26': True, 'macd': False, 'signal_line': False, 'MACD_Distance': False, 'macd_short': True, 'macd_long': True, 'macd_diff': False, 'low14': False, 'high14': False, '%K': True, '%D': False, 'Stochastic_K_D_Distance': True, 'obv': True, 'vwap': False, 'VWAP_Distance': False, 'hl': True, 'hc': True, 'lc': True, 'tr': True, 'atr': False, 'ATR_Percentage': True, 'Pivot': False, 'Pivot_Distance': False, 'Support_Distance': True, 'Resistance_Distance': False, 'weekly_return': True, 'adj_close_lag_1w': False, 'volume_lag_1w': False, 'weekly_return_lag_1w': False, 'adj_close_lag_2w': False, 'volume_lag_2w': False, 'weekly_return_lag_2w': False, 'adj_close_lag_3w': False, 'volume_lag_3w': True, 'weekly_return_lag_3w': False, 'adj_close_lag_4w': False, 'volume_lag_4w': True, 'weekly_return_lag_4w': True, 'price_to_range_ratio': True, 'volume_change': False, 'adj_close_change': False, 'momentum_2w': False, 'weekly_return_lag_5w': False, 'weekly_return_lag_6w': True, 'weekly_return_lag_7w': True, 'weekly_return_lag_8w': True, 'rolling_mean_4w': True, 'rolling_std_4w': False, 'bollinger_upper': True, 'bollinger_lower': False, 'bollinger_bandwidth': True, 'rolling_skew_4w': False, 'rolling_kurt_4w': True, 'sharpe_ratio': False, 'day_of_week': True, 'week_of_year': False, 'month': False, 'iterations': 231, 'learning_rate': 0.1221781856263041, 'depth': 13, 'l2_leaf_reg': 0.09107048484095295, 'bagging_temperature': 0.02265405611785032, 'random_strength': 0.04015377900238462}. Best is trial 9 with value: -1.5380237396524945.\n"
     ]
    }
   ],
   "source": [
    "model_types = [\"lightgbm\", \"xgboost\", \"catboost\"]\n",
    "results = {}\n",
    "\n",
    "for model_type in model_types:\n",
    "    print(f\"Optimizing {model_type} for ROI...\")\n",
    "    roi_study = optuna.create_study(direction='minimize')\n",
    "    roi_study.optimize(lambda trial: generic_objective(trial, model_type, \"roi\"), n_trials=10)\n",
    "    best_roi_params = roi_study.best_params\n",
    "\n",
    "    print(f\"Optimizing {model_type} for Sharpe Ratio...\")\n",
    "    sharpe_study = optuna.create_study(direction='minimize')\n",
    "    sharpe_study.optimize(lambda trial: generic_objective(trial, model_type, \"sharpe_ratio\"), n_trials=10)\n",
    "    best_sharpe_params = sharpe_study.best_params\n",
    "\n",
    "    results[model_type] = {\n",
    "        \"best_roi_params\": best_roi_params,\n",
    "        \"best_sharpe_params\": best_sharpe_params\n",
    "    }"
   ]
  },
  {
   "cell_type": "code",
   "execution_count": 11,
   "metadata": {},
   "outputs": [
    {
     "name": "stdout",
     "output_type": "stream",
     "text": [
      "lightgbm ROI Model Metrics:\n",
      "  RMSE: 0.0591\n",
      "  MAE: 0.0424\n",
      "  ROI: 61.15%\n",
      "  Sharpe Ratio: 1.0582\n",
      "  Net Profit: 61148.55\n",
      "lightgbm Sharpe Ratio Model Metrics:\n",
      "  RMSE: 0.0582\n",
      "  MAE: 0.0417\n",
      "  ROI: 43.56%\n",
      "  Sharpe Ratio: 1.4831\n",
      "  Net Profit: 43556.56\n",
      "xgboost ROI Model Metrics:\n",
      "  RMSE: 0.0589\n",
      "  MAE: 0.0424\n",
      "  ROI: 91.44%\n",
      "  Sharpe Ratio: 1.1412\n",
      "  Net Profit: 91437.66\n",
      "xgboost Sharpe Ratio Model Metrics:\n",
      "  RMSE: 0.0581\n",
      "  MAE: 0.0410\n",
      "  ROI: 16.03%\n",
      "  Sharpe Ratio: 1.3421\n",
      "  Net Profit: 16033.41\n",
      "catboost ROI Model Metrics:\n",
      "  RMSE: 0.0571\n",
      "  MAE: 0.0407\n",
      "  ROI: 54.49%\n",
      "  Sharpe Ratio: 1.1490\n",
      "  Net Profit: 54489.02\n",
      "catboost Sharpe Ratio Model Metrics:\n",
      "  RMSE: 0.0571\n",
      "  MAE: 0.0408\n",
      "  ROI: 79.09%\n",
      "  Sharpe Ratio: 1.3168\n",
      "  Net Profit: 79091.55\n"
     ]
    }
   ],
   "source": [
    "for model_type, params in results.items():\n",
    "    # Save the best features for ROI\n",
    "    roi_features = [feature for feature in features if params['best_roi_params'].get(feature)]\n",
    "    X_train_roi = train_df[roi_features]\n",
    "    y_train_roi = train_df['next_weekly_return']\n",
    "    X_test_roi = test_df[roi_features]\n",
    "    y_test_roi = test_df['next_weekly_return']\n",
    "\n",
    "    # Extract hyperparameters for ROI model\n",
    "    roi_hyperparams = {k: v for k, v in params['best_roi_params'].items() if k not in features}\n",
    "\n",
    "    # Train and evaluate the ROI model\n",
    "    if model_type == \"lightgbm\":\n",
    "        roi_model = lgb.train(roi_hyperparams, lgb.Dataset(X_train_roi, label=y_train_roi), num_boost_round=1000)\n",
    "        predictions = roi_model.predict(X_test_roi)\n",
    "    elif model_type == \"xgboost\":\n",
    "        train_data = xgb.DMatrix(X_train_roi, label=y_train_roi)\n",
    "        test_data = xgb.DMatrix(X_test_roi)\n",
    "        roi_model = xgb.train(roi_hyperparams, train_data, num_boost_round=1000, verbose_eval=False)\n",
    "        predictions = roi_model.predict(test_data)\n",
    "    elif model_type == \"catboost\":\n",
    "        roi_model = CatBoostRegressor(**roi_hyperparams)  # Pass only hyperparameters\n",
    "        roi_model.fit(X_train_roi, y_train_roi, eval_set=(X_test_roi, y_test_roi), early_stopping_rounds=100, verbose=False)\n",
    "        predictions = roi_model.predict(X_test_roi)\n",
    "\n",
    "    # Save the ROI model and features\n",
    "    joblib.dump(roi_model, os.path.join(models_directory, f\"{model_type}_roi_model.pkl\"))\n",
    "    joblib.dump(roi_features, os.path.join(models_directory, f\"{model_type}_roi_features.pkl\"))\n",
    "\n",
    "    # Calculate and print metrics for ROI model\n",
    "    rmse = np.sqrt(mean_squared_error(y_test_roi, predictions))\n",
    "    mae = mean_absolute_error(y_test_roi, predictions)\n",
    "    predictions_df = pd.DataFrame({\n",
    "        'date': test_df['date'],\n",
    "        'stock_name': test_df['stock_name'],\n",
    "        'predicted_return': predictions\n",
    "    })\n",
    "    unique_stocks = test_df['stock_name'].unique().tolist()\n",
    "    final_portfolio_value, net_profit, roi, sharpe_ratio, _ = backtest_top3_with_sharpe(predictions_df, test_df, unique_stocks)\n",
    "\n",
    "    print(f\"{model_type} ROI Model Metrics:\")\n",
    "    print(f\"  RMSE: {rmse:.4f}\")\n",
    "    print(f\"  MAE: {mae:.4f}\")\n",
    "    print(f\"  ROI: {roi:.2f}%\")\n",
    "    print(f\"  Sharpe Ratio: {sharpe_ratio:.4f}\")\n",
    "    print(f\"  Net Profit: {net_profit:.2f}\")\n",
    "\n",
    "    # Save the best features for Sharpe Ratio\n",
    "    sharpe_features = [feature for feature in features if params['best_sharpe_params'].get(feature)]\n",
    "    X_train_sharpe = train_df[sharpe_features]\n",
    "    y_train_sharpe = train_df['next_weekly_return']\n",
    "    X_test_sharpe = test_df[sharpe_features]\n",
    "    y_test_sharpe = test_df['next_weekly_return']\n",
    "\n",
    "    # Extract hyperparameters for Sharpe Ratio model\n",
    "    sharpe_hyperparams = {k: v for k, v in params['best_sharpe_params'].items() if k not in features}\n",
    "\n",
    "    # Train and evaluate the Sharpe Ratio model\n",
    "    if model_type == \"lightgbm\":\n",
    "        sharpe_model = lgb.train(sharpe_hyperparams, lgb.Dataset(X_train_sharpe, label=y_train_sharpe), num_boost_round=1000)\n",
    "        predictions = sharpe_model.predict(X_test_sharpe)\n",
    "    elif model_type == \"xgboost\":\n",
    "        train_data = xgb.DMatrix(X_train_sharpe, label=y_train_sharpe)\n",
    "        test_data = xgb.DMatrix(X_test_sharpe)\n",
    "        sharpe_model = xgb.train(sharpe_hyperparams, train_data, num_boost_round=1000, verbose_eval=False)\n",
    "        predictions = sharpe_model.predict(test_data)\n",
    "    elif model_type == \"catboost\":\n",
    "        sharpe_model = CatBoostRegressor(**sharpe_hyperparams)\n",
    "        sharpe_model.fit(X_train_sharpe, y_train_sharpe, eval_set=(X_test_sharpe, y_test_sharpe), early_stopping_rounds=100, verbose=False)\n",
    "        predictions = sharpe_model.predict(X_test_sharpe)\n",
    "\n",
    "    # Save the Sharpe Ratio model and features\n",
    "    joblib.dump(sharpe_model, os.path.join(models_directory, f\"{model_type}_sharpe_model.pkl\"))\n",
    "    joblib.dump(sharpe_features, os.path.join(models_directory, f\"{model_type}_sharpe_features.pkl\"))\n",
    "\n",
    "    # Calculate and print metrics for Sharpe Ratio model\n",
    "    rmse = np.sqrt(mean_squared_error(y_test_sharpe, predictions))\n",
    "    mae = mean_absolute_error(y_test_sharpe, predictions)\n",
    "    predictions_df = pd.DataFrame({\n",
    "        'date': test_df['date'],\n",
    "        'stock_name': test_df['stock_name'],\n",
    "        'predicted_return': predictions\n",
    "    })\n",
    "    unique_stocks = test_df['stock_name'].unique().tolist()\n",
    "    final_portfolio_value, net_profit, roi, sharpe_ratio, _ = backtest_top3_with_sharpe(predictions_df, test_df, unique_stocks)\n",
    "\n",
    "    print(f\"{model_type} Sharpe Ratio Model Metrics:\")\n",
    "    print(f\"  RMSE: {rmse:.4f}\")\n",
    "    print(f\"  MAE: {mae:.4f}\")\n",
    "    print(f\"  ROI: {roi:.2f}%\")\n",
    "    print(f\"  Sharpe Ratio: {sharpe_ratio:.4f}\")\n",
    "    print(f\"  Net Profit: {net_profit:.2f}\")\n"
   ]
  },
  {
   "cell_type": "code",
   "execution_count": null,
   "metadata": {},
   "outputs": [],
   "source": []
  }
 ],
 "metadata": {
  "kernelspec": {
   "display_name": "Python 3",
   "language": "python",
   "name": "python3"
  },
  "language_info": {
   "codemirror_mode": {
    "name": "ipython",
    "version": 3
   },
   "file_extension": ".py",
   "mimetype": "text/x-python",
   "name": "python",
   "nbconvert_exporter": "python",
   "pygments_lexer": "ipython3",
   "version": "3.11.7"
  }
 },
 "nbformat": 4,
 "nbformat_minor": 2
}
